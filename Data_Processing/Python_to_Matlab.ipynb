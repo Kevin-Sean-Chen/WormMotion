{
 "cells": [
  {
   "cell_type": "markdown",
   "metadata": {},
   "source": [
    "## Changes collected raw worm data from Python .npz format to MATLAB .mat"
   ]
  },
  {
   "cell_type": "code",
   "execution_count": null,
   "metadata": {
    "collapsed": true
   },
   "outputs": [],
   "source": [
    "import numpy as np\n",
    "import scipy.io as sio"
   ]
  },
  {
   "cell_type": "code",
   "execution_count": null,
   "metadata": {
    "collapsed": true
   },
   "outputs": [],
   "source": [
    "### Data source to use\n",
    "users = ['nroy','nicholasroy']\n",
    "user = users[0]\n",
    "\n",
    "loadDir = '/Users/' + user + '/CElegans/SharedData/'\n",
    "saveDir = '/Users/' + user + '/CElegans/SharedData/MATLAB_Files/'"
   ]
  },
  {
   "cell_type": "code",
   "execution_count": null,
   "metadata": {
    "collapsed": false
   },
   "outputs": [],
   "source": [
    "worms = ['GFP','5','6','7','S1','S2'] # Specify which worms to copy\n",
    "variables = ['G_Raw','R_Raw','G_photocorr','R_photocorr','Time','ethoTrack'] # Specify which variables to copy\n",
    "\n",
    "for w in worms:\n",
    "    wormData = np.load(loadDir+'Worm'+w+'.npz') #load data from npz files\n",
    "    d={}\n",
    "    for v in variables: # copy chosen variables to new dict\n",
    "        if not wormData[v].any():\n",
    "            d[v] = []\n",
    "        else:\n",
    "            d[v] = wormData[v]\n",
    "    sio.savemat(saveDir+'Worm'+w, d) # save dict with new variables in .mat format"
   ]
  }
 ],
 "metadata": {
  "kernelspec": {
   "display_name": "Python 3",
   "language": "python",
   "name": "python3"
  },
  "language_info": {
   "codemirror_mode": {
    "name": "ipython",
    "version": 3
   },
   "file_extension": ".py",
   "mimetype": "text/x-python",
   "name": "python",
   "nbconvert_exporter": "python",
   "pygments_lexer": "ipython3",
   "version": "3.5.1"
  }
 },
 "nbformat": 4,
 "nbformat_minor": 0
}
