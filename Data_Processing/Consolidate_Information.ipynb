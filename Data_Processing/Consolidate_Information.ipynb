{
 "cells": [
  {
   "cell_type": "markdown",
   "metadata": {},
   "source": [
    "# Consolidate Information\n",
    "* RFP Fluorescence ($\\Delta F / F_0$ and Raw and Photobleaching Corrected) - (N $\\times$ T)\n",
    "* GCaMP **or** GFP Fluorescence ($\\Delta F / F_0$ and Raw and Photobleaching Corrected) - (N $\\times$ T)\n",
    "* Neuron Position - (N $\\times$ [x,y,z, frame #] $\\times$ T)\n",
    "* Centerline - (T2 $\\times$ ~102 $\\times$ [x,y])\n",
    "* Ethogram - (T $\\times$ [-1,0,1,2])\n",
    "* Times in seconds for T and T2\n",
    "\n",
    "### Worms: *GFP, S1, S2, 5, 6, & 7*"
   ]
  },
  {
   "cell_type": "code",
   "execution_count": null,
   "metadata": {
    "collapsed": true
   },
   "outputs": [],
   "source": [
    "### Information is saved in .npz format, accessing is simple. Example:\n",
    "# W4 = np.load('Worm4.npz')\n",
    "# G = W4['G']"
   ]
  },
  {
   "cell_type": "code",
   "execution_count": null,
   "metadata": {
    "collapsed": true
   },
   "outputs": [],
   "source": [
    "import numpy as np\n",
    "import scipy.io as sio\n",
    "\n",
    "### Data source to use, should be dated folder that is a copy from Andy's server\n",
    "source = ['20160203_AllData/', '20160216_AllData/']\n",
    "user = ['nroy','nicholasroy']\n",
    "\n",
    "Directory = '/Users/' + user[0] + '/CElegans/Data/' + source[-1]\n",
    "\n",
    "# Put in neuron position across time in cleaner more condensed format\n",
    "def NPos_clean(x, neuron_count):\n",
    "    positions = np.zeros((len(x), neuron_count, 3))\n",
    "    for i_ind, i in enumerate(x):\n",
    "        if np.count_nonzero(i) != 0: # if no data for whole time point\n",
    "            for j in range(neuron_count):\n",
    "                if np.count_nonzero(i[j]) != 0: # if no data for neuron at time point\n",
    "                    positions[i_ind][j] = i[j][:3].astype(float)\n",
    "                else:\n",
    "                    positions[i_ind][j] = None\n",
    "        else:\n",
    "            positions[i_ind] = None       \n",
    "    return positions"
   ]
  },
  {
   "cell_type": "markdown",
   "metadata": {},
   "source": [
    "## Collect all information from Worm GFP (GFP + RFP)\n",
    "### 63 Neurons, 2055 Time Points over 376.5 seconds\n",
    "### Info saved to WormGFP.npz\n",
    "N = 63, T = 2055 (376.5sec), T2 = 23316 (-0.11 to 382.51sec)"
   ]
  },
  {
   "cell_type": "code",
   "execution_count": null,
   "metadata": {
    "collapsed": false
   },
   "outputs": [],
   "source": [
    "# Delta_F / F_0 for both GFP and RFP ('G2' and 'R2'), ethogram ('ethoTrack', no 0 values)\n",
    "# and times T ('hasPointsTime')\n",
    "f1 = sio.loadmat(Directory+'GFP_moving/heatData.mat')\n",
    "\n",
    "G = np.array(f1['G2']) # 63 x 2055\n",
    "R = np.array(f1['R2']) # 63 x 2055\n",
    "ethoTrack = np.array(f1['ethoTrack']) # 2055 x 1\n",
    "Time = np.array(f1['hasPointsTime']) # 2055 x 1\n",
    "\n",
    "\n",
    "# Raw fluorescence for both GFP and RFP ('G2' and 'R2')\n",
    "f2 = sio.loadmat(Directory+'GFP_moving/rawHeatmapData.mat')\n",
    "\n",
    "G_Raw = np.array(f2['GRaw']) # 63 x 2055\n",
    "R_Raw = np.array(f2['RRaw']) # 63 x 2055\n",
    "\n",
    "G_photocorr = None\n",
    "R_photocorr = None\n",
    "\n",
    "\n",
    "# Neuron Poistion, xyz coordinates from a single volume when worm was straight ('fiducials')\n",
    "# Note that x&y are in pixels, z is in volts with 1V ~ 30 pixels\n",
    "f3 = sio.loadmat(Directory+'GFP_moving/botFiducials.mat')\n",
    "\n",
    "NPos = NPos_clean(f3['fiducialPoints'][:,0], len(G)) # 2055 x 63 x 3\n",
    "\n",
    "\n",
    "# Centerline Position, x coords + y coords + T2 times (each from .csv file)\n",
    "C_Directory = Directory + 'GFP_moving/Behavior/'\n",
    "\n",
    "CenterTimes = np.genfromtxt(C_Directory+'centerlineData_gfp_t.csv', delimiter=',').reshape(-1,1) # 23316 x 1\n",
    "Center_x = np.genfromtxt(C_Directory+'centerlineDatagfp_x.csv', delimiter=',') # 102 x 23316\n",
    "Center_y = np.genfromtxt(C_Directory+'centerlineData_gfp_y.csv', delimiter=',') # 102 x 23316\n",
    "\n",
    "\n",
    "# Save all information to a single npz file\n",
    "np.savez_compressed('WormGFP', \n",
    "        G=G, R=R, ethoTrack=ethoTrack, Time=Time, \n",
    "        G_Raw=G_Raw, R_Raw=R_Raw, G_photocorr=G_photocorr, R_photocorr=R_photocorr,\n",
    "        NPos=NPos,\n",
    "        CenterTimes=CenterTimes, Center_x=Center_x, Center_y=Center_y\n",
    "                   )"
   ]
  },
  {
   "cell_type": "markdown",
   "metadata": {},
   "source": [
    "## Collect all information from Worm S1 (GCaMP + RFP)\n",
    "### 82 Neurons, 2771 Time Points over 461 seconds, Worm is immobile\n",
    "### Info saved to WormS1.npz\n",
    "N = 82, T = 2771 (461sec), T2 = None"
   ]
  },
  {
   "cell_type": "code",
   "execution_count": null,
   "metadata": {
    "collapsed": false
   },
   "outputs": [],
   "source": [
    "# Delta_F / F_0 for both GFP and RFP ('G2' and 'R2'), ethogram ('ethoTrack', no 0 values)\n",
    "# and times T ('hasPointsTime')\n",
    "f1 = sio.loadmat(Directory+'BrainScanner20160121_134707_StationaryWorm/heatData.mat')\n",
    "\n",
    "G = np.array(f1['G2']) # 82 x 2771\n",
    "R = np.array(f1['R2']) # 82 x 2771\n",
    "ethoTrack = None\n",
    "Time = np.array(f1['hasPointsTime']).T # 2771 x 1\n",
    "\n",
    "# Raw fluorescence & photbleaching corrected for both GFP & RFP ('gRaw' and 'gPhotoCorr')\n",
    "G_Raw = np.array(f1['gRaw']) # 82 x 2771\n",
    "R_Raw = np.array(f1['rRaw']) # 82 x 2771\n",
    "\n",
    "G_photocorr = np.array(f1['gPhotoCorr']) # 82 x 2771\n",
    "R_photocorr = np.array(f1['rPhotoCorr']) # 82 x 2771\n",
    "\n",
    "\n",
    "# Neuron Poistion, xyz coordinates over time ('fiducialPoints')\n",
    "# Note that x&y are in pixels, z is in volts with 1V ~ 30 pixels\n",
    "f2 = sio.loadmat(Directory+'BrainScanner20160121_134707_StationaryWorm/botFiducials.mat')\n",
    "\n",
    "NPos = NPos_clean(f2['fiducialPoints'][0], len(G)) # 2771 x 82 x 3\n",
    "\n",
    "\n",
    "CenterTimes = None\n",
    "Center_x = None\n",
    "Center_y = None\n",
    "\n",
    "# Save all information to a single npz file\n",
    "np.savez_compressed('WormS1', \n",
    "        G=G, R=R, ethoTrack=ethoTrack, Time=Time, \n",
    "        G_Raw=G_Raw, R_Raw=R_Raw, G_photocorr=G_photocorr, R_photocorr=R_photocorr,\n",
    "        NPos=NPos,\n",
    "        CenterTimes=CenterTimes, Center_x=Center_x, Center_y=Center_y\n",
    "                   )"
   ]
  },
  {
   "cell_type": "markdown",
   "metadata": {},
   "source": [
    "## Collect all information from Worm S2 (GCaMP + RFP)\n",
    "### 119 Neurons, 2052 Time Points over 342 seconds, Worm is immobile\n",
    "### Info saved to WormS2.npz\n",
    "N = 119, T = 2052 (342sec), T2 = None"
   ]
  },
  {
   "cell_type": "code",
   "execution_count": null,
   "metadata": {
    "collapsed": false
   },
   "outputs": [],
   "source": [
    "# Delta_F / F_0 for both GFP and RFP ('G2' and 'R2'), ethogram ('ethoTrack', no 0 values)\n",
    "# and times T ('hasPointsTime')\n",
    "f1 = sio.loadmat(Directory+'BrainScanner20160121_140306_StationaryWorm/heatData.mat')\n",
    "\n",
    "G = np.array(f1['G2'][:,76:2128]) # 119 x 2470\n",
    "R = np.array(f1['R2'][:,76:2128]) # 119 x 2470\n",
    "ethoTrack = None\n",
    "Time = np.array(f1['hasPointsTime'][:,76:2128]).T # 2470 x 1\n",
    "\n",
    "# Raw fluorescence & photbleaching corrected for both GFP & RFP ('gRaw' and 'gPhotoCorr')\n",
    "G_Raw = np.array(f1['gRaw'][:,76:2128]) # 119 x 2470\n",
    "R_Raw = np.array(f1['rRaw'][:,76:2128]) # 119 x 2470\n",
    "\n",
    "G_photocorr = np.array(f1['gPhotoCorr'][:,76:2128]) # 119 x 2470\n",
    "R_photocorr = np.array(f1['rPhotoCorr'][:,76:2128]) # 119 x 2470\n",
    "\n",
    "\n",
    "# Neuron Poistion, xyz coordinates over time ('fiducialPoints')\n",
    "# Note that x&y are in pixels, z is in volts with 1V ~ 30 pixels\n",
    "f2 = sio.loadmat(Directory+'BrainScanner20160121_140306_StationaryWorm/botFiducials.mat')\n",
    "\n",
    "NPos = NPos_clean(f2['fiducialPoints'][0][76:2128], len(G)) # 2470 x 119 x 3\n",
    "\n",
    "\n",
    "CenterTimes = None\n",
    "Center_x = None\n",
    "Center_y = None\n",
    "\n",
    "# Save all information to a single npz file\n",
    "np.savez_compressed('WormS2', \n",
    "        G=G, R=R, ethoTrack=ethoTrack, Time=Time, \n",
    "        G_Raw=G_Raw, R_Raw=R_Raw, G_photocorr=G_photocorr, R_photocorr=R_photocorr,\n",
    "        NPos=NPos,\n",
    "        CenterTimes=CenterTimes, Center_x=Center_x, Center_y=Center_y\n",
    "                   )"
   ]
  },
  {
   "cell_type": "markdown",
   "metadata": {},
   "source": [
    "## Collect all information from Worm 5 (GCaMP + RFP)\n",
    "### 98 Neurons, 1440 Time Points over 240 seconds\n",
    "### Info saved to Worm5.npz\n",
    "N = 98, T = 1440 (240.33sec), T2 = 15007 (0.0 to 246.17sec)"
   ]
  },
  {
   "cell_type": "code",
   "execution_count": null,
   "metadata": {
    "collapsed": false
   },
   "outputs": [],
   "source": [
    "# Delta_F / F_0 for both GFP and RFP ('G2' and 'R2'), ethogram ('ethoTrack', no 0 values)\n",
    "# and times T ('hasPointsTime')\n",
    "f1 = sio.loadmat(Directory+'heatData_worm5.mat')\n",
    "\n",
    "G = np.array(f1['G2'])[:,2:] # 98 x 1440\n",
    "R = np.array(f1['R2'])[:,2:] # 98 x 1440\n",
    "ethoTrack = np.array(f1['ethoTrack'])[1:] # 1440 x 1\n",
    "Time = np.array(f1['hasPointsTime'])[1:] # 1440 x 1\n",
    "\n",
    "\n",
    "# Raw fluorescence for both GFP and RFP ('G2' and 'R2')\n",
    "f2 = sio.loadmat(Directory+'rawHeatmapData_worm5.mat')\n",
    "\n",
    "G_Raw = np.array(f2['GRaw'])[:,2:] # 98 x 1440\n",
    "R_Raw = np.array(f2['RRaw'])[:,2:] # 98 x 1440\n",
    "\n",
    "G_photocorr = None\n",
    "R_photocorr = None\n",
    "\n",
    "\n",
    "# Neuron Poistion, xyz coordinates from a single volume when worm was straight ('straightPoints')\n",
    "# Note that x&y are in pixels, z is in volts with 1V ~ 30 pixels\n",
    "f3 = sio.loadmat(Directory+'botFiducials_worm5.mat')\n",
    "\n",
    "NPos = NPos_clean(f3['fiducialPoints'][0,2:], len(G)) # 1440 x 98 x 3\n",
    "\n",
    "\n",
    "# Centerline Position, x coords + y coords + T2 times (each from .csv file)\n",
    "C_Directory = Directory + 'Behavior_worm5/'\n",
    "\n",
    "CenterTimes = np.genfromtxt(C_Directory+'centerlineData_worm4_time.csv', delimiter=',').reshape(-1,1) # 15007 x 1\n",
    "Center_x = np.genfromtxt(C_Directory+'centerlineData_worm4_x.csv', delimiter=',') # 102 x 15007\n",
    "Center_y = np.genfromtxt(C_Directory+'centerlineData_worm4_y.csv', delimiter=',') # 102 x 15007\n",
    "\n",
    "\n",
    "# Save all information to a single npz file\n",
    "np.savez_compressed('Worm5', \n",
    "        G=G, R=R, ethoTrack=ethoTrack, Time=Time, \n",
    "        G_Raw=G_Raw, R_Raw=R_Raw, G_photocorr=G_photocorr, R_photocorr=R_photocorr,\n",
    "        NPos=NPos,\n",
    "        CenterTimes=CenterTimes, Center_x=Center_x, Center_y=Center_y\n",
    "                   )"
   ]
  },
  {
   "cell_type": "markdown",
   "metadata": {},
   "source": [
    "## Collect all information from Worm 6 (GCaMP + RFP)\n",
    "### 95 Neurons, 1904 Time Points over 317 seconds\n",
    "### Info saved to Worm6.npz\n",
    "N = 95, T = 1904 (317.33sec), T2 = 17570 (17.99 to 347.29sec)"
   ]
  },
  {
   "cell_type": "code",
   "execution_count": null,
   "metadata": {
    "collapsed": false
   },
   "outputs": [],
   "source": [
    "# Delta_F / F_0 for both GFP and RFP ('G2' and 'R2'), ethogram ('ethoTrack', no 0 values)\n",
    "# times T ('hasPointsTime')\n",
    "f1 = sio.loadmat(Directory+'heatData_worm6.mat')\n",
    "\n",
    "G = np.array(f1['G2'])[:,2:] # 95 x 1904\n",
    "R = np.array(f1['R2'])[:,2:] # 95 x 1904\n",
    "ethoTrack = np.array(f1['ethoTrack'])[1:] # 1904 x 1\n",
    "Time = np.array(f1['hasPointsTime'])[1:] # 1904 x 1\n",
    "\n",
    "\n",
    "# Raw fluorescence for both GFP and RFP ('G2' and 'R2')\n",
    "f2 = sio.loadmat(Directory+'rawHeatmapData_worm6.mat')\n",
    "\n",
    "G_Raw = np.array(f2['GRaw'])[:,2:] # 95 x 1904\n",
    "R_Raw = np.array(f2['RRaw'])[:,2:] # 95 x 1904\n",
    "\n",
    "G_photocorr = None\n",
    "R_photocorr = None\n",
    "\n",
    "\n",
    "# Neuron Poistion, xyz coordinates over time ('fiducialPoints')\n",
    "# Note that x&y are in pixels, z is in volts with 1V ~ 30 pixels\n",
    "f3 = sio.loadmat(Directory+'botFiducials_worm6.mat')\n",
    "\n",
    "NPos = NPos_clean(f3['fiducialPoints'][0,2:], len(G)) # 1904 x 95 x 3\n",
    "\n",
    "\n",
    "# Centerline Position, x coords + y coords + T2 times (each from .csv file)\n",
    "C_Directory = Directory + 'Behavior_worm6/'\n",
    "\n",
    "CenterTimes = np.genfromtxt(C_Directory+'centerlineData_worm1_time.csv', delimiter=',').reshape(-1,1) # 17570 x 1\n",
    "Center_x = np.genfromtxt(C_Directory+'centerlineData_worm1_x.csv', delimiter=',') # 102 x 17570\n",
    "Center_y = np.genfromtxt(C_Directory+'centerlineData_worm1_y.csv', delimiter=',') # 102 x 17570\n",
    "\n",
    "\n",
    "# Save all information to a single npz file\n",
    "np.savez_compressed('Worm6', \n",
    "        G=G, R=R, ethoTrack=ethoTrack, Time=Time, \n",
    "        G_Raw=G_Raw, R_Raw=R_Raw, G_photocorr=G_photocorr, R_photocorr=R_photocorr,\n",
    "        NPos=NPos,\n",
    "        CenterTimes=CenterTimes, Center_x=Center_x, Center_y=Center_y\n",
    "                   )"
   ]
  },
  {
   "cell_type": "markdown",
   "metadata": {},
   "source": [
    "## Collect all information from Worm 7 (GCaMP + RFP)\n",
    "### 156 Neurons, 2848 Time Points over 474 seconds\n",
    "### Info saved to Worm7.npz\n",
    "N = 156, T = 2848 (474.66sec), T2 = 30394 (-4.32 to 511.22sec)"
   ]
  },
  {
   "cell_type": "code",
   "execution_count": null,
   "metadata": {
    "collapsed": false
   },
   "outputs": [],
   "source": [
    "# Delta_F / F_0 for both GFP and RFP ('G2' and 'R2'), ethogram ('ethoTrack', no 0 values)\n",
    "# times T ('hasPointsTime'), \n",
    "f1 = sio.loadmat(Directory+'BrainScanner20141014_143957_longmovingworm/heatData.mat')\n",
    "\n",
    "G = np.array(f1['G2'])[:,1:] # 156 x 2848\n",
    "R = np.array(f1['R2'])[:,1:] # 156 x 2848\n",
    "ethoTrack = np.array(f1['ethoTrack'])[1:] # 2848 x 1\n",
    "Time = np.array(f1['hasPointsTime'])[1:] # 2848 x 1\n",
    "\n",
    "# Raw fluorescence & photbleaching corrected for both GFP & RFP ('gRaw' and 'gPhotoCorr')\n",
    "G_Raw = np.array(f1['gRaw'])[:,1:] # 156 x 2848\n",
    "R_Raw = np.array(f1['rRaw'])[:,1:] # 156 x 2848\n",
    "\n",
    "G_photocorr = np.array(f1['gPhotoCorr'])[:,1:] # 156 x 2848\n",
    "R_photocorr = np.array(f1['rPhotoCorr'])[:,1:] # 156 x 2848\n",
    "\n",
    "\n",
    "# Neuron Poistion, xyz coordinates over time ('fiducialPoints')\n",
    "# Note that x&y are in pixels, z is in volts with 1V ~ 30 pixels\n",
    "f2 = sio.loadmat(Directory+'BrainScanner20141014_143957_longmovingworm/botFiducials.mat')\n",
    "\n",
    "NPos = NPos_clean(f2['fiducialPoints'][0,1:], len(G)) # 2848 x 156 x 3\n",
    "\n",
    "\n",
    "# Centerline Position, x coords + y coords\n",
    "C_Directory = Directory + 'BrainScanner20141014_143957_longmovingworm/BehaviorAnalysis/'\n",
    "\n",
    "f3 = sio.loadmat(C_Directory+'centerline.mat')\n",
    "\n",
    "Center_x = np.array(f3['centerline'])[:,0] # 100 x 30394\n",
    "Center_y = np.array(f3['centerline'])[:,1] # 100 x 30394\n",
    "\n",
    "\n",
    "# Centerline Times\n",
    "f4 = sio.loadmat(C_Directory+'centerlineTime.mat')\n",
    "\n",
    "CenterTimes = np.array(f4['bfTime']) # 30394 x 1\n",
    "\n",
    "\n",
    "# Save all information to a single npz file\n",
    "np.savez_compressed('Worm7', \n",
    "        G=G, R=R, ethoTrack=ethoTrack, Time=Time, \n",
    "        G_Raw=G_Raw, R_Raw=R_Raw, G_photocorr=G_photocorr, R_photocorr=R_photocorr,\n",
    "        NPos=NPos,\n",
    "        CenterTimes=CenterTimes, Center_x=Center_x, Center_y=Center_y\n",
    "                   )"
   ]
  }
 ],
 "metadata": {
  "kernelspec": {
   "display_name": "Python 3",
   "language": "python",
   "name": "python3"
  },
  "language_info": {
   "codemirror_mode": {
    "name": "ipython",
    "version": 3
   },
   "file_extension": ".py",
   "mimetype": "text/x-python",
   "name": "python",
   "nbconvert_exporter": "python",
   "pygments_lexer": "ipython3",
   "version": "3.5.1"
  }
 },
 "nbformat": 4,
 "nbformat_minor": 0
}
