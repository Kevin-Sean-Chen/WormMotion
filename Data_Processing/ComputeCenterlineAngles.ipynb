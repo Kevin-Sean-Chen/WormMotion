{
 "cells": [
  {
   "cell_type": "markdown",
   "metadata": {},
   "source": [
    "# Compute Centerline Angles\n",
    "\n",
    "* Read in eig_basis\n",
    "* Compute centerline angles for new worms\n",
    "* Project new centerline angles onto eig_basis\n",
    "* Export new centerline angles and projections\n"
   ]
  },
  {
   "cell_type": "code",
   "execution_count": null,
   "metadata": {},
   "outputs": [],
   "source": [
    "import numpy as np\n",
    "from scipy.interpolate import interp1d\n",
    "from scipy.interpolate import interpn\n",
    "from matplotlib import pyplot as plt\n",
    "import seaborn as sns\n",
    "import scipy.io as sio\n",
    "%pylab inline"
   ]
  },
  {
   "cell_type": "code",
   "execution_count": null,
   "metadata": {},
   "outputs": [],
   "source": [
    "# load data\n",
    "basis_directory = '../Data/' # for Katherine's computer\n",
    "#basis_directory = 'Data/' # for Nick's computer\n",
    "basis_file_name = 'eig_basis'\n",
    "basis_file = sio.loadmat(basis_directory+basis_file_name)"
   ]
  },
  {
   "cell_type": "markdown",
   "metadata": {},
   "source": [
    "# Read eig_basis\n",
    "These eigenbases were computed previously from Ashley's single worm optogenetic experiments.\n",
    "\n",
    "We're going to compare them later to SVDs from the new dataset of worms."
   ]
  },
  {
   "cell_type": "code",
   "execution_count": null,
   "metadata": {},
   "outputs": [],
   "source": [
    "# elements of eig_basis: eig_basis\n",
    "eig_basis = np.array(basis_file['eig_basis'])\n",
    "(dim, num_basis) = np.shape(eig_basis)\n",
    "\n",
    "f = plt.figure(figsize=(20,5*2))\n",
    "ax = plt.axes()\n",
    "for i in range(1,num_basis):\n",
    "    ax.plot(eig_basis[:,i])"
   ]
  },
  {
   "cell_type": "markdown",
   "metadata": {},
   "source": [
    "# Read centerline data\n",
    "\n",
    "Read data and clean bad frames"
   ]
  },
  {
   "cell_type": "code",
   "execution_count": null,
   "metadata": {},
   "outputs": [],
   "source": [
    "# Read in position data\n",
    "# Read in worm data from SharedData .npz file\n",
    "\n",
    "Worm = 6#'GFP'\n",
    "worm_data = np.load('../SharedData/Worm'+str(Worm)+'.npz')\n",
    "print('The loaded npz contains the variables:\\n', np.sort([i for i in worm_data]))\n",
    "\n",
    "rec_x = worm_data['Center_x']\n",
    "rec_y = worm_data['Center_y']\n",
    "rec_time = worm_data['CenterTimes']\n",
    "\n",
    "[center_length, center_time] = np.shape(rec_x)\n",
    "\n",
    "# Clean up + remove bad frames\n",
    "if Worm == 5: # Bad frames at 905\n",
    "    rec_x = np.delete(rec_x, 905, 1)\n",
    "    rec_y = np.delete(rec_y, 905, 1)\n",
    "    rec_time = np.delete(rec_time, 905, 0)\n",
    "    "
   ]
  },
  {
   "cell_type": "markdown",
   "metadata": {},
   "source": [
    "# Convert position data to centerline representation\n",
    "\n",
    "Here we follow the methods outlined in Stephens 2008. To find the curvature of the worm (K) we'd like to take the second derivative, but in practice this is noisey. Instead we compute the angle between the tangentline to the worm and the horizontal, then noramlize the angle by subtracting out the mean. \n",
    "\n",
    "There's an additionally processing of wrap around for angles before we normalize. "
   ]
  },
  {
   "cell_type": "code",
   "execution_count": null,
   "metadata": {},
   "outputs": [],
   "source": [
    "# Compute tangent lines\n",
    "tangent_x = diff(rec_x,axis=0)\n",
    "tangent_y = diff(rec_y,axis=0)\n",
    "\n",
    "# Compute the angle between the tangent and the horizontal\n",
    "angles = np.arctan2(tangent_y,tangent_x)\n",
    "\n",
    "(points_t, time_t) = shape(angles)\n",
    "\n",
    "# Getting rid of the wrap around for pi \n",
    "for t in range(0,time_t):\n",
    "    for p in range(0,points_t-1):\n",
    "        if (angles[p,t]-angles[p+1,t]) < -3:\n",
    "            angles[p+1,t] = angles[p+1,t]-2*np.pi\n",
    "        elif (angles[p,t]-angles[p+1,t]) > 3:\n",
    "            angles[p+1,t] = angles[p+1,t]+2*np.pi\n",
    "\n",
    "            \n",
    "# Subtract out the average angle to normalize\n",
    "theta = angles-np.mean(angles,axis=0)\n"
   ]
  },
  {
   "cell_type": "code",
   "execution_count": null,
   "metadata": {},
   "outputs": [],
   "source": [
    "print(shape(rec_x))\n",
    "print(shape(np.diff(rec_x,axis=0)))\n",
    "print(tangent_x[0,1])\n",
    "print(tangent_x[len(tangent_x)-1,1])"
   ]
  },
  {
   "cell_type": "code",
   "execution_count": null,
   "metadata": {},
   "outputs": [],
   "source": [
    "# Test graph to make sure everything worked as expected\n",
    "f = plt.figure(figsize=(20,10))\n",
    "ax = plt.axes()\n",
    "ax.plot(theta[:,0:10])\n",
    "ax.set_title(\"Test plot of 10 computed centerline angles\")"
   ]
  },
  {
   "cell_type": "markdown",
   "metadata": {},
   "source": [
    "# Project new centerline angles onto old eigenworms\n",
    "* Find representation of new centerline data with 6 eigenworms\n",
    "* Export data"
   ]
  },
  {
   "cell_type": "code",
   "execution_count": null,
   "metadata": {},
   "outputs": [],
   "source": [
    "# Project new centerline thetas onto old worms\n",
    "proj_theta = np.empty([time_t,num_basis])\n",
    "for t in range(0,time_t):\n",
    "    for b in range(0,num_basis):\n",
    "        proj_theta[t,b] = dot(theta[:,t], eig_basis[:,b]) \n",
    "\n",
    "f = plt.figure(figsize=(20,10))\n",
    "ax = plt.axes()\n",
    "ax.plot(proj_theta[0:10,:])\n",
    "ax.set_title(\"Plot of projections of 10 centerlines onto 6 eigenworms\")"
   ]
  },
  {
   "cell_type": "markdown",
   "metadata": {},
   "source": [
    "# Match centerline data and neural data\n",
    "\n",
    "Adapted from Animate Centerline"
   ]
  },
  {
   "cell_type": "code",
   "execution_count": null,
   "metadata": {},
   "outputs": [],
   "source": [
    "G = worm_data['G']\n",
    "[neuron_length, neuron_time] = np.shape(G)\n",
    "\n",
    "# Make sure centerline times encompass neuron times\n",
    "if rec_time[0] > Time[0] or rec_time[-1] < Time[-1]:\n",
    "    viable_indices = np.array([rec_time[0] < i and rec_time[-1] > i for i in Time])\n",
    "    Time = Time[viable_indices]\n",
    "    print('Neuron data was trimmed to only data with corresponding centerline info. \\\\\n",
    "          Data now starts at ' + str(Time[0]) + 'sec and ends at ' + str(Time[-1]) + 'sec')\n",
    "    \n",
    "ind = np.zeros(len(Time), dtype=int)\n",
    "\n",
    "i = 0\n",
    "j = 0\n",
    "for i in range(len(Time)):\n",
    "    while rec_time[j] < Time[i]:\n",
    "        j += 1\n",
    "    if abs(rec_time[j-1] - Time[i]) < abs(rec_time[j] - Time[i]):\n",
    "        ind[i] = j-1\n",
    "    else:\n",
    "        ind[i] = j\n",
    "        \n",
    "# Check\n",
    "print('The average difference in time courses is ' + \n",
    "     '%.1f' % (np.average(abs(rec_time[ind] - Time))*1000) + 'msec and the max difference is ' +\n",
    "     '%.1f' % (np.max(abs(rec_time[ind] - Time))*1000) + 'msec')\n",
    "\n",
    "proj_neural_thetas = proj_theta[ind]"
   ]
  },
  {
   "cell_type": "markdown",
   "metadata": {},
   "source": [
    "## Export\n",
    "\n",
    "Exports all the same information as Consolodate, except the G and R here have NaN's stripped out"
   ]
  },
  {
   "cell_type": "code",
   "execution_count": null,
   "metadata": {},
   "outputs": [],
   "source": [
    "file_name = '../SharedData/Worm_Angles/WormAngle'+str(Worm)\n",
    "print(file_name)\n",
    "print(Worm)"
   ]
  },
  {
   "cell_type": "code",
   "execution_count": null,
   "metadata": {},
   "outputs": [],
   "source": [
    "# export\n",
    "file_name = '../SharedData/WormAngle'+str(Worm)\n",
    "print(file_name)\n",
    "ethoTrack = worm_data['ethoTrack']\n",
    "Time = worm_data['Time']\n",
    "NPos = worm_data['NPos']\n",
    "G_Raw = worm_data['G_Raw']\n",
    "R_Raw = worm_data['R_Raw']\n",
    "CenterTimes = worm_data['CenterTimes']\n",
    "Center_x = worm_data['Center_x']\n",
    "Center_y = worm_data['Center_y']\n",
    "G = worm_data['G']\n",
    "R = worm_data['R']\n",
    "if Worm=='GFP':\n",
    "    G_photocorr = worm_data['G_photocorr']\n",
    "    R_photocorr = worm_data['R_photocorr']\n",
    "    np.savez_compressed(file_name, \n",
    "        G=G, R=R, ethoTrack=ethoTrack, Time=Time, NPos=NPos,\n",
    "        G_Raw=G_Raw, R_Raw=R_Raw, G_photocorr = G_photocorr, R_photocorr = R_photocorr,\n",
    "        CenterTimes=CenterTimes, Center_x=Center_x, Center_y=Center_y,\n",
    "        thetas = theta, proj_thetas = proj_theta, proj_neural_thetas = proj_neural_thetas\n",
    "                   )\n",
    "else:\n",
    "    np.savez_compressed(file_name, \n",
    "        G=G, R=R, ethoTrack=ethoTrack, Time=Time, NPos=NPos,\n",
    "        G_Raw=G_Raw, R_Raw=R_Raw,\n",
    "        CenterTimes=CenterTimes, Center_x=Center_x, Center_y=Center_y,\n",
    "        thetas = theta, proj_thetas = proj_theta, proj_neural_thetas = proj_neural_thetas\n",
    "                   )"
   ]
  },
  {
   "cell_type": "code",
   "execution_count": null,
   "metadata": {},
   "outputs": [],
   "source": [
    "ethoTrack = worm_data['ethoTrack']\n",
    "Time = worm_data['Time']\n",
    "NPos = worm_data['NPos']\n",
    "G_Raw = worm_data['G_Raw']\n",
    "R_Raw = worm_data['R_Raw']\n",
    "CenterTimes = worm_data['CenterTimes']\n",
    "Center_x = worm_data['Center_x']\n",
    "Center_y = worm_data['Center_y']\n",
    "G = worm_data['G']\n",
    "R = worm_data['R']\n",
    "print(shape(G_Raw))\n",
    "print(shape(G))"
   ]
  },
  {
   "cell_type": "code",
   "execution_count": null,
   "metadata": {
    "collapsed": true
   },
   "outputs": [],
   "source": []
  }
 ],
 "metadata": {
  "kernelspec": {
   "display_name": "Python 3",
   "language": "python",
   "name": "python3"
  },
  "language_info": {
   "codemirror_mode": {
    "name": "ipython",
    "version": 3
   },
   "file_extension": ".py",
   "mimetype": "text/x-python",
   "name": "python",
   "nbconvert_exporter": "python",
   "pygments_lexer": "ipython3",
   "version": "3.7.3"
  }
 },
 "nbformat": 4,
 "nbformat_minor": 1
}
