{
 "cells": [
  {
   "cell_type": "markdown",
   "metadata": {},
   "source": [
    "# ARD Take 1\n",
    "Starting to work on this Nov 12, 2015. Given $N$ samples with $M$ dimensions each (selected from $\\mathcal{N}(0,1)$), $N$ target values $Y$ (with Gaussian noise added, $\\sigma^2$ chosen), and a set of weight vectors $w$ (from an exponential distribution, $\\lambda$ chosen, with a certain proportion of the weights (Zeros) set to 0), peform ARD and attempt to recover the weights. "
   ]
  },
  {
   "cell_type": "code",
   "execution_count": null,
   "metadata": {
    "collapsed": false
   },
   "outputs": [],
   "source": [
    "import numpy as np\n",
    "import matplotlib.pyplot as plt\n",
    "import seaborn as sns\n",
    "import pandas as pd\n",
    "%matplotlib inline"
   ]
  },
  {
   "cell_type": "code",
   "execution_count": null,
   "metadata": {
    "collapsed": false
   },
   "outputs": [],
   "source": [
    "# Generate random design matrix. \n",
    "N = 5000     # sample size\n",
    "M = 50      # dimensions\n",
    "Zeros = 0.6 # Proportion of zero weights (0 to 1)\n",
    "noise = 5  # sigma^2 for Gaussian noise added to Y\n",
    "\n",
    "M_zero = int(Zeros*M)\n",
    "X = np.random.normal(0, 1, (N,M))"
   ]
  },
  {
   "cell_type": "code",
   "execution_count": null,
   "metadata": {
    "collapsed": false
   },
   "outputs": [],
   "source": [
    "# Generate weights\n",
    "w = np.random.laplace(0, 10, M)\n",
    "perm = np.random.permutation(M)\n",
    "w[perm[:M_zero]] = 0\n",
    "\n",
    "# Plotting\n",
    "f ,ax = plt.subplots(1,2, figsize=(16,5))\n",
    "ax[0].plot(w)\n",
    "ax[1].hist(w)\n",
    "plt.show()"
   ]
  },
  {
   "cell_type": "code",
   "execution_count": null,
   "metadata": {
    "collapsed": false
   },
   "outputs": [],
   "source": [
    "# Generate Y\n",
    "Y_noiseless = np.dot(X,w)\n",
    "Y = Y_noiseless + np.random.normal(0,noise, len(Y_noiseless))  # Add Gaussian Noise\n",
    "\n",
    "# Plotting\n",
    "f ,ax = plt.subplots(1,1, figsize=(16,5))\n",
    "ax.plot(Y, color= 'blue')\n",
    "ax.plot(Y_noiseless, color = 'green')\n",
    "plt.show()"
   ]
  },
  {
   "cell_type": "markdown",
   "metadata": {},
   "source": [
    "# ARD"
   ]
  },
  {
   "cell_type": "code",
   "execution_count": null,
   "metadata": {
    "collapsed": false,
    "scrolled": false
   },
   "outputs": [],
   "source": [
    "# Initialization\n",
    "alpha_max = 10\n",
    "max_iterations = 10\n",
    "\n",
    "a = np.repeat(1.0, M) # alphas\n",
    "b = 1.0               # Beta = 1/sig^2 \n",
    "\n",
    "X1 = X\n",
    "Y1 = Y\n",
    "\n",
    "deletions = []\n",
    "all_errors = [0]\n",
    "\n",
    "for i in range(max_iterations):\n",
    "    \n",
    "    # Sigma = (b*XTX + A)^-1\n",
    "    Sigma = np.linalg.inv(b*np.dot(X1.T,X1) + np.diag(a))\n",
    "\n",
    "    # mu = b*Sigma*X.T*Y\n",
    "    mu = b*np.dot(np.dot(Sigma, X1.T), Y1)\n",
    "    \n",
    "    gamma = 1.0 - a*np.diag(Sigma)\n",
    "    a_new = gamma/mu**2\n",
    "    \n",
    "    error = np.sum((Y1 - np.dot(X1, mu))**2)\n",
    "    b_new = (N - np.sum(gamma))/error\n",
    "    \n",
    "    a = a_new\n",
    "    b = b_new\n",
    "    \n",
    "    print(\"\\nIteration: \", i, \"   beta = \", b, \"   Squared-Error = \", error)  \n",
    "        \n",
    "    over = [i for i in range(len(a))if a[i] > alpha_max]\n",
    "    if over:\n",
    "        print(\"Deletions: \", len(over))\n",
    "        deletions = [over] + deletions\n",
    "        X1 = np.delete(X1,over,axis=1)\n",
    "        a = np.delete(a,over)\n",
    "    elif abs(error - all_errors[-1]) < .01:\n",
    "        break\n",
    "    all_errors.append(error)\n",
    "           \n",
    "\n",
    "# Recover mu\n",
    "for i in deletions:\n",
    "    for j in i:\n",
    "        a = np.insert(a,j,-1)\n",
    "        mu = np.insert(mu,j,0)\n",
    "\n",
    "df = pd.DataFrame(list(zip(a, mu, w, mu - w)), columns = ['alpha', 'mu', 'w', 'error'])\n",
    "print(\"\\n\", df)\n",
    "print(\"\\nDeletions:\", np.sum([len(i) for i in deletions]), \"out of\", M_zero, \"\\n\", deletions)"
   ]
  },
  {
   "cell_type": "code",
   "execution_count": null,
   "metadata": {
    "collapsed": false
   },
   "outputs": [],
   "source": [
    "# Plotting old weights + new weights, errors\n",
    "f ,ax = plt.subplots(1,2, figsize=(16,5))\n",
    "ax[0].plot(mu, color = 'green', label = r'$\\mu$')\n",
    "ax[0].plot(w, color = 'blue', label = r'$w$')\n",
    "ax[1].plot(w - mu)\n",
    "\n",
    "ax[0].legend(loc = \"upper left\", fontsize = 16)\n",
    "ax[0].set_title(r'Original and Recovered Weights')\n",
    "ax[0].set_xlabel(r'Weight #')\n",
    "ax[0].set_ylabel(r'Weight Value')\n",
    "\n",
    "ax[1].set_title(r'Original - Recovered Weights')\n",
    "ax[1].set_xlabel(r'Weight #')\n",
    "ax[1].set_ylabel(r'Error')\n",
    "\n",
    "plt.show()"
   ]
  },
  {
   "cell_type": "code",
   "execution_count": null,
   "metadata": {
    "collapsed": true
   },
   "outputs": [],
   "source": []
  },
  {
   "cell_type": "code",
   "execution_count": null,
   "metadata": {
    "collapsed": true
   },
   "outputs": [],
   "source": []
  }
 ],
 "metadata": {
  "kernelspec": {
   "display_name": "Python 3",
   "language": "python",
   "name": "python3"
  },
  "language_info": {
   "codemirror_mode": {
    "name": "ipython",
    "version": 3
   },
   "file_extension": ".py",
   "mimetype": "text/x-python",
   "name": "python",
   "nbconvert_exporter": "python",
   "pygments_lexer": "ipython3",
   "version": "3.5.1"
  }
 },
 "nbformat": 4,
 "nbformat_minor": 0
}
