{
 "cells": [
  {
   "cell_type": "code",
   "execution_count": null,
   "metadata": {
    "collapsed": false
   },
   "outputs": [],
   "source": [
    "import numpy as np\n",
    "from matplotlib import pyplot as plt\n",
    "import seaborn as sns\n",
    "import scipy.io as sio\n",
    "%pylab inline"
   ]
  },
  {
   "cell_type": "code",
   "execution_count": null,
   "metadata": {
    "collapsed": false
   },
   "outputs": [],
   "source": [
    "# Read in worm data from SharedData .npz file\n",
    "Worm = 5\n",
    "worm_data = np.load('../SharedData/WormAngle'+str(Worm)+'.npz')\n",
    "\n",
    "G = worm_data['G']\n",
    "R = worm_data['R']\n",
    "(neurons, time) = shape(G)\n",
    "print(G.shape)"
   ]
  },
  {
   "cell_type": "markdown",
   "metadata": {},
   "source": [
    "Roots of:\n",
    "\n",
    "$\\sigma_r**4*z**3 - g*r*\\sigma_r**2*z**2 - r**2*\\sigma_g**2*z + \\sigma_g**2*\\sigma_r**2*z + g**2*\\sigma_r**2*z + g*r*\\sigma_g**2$\n",
    "\n",
    "Are also roots of $\\frac{d(eq5)}{da} = 0$, or the values of a that $_____$ eq 5 given sigmas.\n",
    "\n",
    "For each neuron for each timepoint"
   ]
  },
  {
   "cell_type": "code",
   "execution_count": null,
   "metadata": {
    "collapsed": false
   },
   "outputs": [],
   "source": [
    "# define the function for the root\n",
    "\n",
    "def root_eq(sg, sr, g, r): \n",
    "    return ((g*r)/(3*sr**2) - (2**(1./3)*(-g**2*r**2*sr**4 - 3*r**2*sg**2*sr**4 + 3*g**2*sr**6 + 3*sg**2*sr**6))/(\n",
    "        3*sr**4*(2*g**3*r**3*sr**6 + 9*g*r**3*sg**2*sr**6 - 9*g**3*r*sr**8 - 36*g*r*sg**2*sr**8 + np.sqrt(\n",
    "                4*(-g**2*(r**2*sr**4 - 3*r**2*sg**2*sr**4 + 3*g**2*sr**6 + 3*sg**2*sr**6)**3 + \n",
    "                   (2*g**3*r**3*sr**6 + 9*g*r**3*sg**2*sr**6 - 9*g**3*r*sr**8 - 36*g*r*sg**2*sr**8)**2)))**(1./3))\n",
    "+ (1/(3*2**(1./3)*sr**4))*((2*g**3*r**3*sr**6 + 9*g*r**3*sg**2*sr**6 - 9*g**3*r*sr**8 - 36*g*r*sg**2*sr**8 + \n",
    "                            np.sqrt(4*(-g**2*r**2*sr**4 - 3*r**2*sg**2*sr**4 + 3*g**2*sr**6 + 3*sg**2*sr**6)**3 + \n",
    "                                    (2*g**3*r**3*sr**6 + 9*g*r**3*sg**2*sr**6 - 9*g**3*r*sr**8 - \n",
    "                                     36*g*r*sg**2*sr**8)**2))**(1./3)))"
   ]
  },
  {
   "cell_type": "code",
   "execution_count": null,
   "metadata": {
    "collapsed": true
   },
   "outputs": [],
   "source": [
    "# Function to return a lambda with the given parameters to find the next values for sg, sr\n",
    "# S is [g, r]\n",
    "def create_root_lambda(g,r,a):\n",
    "    return lambda s: ((g*r)/(3*s[1]**2) - (2**(1./3)*(\n",
    "                -g**2*r**2*s[1]**4 - 3*r**2*s[0]**2*s[1]**4 + 3*g**2*s[1]**6 + 3*s[0]**2*s[1]**6))/\n",
    "                      (3*s[1]**4*(2*g**3*r**3*s[1]**6 + 9*g*r**3*s[0]**2*s[1]**6 - 9*g**3*r*s[1]**8 - \n",
    "                                  36*g*r*s[0]**2*s[1]**8 + \n",
    "                                  np.sqrt(4*(-g**2*(r**2*s[1]**4 - 3*r**2*s[0]**2*s[1]**4 + 3*g**2*s[1]**6 + \n",
    "                                                    3*s[0]**2*s[1]**6)**3 + (2*g**3*r**3*s[1]**6 + \n",
    "                                                                             9*g*r**3*s[0]**2*s[1]**6 - \n",
    "                                                                             9*g**3*r*s[1]**8 - 36*g*r*s[0]**2*s[1]**8\n",
    "                                                                            )**2)))**(1./3))\n",
    "                      + (1/(3*2**(1./3)*s[1]**4))*((2*g**3*r**3*s[1]**6 + 9*g*r**3*s[0]**2*s[1]**6 - 9*g**3*r*s[1]**8\n",
    "                                                    - 36*g*r*s[0]**2*s[1]**8 + np.sqrt(4*(-g**2*r**2*s[1]**4 - 3*r**2*\n",
    "                                                                                          s[0]**2*s[1]**4 + 3*g**2*s[1]**6 + 3*s[0]**2*s[1]**6)**3 + \n",
    "                                    (2*g**3*r**3*s[1]**6 + 9*g*r**3*s[0]**2*s[1]**6 - 9*g**3*r*s[1]**8 - \n",
    "                                     36*g*r*s[0]**2*s[1]**8)**2))**(1./3)))-a"
   ]
  },
  {
   "cell_type": "code",
   "execution_count": null,
   "metadata": {
    "collapsed": false
   },
   "outputs": [],
   "source": [
    "# Find sr, sg, given a\n",
    "import scipy.optimize as opt\n",
    "sr = 1\n",
    "sg = 1\n",
    "for n in range(0,neurons):\n",
    "    def fabc(s):\n",
    "        f = create_root_lambda(G[n,0],R[n,0],a_r[n,0])(s)\n",
    "        for t in range(1,time):\n",
    "            f = f + create_root_lambda(G[n,t],R[n,t],a_r[n,t])(s)\n",
    "        return f\n",
    "    \n",
    "    res = opt.minimize(fabc, [1,1])\n",
    "    print(res.x)\n",
    "# I'm not sure this is right anymore, I think we would want to minimize\n",
    "# directly the equation, because the root eq should already be the closed\n",
    "# form of the equation. Which is what the below does."
   ]
  },
  {
   "cell_type": "code",
   "execution_count": null,
   "metadata": {
    "collapsed": false
   },
   "outputs": [],
   "source": [
    "def find_root(sr, sg):\n",
    "    a_r = np.empty_like(G)\n",
    "\n",
    "    # For each neuron\n",
    "    for n in range(0,neurons):\n",
    "        # For each time point\n",
    "        for t in range(0,time):\n",
    "            g = G[n,t]\n",
    "            r = R[n,t]\n",
    "            \n",
    "            a_r[n,t] = root_eq(sg, sr, g, r)\n",
    "    return a_r"
   ]
  },
  {
   "cell_type": "code",
   "execution_count": null,
   "metadata": {
    "collapsed": false
   },
   "outputs": [],
   "source": [
    "# Update sigg and sigr by maximizing eq 5:\n",
    "def neg_eq_5 (g,r,a):\n",
    "    return lambda s : (1/2)*(np.log(a**2*s[1]**2+s[0]**2)+(g-a*r)**2/(a**2*s[1]**2+s[0]**2))\n",
    "\n",
    "# Find sr, sg, given a at each time\n",
    "import scipy.optimize as opt\n",
    "sg_comp = np.empty_like(a_r)\n",
    "sr_comp = np.empty_like(a_r)\n",
    "sr = 1\n",
    "sg = 1\n",
    "for n in range(0,neurons):\n",
    "    for t in range(1,time):\n",
    "        def fabc(s):\n",
    "            f = neg_eq_5(G[n,t],R[n,t],a_r[n,t])(s)\n",
    "            return f\n",
    "    \n",
    "        res = opt.minimize(fabc, [1,1])\n",
    "        sg_comp[n,t] = res.x[0]\n",
    "        sr_comp[n,t] = res.x[1]\n",
    "        \n",
    "# Find sr, sg, given a at all time for each neuron\n",
    "sg_comp_all = np.empty_like(a_r[0,:])\n",
    "sr_comp_all = np.empty_like(a_r[0,:])\n",
    "sr = 1\n",
    "sg = 1\n",
    "for n in range(0,neurons):\n",
    "    def fabc(s):\n",
    "        f = neg_eq_5(G[n,0],R[n,0],a_r[n,0])(s)\n",
    "        for t in range(1,time):\n",
    "            f = f + eq_5(G[n,t],R[n,t],a_r[n,t])(s)\n",
    "        return f\n",
    "    \n",
    "    res = opt.minimize(fabc, [1,1])\n",
    "    sg_comp_all[n] = res.x[0]\n",
    "    sr_comp_all[n] = res.x[1]\n",
    "\n"
   ]
  },
  {
   "cell_type": "code",
   "execution_count": null,
   "metadata": {
    "collapsed": false
   },
   "outputs": [],
   "source": [
    "plt.plot(sg_comp_all)\n",
    "plt.plot(sr_comp_all)"
   ]
  },
  {
   "cell_type": "code",
   "execution_count": null,
   "metadata": {
    "collapsed": false
   },
   "outputs": [],
   "source": [
    "plt.imshow(sr_comp, aspect=10)\n"
   ]
  },
  {
   "cell_type": "markdown",
   "metadata": {},
   "source": [
    "$ a = \\frac{g}{r}$"
   ]
  },
  {
   "cell_type": "code",
   "execution_count": null,
   "metadata": {
    "collapsed": false
   },
   "outputs": [],
   "source": [
    "a_ratio = np.divide(G,R)\n"
   ]
  },
  {
   "cell_type": "markdown",
   "metadata": {},
   "source": [
    "Find $\\sigma_r$ and $\\sigma_g$\n",
    "\n",
    "This suggests a coordinate ascent scheme where you initialize sigr and sigg, find the a(t) at each time bin that maximizes log-likelihood, then update the sigmas (or the variances) given the a(t)'s, and repeat until convergence.  Utlimately this is an ML estimator for the T+2 length vector formed by all the a(t)'s concatenated with the sigmas."
   ]
  },
  {
   "cell_type": "code",
   "execution_count": null,
   "metadata": {
    "collapsed": true
   },
   "outputs": [],
   "source": [
    "# starting sg, sr\n",
    "\n",
    "sg = 1 \n",
    "sr = 1\n"
   ]
  },
  {
   "cell_type": "code",
   "execution_count": null,
   "metadata": {
    "collapsed": false
   },
   "outputs": [],
   "source": [
    "a_r = find_root(sr=1, sg=1)"
   ]
  },
  {
   "cell_type": "code",
   "execution_count": null,
   "metadata": {
    "collapsed": false
   },
   "outputs": [],
   "source": [
    "f ,ax = plt.subplots(2,1, figsize=(20,2*10))\n",
    "ax[0].imshow(a_ratio, aspect=10, cmap=\"Paired\")\n",
    "ax[0].set_title(\"g/r\")\n",
    "ax[1].imshow(a_r, aspect=10,cmap=\"Paired\")\n",
    "ax[1].set_title(\"Root a(t)\")\n",
    "plt.show()"
   ]
  },
  {
   "cell_type": "markdown",
   "metadata": {
    "collapsed": true
   },
   "source": [
    "Hmm, not entirely.  The root of your equation is what I'd call a_hat(t), the estimate of a(t) at each time point. So the root IS a(t) – there's no difference to minimize here.\n",
    "\n",
    "In the second step you want to minimize equation 5 for sigg and sigr, with a_hat(t) plugged in for a(t).  So the function you're handing off to your minimizer (check this against eq 5) is:\n",
    "\n",
    "$\\sum_t    - .5  \\log (a_hat(t)^2 \\sigma_r + \\sigma_g) - .5 *\\frac{(g(t)-a_hat(t) r(t) )^2}{a_hat(t)^2 \\sigma_r + \\sigma_g}. $\n",
    "\n",
    "and have it minimize that for [\\vg; \\vr]  (which are my shorthand for sigg^2 and and sigr^2).\n",
    "\n",
    "Or did you already differentiate that with respect to the sigmas and set to zero?  (Does it have a nice derivative? I didn't even look but it might!)"
   ]
  },
  {
   "cell_type": "code",
   "execution_count": null,
   "metadata": {
    "collapsed": true
   },
   "outputs": [],
   "source": [
    "# Given an a, solve for sig r and sigg, then recover a\n",
    "\n",
    "# Find a from g/r\n",
    "\n",
    "# Solve for sigr and sigg\n",
    "sr = -(- a^2*r^2 + 2*a*g*r - g^2 + sg)/a^2\n",
    "sg = a^2*r^2 - sr*a^2 - 2*a*g*r + g^2\n",
    "\n",
    "# Recover a\n",
    "\n",
    "Iterate"
   ]
  }
 ],
 "metadata": {
  "kernelspec": {
   "display_name": "Python 3",
   "language": "python",
   "name": "python3"
  },
  "language_info": {
   "codemirror_mode": {
    "name": "ipython",
    "version": 3
   },
   "file_extension": ".py",
   "mimetype": "text/x-python",
   "name": "python",
   "nbconvert_exporter": "python",
   "pygments_lexer": "ipython3",
   "version": "3.5.1"
  }
 },
 "nbformat": 4,
 "nbformat_minor": 0
}
