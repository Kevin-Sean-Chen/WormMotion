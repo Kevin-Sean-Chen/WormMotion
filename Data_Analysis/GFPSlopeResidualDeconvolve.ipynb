{
 "cells": [
  {
   "cell_type": "markdown",
   "metadata": {},
   "source": [
    "# GFP RFP\n",
    "Read in data, discard NaN values, then calculate slopes of different neurons, residuals, and deconvolve to get neural activity"
   ]
  },
  {
   "cell_type": "code",
   "execution_count": null,
   "metadata": {
    "collapsed": false
   },
   "outputs": [],
   "source": [
    "import numpy as np\n",
    "from scipy.interpolate import interp1d\n",
    "from scipy.interpolate import interpn\n",
    "from matplotlib import pyplot as plt\n",
    "import seaborn as sns\n",
    "import scipy.io as sio\n",
    "%pylab inline"
   ]
  },
  {
   "cell_type": "code",
   "execution_count": null,
   "metadata": {
    "collapsed": false
   },
   "outputs": [],
   "source": [
    "# load data\n",
    "#directory = 'Data/GFP_moving/' # for Katherine's computer\n",
    "directory = '../Data/20160107_AllData/GFP_moving/' # for Nick's computer\n",
    "file_name = 'heatData'\n",
    "heatData = sio.loadmat(directory+file_name) # Contains: DmatAll, G2, R2, Ratio2, acorr, cgIdx, cgIdxRev, ethoTrack, hasPointsTime"
   ]
  },
  {
   "cell_type": "code",
   "execution_count": null,
   "metadata": {
    "collapsed": false
   },
   "outputs": [],
   "source": [
    "# Clean NaN\n",
    "G2 = np.array(heatData['G2'])\n",
    "R2 = np.array(heatData['R2'])\n",
    "print(G2.shape)\n",
    "\n",
    "badcols = np.array([x|y for (x,y) in zip(np.isnan(G2).any(axis=0), np.isnan(R2).any(axis=0))])\n",
    "intG2 = G2[:,~badcols]\n",
    "intR2 = R2[:,~badcols]\n",
    "\n",
    "(neurons, time) = intG2.shape\n",
    "timePoints = np.array(range(1,time))\n",
    "print(intG2.shape)\n",
    "\n",
    "f ,ax = plt.subplots(1,2, figsize=(20,5*2))\n",
    "ax[0].imshow(intG2, aspect=10,cmap=\"Paired\")\n",
    "ax[1].imshow(intR2, aspect=10,cmap=\"Paired\")\n",
    "for axis, title in zip(ax, [r'GFP', r'RFP']):\n",
    "    axis.set_title(title)\n"
   ]
  },
  {
   "cell_type": "markdown",
   "metadata": {},
   "source": [
    "# Select some neurons to look at more closely"
   ]
  },
  {
   "cell_type": "code",
   "execution_count": null,
   "metadata": {
    "collapsed": true
   },
   "outputs": [],
   "source": [
    "# select neurons\n",
    "plot_neurons = [10, 20]#random_integers(0,neurons, 3)"
   ]
  },
  {
   "cell_type": "code",
   "execution_count": null,
   "metadata": {
    "collapsed": false
   },
   "outputs": [],
   "source": [
    "# Plot some neuron recordings from GFP and RFP on top of each other\n",
    "f, ax = plt.subplots(len(plot_neurons),1, figsize=(20,10*len(plot_neurons)))\n",
    "\n",
    "for i, v in enumerate(plot_neurons):\n",
    "    ax[i].plot(intG2[v,:], label=(\"GFP \" + str(v)), color='g')\n",
    "    ax[i].plot(intR2[v,:], label=(\"RFP \" + str(v)), color='r')\n",
    "    ax[i].legend()\n",
    "    ax[i].set_title((\"Neuron: \" + str(v)))"
   ]
  },
  {
   "cell_type": "markdown",
   "metadata": {},
   "source": [
    "## Some thoughts on plots of GFP on RFP:  \n",
    "\n",
    "* Doesn't look great. Neurons 0 and 20 match closely, in neuron 10, GFP is often much higher than RFP. Some areas where RFP is also higher. \n",
    "* Neuron 50, much higher RFP\n"
   ]
  },
  {
   "cell_type": "code",
   "execution_count": null,
   "metadata": {
    "collapsed": false
   },
   "outputs": [],
   "source": [
    "# Looks like RFP is greater than GFP often, let's look at the median\n",
    "# Don't think this is the best way to do it, but not sure what a better way would be\n",
    "print(np.median(intG2))\n",
    "print(np.median(intR2))\n",
    "\n",
    "f = plt.figure(figsize=(20,10))\n",
    "ax = plt.axes()\n",
    "ax.set_title(\"Median of all neuron values\")\n",
    "ax.plot(np.median(intG2,axis=0), label=\"GFP\", color='g')\n",
    "ax.plot(np.median(intR2,axis=0), label=\"RFP\", color='r')\n",
    "ax.legend()\n",
    "\n",
    "# Not always RFP greater than GFP"
   ]
  },
  {
   "cell_type": "markdown",
   "metadata": {},
   "source": [
    "# Slopes\n",
    "Now that we have the data read in, let's look at some basic linear regressions."
   ]
  },
  {
   "cell_type": "code",
   "execution_count": null,
   "metadata": {
    "collapsed": false
   },
   "outputs": [],
   "source": [
    "from scipy import stats\n",
    "import string\n",
    "X = np.ones((time,1))\n",
    "Y = np.zeros((time,1))\n",
    "\n",
    "vals = plot_neurons#[0,56]\n",
    "f ,ax = plt.subplots(len(vals),1, figsize=(20,len(vals)*10))\n",
    "for i, v in enumerate(vals):\n",
    "    print(v)\n",
    "    Y = intG2[v,:].T\n",
    "    X = intR2[v,:].T\n",
    "    slope, intercept, r_value, p_value, std_err = stats.linregress(X,Y)\n",
    "    ax[i].plot(X,Y, lw=0.2)\n",
    "    ax[i].scatter(X,Y, c= np.arange(len(X)), cmap='Blues') # other possible colormaps are: YlOrBr, YlGnBu, BuGn\n",
    "    ax[i].plot(X, intercept + slope*X)\n",
    "    ax[i].set_title('Neuron: ' + str(v)+', Slope: '+ \"%.3f\" % slope)"
   ]
  },
  {
   "cell_type": "code",
   "execution_count": null,
   "metadata": {
    "collapsed": false
   },
   "outputs": [],
   "source": [
    "slopes = np.zeros(neurons)\n",
    "r_values = np.zeros(neurons)\n",
    "intercepts = np.zeros(neurons)\n",
    "resids = np.zeros((neurons,time))\n",
    "\n",
    "Y = np.empty_like(intG2[1,:].T)\n",
    "X = np.empty_like(intR2[1,:].T)\n",
    "\n",
    "for i in range(0,neurons):\n",
    "    Y = intG2[i,:].T\n",
    "    X = intR2[i,:].T\n",
    "    slope, intercept, r_value, p_value, std_err = stats.linregress(X,Y)\n",
    "    slopes[i] = slope\n",
    "    r_values[i] = r_value\n",
    "    intercepts[i] = intercept\n",
    "    \n",
    "    resids[i,:] = Y-intercept-slope*X\n",
    "\n",
    "plt.figure(figsize=(20,10))\n",
    "plt.scatter(range(0,neurons), slopes)\n",
    "plt.title('Slopes of G2 regressed on R2 for each neuron')\n",
    "\n",
    "# find that odd negative slope\n",
    "# import operator\n",
    "# min_index, min_value = min(enumerate(slopes), key=operator.itemgetter(1))\n",
    "# print(min_index)"
   ]
  },
  {
   "cell_type": "code",
   "execution_count": null,
   "metadata": {
    "collapsed": false
   },
   "outputs": [],
   "source": [
    "# rvalues\n",
    "plt.figure(figsize=(12,8))\n",
    "\n",
    "plt.scatter(slopes, r_values)\n",
    "plt.title('R^2 values of G2 regressed on R2 for each neuron')\n",
    "plt.xlabel('Slope')\n",
    "plt.ylabel('r_Value')\n",
    "plt.ylim([-1,1])\n"
   ]
  },
  {
   "cell_type": "markdown",
   "metadata": {},
   "source": [
    "## Take a look at the smallest R value neuron"
   ]
  },
  {
   "cell_type": "code",
   "execution_count": null,
   "metadata": {
    "collapsed": false
   },
   "outputs": [],
   "source": [
    "import operator\n",
    "min_index, min_value = min(enumerate(r_values), key=operator.itemgetter(1))\n",
    "\n",
    "f = plt.figure(figsize=(20,10))\n",
    "ax = plt.axes()\n",
    "\n",
    "X = intG2[min_index,:]\n",
    "Y = intR2[min_index,:]\n",
    "ax.plot(X, Y, lw=0.2)\n",
    "ax.scatter(X,Y, c= np.arange(len(X)), cmap='Blues') # other possible colormaps are: YlOrBr, YlGnBu, BuGn\n",
    "ax.plot(X, intercepts[min_index] + slopes[min_index]*X)\n",
    "ax.set_title('Neuron: ' + str(min_index)+', Slope: '+ \"%.3f\" % slopes[min_index])"
   ]
  },
  {
   "cell_type": "code",
   "execution_count": null,
   "metadata": {
    "collapsed": false
   },
   "outputs": [],
   "source": [
    "# Plot the GFP and RFP recordings\n",
    "f = plt.figure(figsize=(20,10))\n",
    "ax = plt.axes()\n",
    "\n",
    "ax.plot(intG2[min_index,:], label=\"GFP\", color='g')\n",
    "ax.plot(intR2[min_index,:], label=\"RFP\", color='r')\n",
    "ax.legend()\n",
    "ax.set_title((\"Neuron: \" + str(min_index)))"
   ]
  },
  {
   "cell_type": "markdown",
   "metadata": {},
   "source": [
    "### Robust estimators\n",
    "\n",
    "Let's try some robust estimators for the smallest value"
   ]
  },
  {
   "cell_type": "code",
   "execution_count": null,
   "metadata": {
    "collapsed": false
   },
   "outputs": [],
   "source": [
    "# trying a robust estimator: http://scikit-learn.org/stable/auto_examples/linear_model/plot_ransac.html#example-linear-model-plot-ransac-py\n",
    "from sklearn import linear_model\n",
    "\n",
    "Y = intG2[min_index,:].T\n",
    "X = intR2[min_index,:].T\n",
    "# Reshape\n",
    "Y = np.reshape(Y,(len(Y),1))\n",
    "X = np.reshape(X,(len(X),1))\n",
    "model = linear_model.LinearRegression()\n",
    "model.fit(X,Y)\n",
    "\n",
    "# Robustly fit linear model with RANSAC algorithm\n",
    "model_ransac = linear_model.RANSACRegressor(linear_model.LinearRegression())\n",
    "model_ransac.fit(X, Y)\n",
    "inlier_mask = model_ransac.inlier_mask_\n",
    "outlier_mask = np.logical_not(inlier_mask)\n",
    "\n",
    "# Predict data of estimated models\n",
    "line_y = model.predict(X)\n",
    "line_y_ransac = model_ransac.predict(X)\n",
    "\n",
    "# Compare estimated coefficients\n",
    "print(\"Estimated coefficients (normal, RANSAC):\")\n",
    "print(model.coef_, model_ransac.estimator_.coef_)\n",
    "\n",
    "\n",
    "f = plt.figure(figsize=(20,10))\n",
    "ax = plt.axes()\n",
    "ax.plot(X[inlier_mask], Y[inlier_mask], '.', label='Inliers')\n",
    "ax.plot(X[outlier_mask], Y[outlier_mask], '.', label='Outliers')\n",
    "ax.plot(X, line_y, label='Linear regressor')\n",
    "ax.plot(X, line_y_ransac, label='RANSAC regressor')\n",
    "ax.legend(loc='upper right')"
   ]
  },
  {
   "cell_type": "markdown",
   "metadata": {},
   "source": [
    "# Redo slope with RANSAC"
   ]
  },
  {
   "cell_type": "code",
   "execution_count": null,
   "metadata": {
    "collapsed": false
   },
   "outputs": [],
   "source": [
    "ransac_slopes = np.zeros(neurons)\n",
    "ransac_r_values = np.zeros(neurons)\n",
    "ransac_intercepts = np.zeros(neurons)\n",
    "\n",
    "model_ransac = linear_model.RANSACRegressor(linear_model.LinearRegression())\n",
    "\n",
    "Y = np.empty((len(intG2[1,:]),1))\n",
    "X = np.empty((len(intR2[1,:]),1))\n",
    "\n",
    "for i in range(0,neurons):\n",
    "    Y = np.reshape(intG2[i,:], (len(intG2[i,:]),1))\n",
    "    X = np.reshape(intR2[i,:], (len(intG2[i,:]),1))\n",
    "    \n",
    "    model_ransac.fit(X, Y)\n",
    "    line_y = model.predict(X)\n",
    "\n",
    "    ransac_slopes[i] = model_ransac.estimator_.coef_\n",
    "    ransac_r_values[i] = model_ransac.score(X,Y)\n",
    "    ransac_intercepts[i] = model_ransac.estimator_.intercept_\n",
    "\n",
    "plt.figure(figsize=(20,10))\n",
    "plt.scatter(range(0,neurons), ransac_slopes)\n",
    "plt.title('RANSAC: Slopes of G2 regressed on R2 for each neuron')\n"
   ]
  },
  {
   "cell_type": "code",
   "execution_count": null,
   "metadata": {
    "collapsed": false
   },
   "outputs": [],
   "source": [
    "# rvalues\n",
    "plt.figure(figsize=(12,8))\n",
    "\n",
    "plt.scatter(ransac_slopes, ransac_r_values)\n",
    "plt.title('RANSAC: R^2 values of G2 regressed on R2 for each neuron')\n",
    "plt.xlabel('Slope')\n",
    "plt.ylabel('r_Value')\n",
    "plt.ylim([-1,1])\n"
   ]
  }
 ],
 "metadata": {
  "kernelspec": {
   "display_name": "Python 3",
   "language": "python",
   "name": "python3"
  },
  "language_info": {
   "codemirror_mode": {
    "name": "ipython",
    "version": 3
   },
   "file_extension": ".py",
   "mimetype": "text/x-python",
   "name": "python",
   "nbconvert_exporter": "python",
   "pygments_lexer": "ipython3",
   "version": "3.5.1"
  }
 },
 "nbformat": 4,
 "nbformat_minor": 0
}
