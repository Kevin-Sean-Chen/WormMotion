{
 "cells": [
  {
   "cell_type": "markdown",
   "metadata": {},
   "source": [
    "# Animations\n",
    "\n",
    "Generate animation of centerline across all time\n",
    "\n",
    "* Worm centerline\n",
    "    * all centerline across time\n",
    "    * animation of centerlines\n",
    "    * animation of centerlines with neural information"
   ]
  },
  {
   "cell_type": "code",
   "execution_count": null,
   "metadata": {
    "collapsed": false
   },
   "outputs": [],
   "source": [
    "import numpy as np\n",
    "from scipy.interpolate import interp1d\n",
    "from scipy.interpolate import interpn\n",
    "from matplotlib import animation, pyplot, gridspec as plt\n",
    "import seaborn as sns\n",
    "import scipy.io as sio\n",
    "\n",
    "%pylab inline"
   ]
  },
  {
   "cell_type": "markdown",
   "metadata": {},
   "source": [
    "## Display all centerline across time\n",
    "On a single plot."
   ]
  },
  {
   "cell_type": "code",
   "execution_count": null,
   "metadata": {
    "collapsed": false
   },
   "outputs": [],
   "source": [
    "# Read in worm data from SharedData .npz file\n",
    "Worm = 5\n",
    "worm_data = np.load('../SharedData/Worm'+str(Worm)+'.npz')\n",
    "\n",
    "rec_x = worm_data['Center_x']\n",
    "rec_y = worm_data['Center_y']\n",
    "rec_time = worm_data['CenterTimes']\n",
    "\n",
    "[center_length, center_time] = np.shape(rec_x)"
   ]
  },
  {
   "cell_type": "code",
   "execution_count": null,
   "metadata": {
    "collapsed": false
   },
   "outputs": [],
   "source": [
    "# Clean-up (removing bad frames)\n",
    "if Worm == 5: # Bad frames at 905\n",
    "    rec_x = np.delete(rec_x, 905, 1)\n",
    "    rec_y = np.delete(rec_y, 905, 1)\n",
    "    rec_time = np.delete(rec_time, 905, 0)"
   ]
  },
  {
   "cell_type": "code",
   "execution_count": null,
   "metadata": {
    "collapsed": false
   },
   "outputs": [],
   "source": [
    "# Plot centerline at all times\n",
    "f = plt.figure(figsize=(20,10))\n",
    "ax = plt.axes()\n",
    "\n",
    "for i in range(0,center_time-1):\n",
    "    ax.plot(rec_x[1:center_length-1,i], rec_y[1:center_length-1,i]) # plot without first and last point\n",
    "\n",
    "ax.set_title(\"Worm Centerline through All Time\")\n",
    "ax.set_xlabel(r'x-position')\n",
    "ax.set_ylabel(r'y-position')\n",
    "plt.show()"
   ]
  },
  {
   "cell_type": "markdown",
   "metadata": {},
   "source": [
    "## Animate centerlines\n",
    "\n",
    "1 frame per 20 milliseconds (this is not in real time, it should be faster than real time)\n",
    "\n",
    "**NOTE:** \n",
    "Playing animations inline and saving them require special software and python libraries\n",
    "In order to work with animations at all, you need to have ffmpeg.\n",
    "I recommend installing with brew: In terminal '*brew install ffmpeg*'\n",
    "This should allow you to save your animations for replay outside of IPython (i.e. could\n",
    "open in QuickTime or VLC)\n",
    "\n",
    "For nifty inline animations, I use the Python library JSAnimation which you can install from:\n",
    "**https://github.com/numerical-mooc/numerical-mooc/wiki/HOWTO:-Install-JSAnimation-for-IPython-Notebook**\n",
    "Simply import the library as shown below. Note however that it you may only want to view a subset of the total frames (~200) - things start to get iffy beyond that.\n",
    "\n",
    "General information about animation with matplotlib can be found at: ** http://matplotlib.sourceforge.net/api/animation_api.html**"
   ]
  },
  {
   "cell_type": "code",
   "execution_count": null,
   "metadata": {
    "collapsed": false
   },
   "outputs": [],
   "source": [
    "from JSAnimation import IPython_display\n",
    "\n",
    "# First set up the figure, the axis, and the plot element we want to animate\n",
    "f = plt.figure(figsize=(20,10))\n",
    "ax = plt.axes(xlim=(0,1000), ylim=(0,1000))\n",
    "line, = ax.plot([], [], lw=2)\n",
    "\n",
    "# initialization function: plot the background of each frame\n",
    "def init():\n",
    "    line.set_data([], [])\n",
    "    return line,\n",
    "\n",
    "# animation function.  This is called sequentially\n",
    "def animate(i):\n",
    "    line.set_data(rec_x[1:center_length-1,i], rec_y[1:center_length-1,i])\n",
    "    return line,\n",
    "\n",
    "### For inline animation\n",
    "animation.FuncAnimation(f, animate, init_func=init,\n",
    "                        frames=100, interval=20, blit=True)\n",
    "\n",
    "### For saving the animation as an mp4\n",
    "# anim = animation.FuncAnimation(f, animate, init_func=init,\n",
    "#                                frames=time, interval=20, blit=True)\n",
    "# plt.close()\n",
    "# anim.save('Worm' + str(Worm) + 'Centerline.mp4',\n",
    "#           fps=30, extra_args=['-vcodec', 'libx264', '-pix_fmt', 'yuv420p'])"
   ]
  },
  {
   "cell_type": "markdown",
   "metadata": {},
   "source": [
    "# Animation of centerlines with neural information\n",
    "\n",
    "1 frame every 20 miliseconds (faster than real time)\n",
    "\n",
    "* read in neural data\n",
    "* line up neural data with times for centerline\n",
    "* remove NaN values in both neural data and centerline data\n",
    "* create plots of GCamp, RFP, centerline with vertical lines going across GCamp and RFP in sync with the centerline data. "
   ]
  },
  {
   "cell_type": "code",
   "execution_count": null,
   "metadata": {
    "collapsed": false
   },
   "outputs": [],
   "source": [
    "# Clean neural data (remove NaN's) + clean recording data\n",
    "G = worm_data['G']\n",
    "R = worm_data['R']\n",
    "Time = worm_data['Time']\n",
    "\n",
    "badcols = np.array([x|y for (x,y) in zip(np.isnan(G).any(axis=0), np.isnan(R).any(axis=0))])\n",
    "G = G[:,~badcols]\n",
    "R = R[:,~badcols]\n",
    "Time = Time[~badcols]\n",
    "\n",
    "[neuron_length, neuron_time] = np.shape(G)\n",
    "timePoints = np.arange(1,neuron_time)\n",
    "\n",
    "f ,ax = plt.subplots(1,2, figsize=(20,5*2))\n",
    "ax[0].imshow(G, aspect=10,cmap=\"Paired\")\n",
    "ax[1].imshow(R, aspect=10,cmap=\"Paired\")\n",
    "for axis, title in zip(ax, [r'GCAMP', r'RFP']):\n",
    "    axis.set_title(title)\n",
    "    axis.set_xlabel(r'Frame #')\n",
    "    axis.set_ylabel(r'Neuron #')"
   ]
  },
  {
   "cell_type": "markdown",
   "metadata": {},
   "source": [
    "## Match up times for neural and centerline data\n",
    "\n",
    "Neural data is seperated by .166 sec on average\n",
    "\n",
    "Centerline data is seperated by 0.016 sec on average\n",
    "\n",
    "For each neural timestamp, find the index of centerline data that sits closest to it and record those indicies"
   ]
  },
  {
   "cell_type": "code",
   "execution_count": null,
   "metadata": {
    "collapsed": false
   },
   "outputs": [],
   "source": [
    "# Make sure centerline times encompass neuron times\n",
    "if rec_time[0] > Time[0] or rec_time[-1] < Time[-1]:\n",
    "    viable_indices = np.array([rec_time[0] < i and rec_time[-1] > i for i in Time])\n",
    "    Time = Time[viable_indices]\n",
    "    print('Neuron data was trimmed to only data with corresponding centerline info. \\\\\n",
    "          Data now starts at ' + str(Time[0]) + 'sec and ends at ' + str(Time[-1]) + 'sec')\n",
    "    \n",
    "ind = np.zeros(len(Time), dtype=int)\n",
    "i = 0\n",
    "j = 0\n",
    "for i in range(len(Time)):\n",
    "    while rec_time[j] < Time[i]:\n",
    "        j += 1\n",
    "    if abs(rec_time[j-1] - Time[i]) < abs(rec_time[j] - Time[i]):\n",
    "        ind[i] = j-1\n",
    "    else:\n",
    "        ind[i] = j\n",
    "        \n",
    "# Check\n",
    "print('The average difference in time courses is ' + \n",
    "     '%.1f' % (np.average(abs(rec_time[ind] - Time))*1000) + 'msec and the max difference is ' +\n",
    "     '%.1f' % (np.max(abs(rec_time[ind] - Time))*1000) + 'msec')"
   ]
  },
  {
   "cell_type": "code",
   "execution_count": null,
   "metadata": {
    "collapsed": false
   },
   "outputs": [],
   "source": [
    "from JSAnimation import IPython_display\n",
    "%pylab inline\n",
    "\n",
    "f_combo = plt.figure(figsize=(20,20))\n",
    "ax1 = plt.subplot2grid((2,4), (0,0), colspan=2)\n",
    "ax1.set_xlim([0, neuron_time])\n",
    "ax1.set_ylim([0, neuron_length])\n",
    "ax2 = plt.subplot2grid((2,4), (0,2), colspan=2)\n",
    "ax2.set_xlim([0, neuron_time])\n",
    "ax2.set_ylim([0, neuron_length])\n",
    "ax3 = plt.subplot2grid((2,4), (1, 1), colspan=2)\n",
    "ax3.set_xlim([0,1000])\n",
    "ax3.set_ylim([0,1000])\n",
    "plt.tight_layout()\n",
    "\n",
    "# set up lines to plot\n",
    "line_1_top, = ax1.plot([],[],lw=2, color='r')\n",
    "line_2_top, = ax2.plot([],[],lw=2, color='r')\n",
    "line_3, = ax3.plot([],[],lw=2)\n",
    "\n",
    "# initalize\n",
    "def init_combo():\n",
    "    # background images\n",
    "    ax1.imshow(G, aspect=10,cmap=\"Paired\")\n",
    "    ax2.imshow(R, aspect=10,cmap=\"Paired\")\n",
    "    # lines that change\n",
    "    line_1_top.set_data([],[])\n",
    "    line_2_top.set_data([],[])\n",
    "    line_3.set_data([],[])\n",
    "    return line_1_top, line_2_top, line_3,\n",
    "\n",
    "def animate_combo(i):\n",
    "    line_1_top.set_data(np.repeat(i,neuron_length), range(0,neuron_length))\n",
    "    line_2_top.set_data(np.repeat(i,neuron_length), range(0,neuron_length))\n",
    "    line_3.set_data(rec_x[1:center_length-1,ind[i]], rec_y[1:center_length-1,ind[i]])\n",
    "    return line_1_top, line_2_top, line_3,\n",
    "\n",
    "### For inline animation\n",
    "# animation.FuncAnimation(f_combo, animate_combo, init_func=init_combo,\n",
    "#                                frames=100, interval=20, blit=True)\n",
    "\n",
    "### For saving the animation as an mp4\n",
    "anim = animation.FuncAnimation(f_combo, animate_combo, init_func=init_combo,\n",
    "                               frames=len(Time), interval=20, blit=True)\n",
    "plt.close()\n",
    "anim.save('worm' + str(Worm) + 'centerline_neural.mp4',\n",
    "          fps=6, extra_args=['-vcodec', 'libx264', '-pix_fmt', 'yuv420p'])"
   ]
  }
 ],
 "metadata": {
  "kernelspec": {
   "display_name": "Python 3",
   "language": "python",
   "name": "python3"
  },
  "language_info": {
   "codemirror_mode": {
    "name": "ipython",
    "version": 3
   },
   "file_extension": ".py",
   "mimetype": "text/x-python",
   "name": "python",
   "nbconvert_exporter": "python",
   "pygments_lexer": "ipython3",
   "version": "3.5.1"
  }
 },
 "nbformat": 4,
 "nbformat_minor": 0
}
