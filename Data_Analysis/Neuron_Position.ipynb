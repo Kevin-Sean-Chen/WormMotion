{
 "cells": [
  {
   "cell_type": "markdown",
   "metadata": {},
   "source": [
    "Compute pairwise matrix and find PCA of it"
   ]
  },
  {
   "cell_type": "code",
   "execution_count": null,
   "metadata": {
    "collapsed": false
   },
   "outputs": [],
   "source": [
    "import numpy as np\n",
    "from matplotlib import animation, pyplot as plt\n",
    "import seaborn as sns\n",
    "import pandas as pd\n",
    "import scipy.linalg as linalg\n",
    "import scipy.stats as stats\n",
    "import scipy.interpolate as interp\n",
    "from scipy.interpolate import interp1d # For some reason using interp continually gives me errors\n",
    "\n",
    "import warnings\n",
    "warnings.filterwarnings('ignore')\n",
    "%pylab inline"
   ]
  },
  {
   "cell_type": "code",
   "execution_count": null,
   "metadata": {
    "collapsed": true
   },
   "outputs": [],
   "source": [
    "# Some switches\n",
    "\n",
    "# Compute exp(-pairwise distances) set close = True\n",
    "close = False\n",
    "\n",
    "# Remove worm tail, set tail = True\n",
    "tail = False"
   ]
  },
  {
   "cell_type": "code",
   "execution_count": null,
   "metadata": {
    "collapsed": false
   },
   "outputs": [],
   "source": [
    "### Read in worm data from SharedData .npz file\n",
    "Worm = 'GFP'\n",
    "worm_data = np.load('../SharedData/Worm'+Worm+'.npz')\n",
    "print('The loaded npz contains the variables:\\n', np.sort([i for i in worm_data]))\n",
    "\n",
    "G_sig = 'GFP' if Worm == 'GFP' else 'GCaMP'\n",
    "\n",
    "### Import desired variables\n",
    "NPos = worm_data['NPos']\n",
    "Time = worm_data['Time']\n",
    "\n",
    "NPos = np.transpose(NPos, (1,2,0)) # Reorder: neuron, dimension, time\n",
    "Time = Time[:,0]\n",
    "\n",
    "original_neurons,original_dim, original_time = NPos.shape\n",
    "print('Shape of Neuron Position Matrix:', NPos.shape)"
   ]
  },
  {
   "cell_type": "code",
   "execution_count": null,
   "metadata": {
    "collapsed": false
   },
   "outputs": [],
   "source": [
    "### Fill in NaNs with interpolation\n",
    "all_bad = np.zeros((len(Time))).astype(bool)\n",
    "for i in range(len(NPos)):\n",
    "    for j in range(3):\n",
    "        \n",
    "        bad = np.isnan(NPos[i][j]) | (NPos[i][j]==1.0)\n",
    "        all_bad = all_bad | bad\n",
    "\n",
    "        interp_pos = interp1d(Time[~bad], NPos[i][j][~bad], kind='linear', \n",
    "                              assume_sorted=True, bounds_error=False)\n",
    "        NPos[i][j][bad] = interp_pos(Time[bad])\n",
    "\n",
    "        ### Visualize interpolated points\n",
    "#         plt.scatter(Time[~bad], NPos[i][j][~bad], color='blue')\n",
    "#         plt.plot(Time, NPos[i][j], color='blue', alpha=0.2)\n",
    "#         plt.scatter(Time[bad], NPos[i][j][bad], color='red')\n",
    "#         plt.show()\n",
    "#         break\n",
    "\n",
    "### Define the first and last 'good' point (able to be interpolated), and trim accordingly\n",
    "begin = np.where(~all_bad)[0][0]\n",
    "end = np.where(~all_bad)[0][-1] + 1\n",
    "NPos = NPos[:,:,begin:end]\n",
    "Time = Time[begin:end]\n",
    "\n",
    "### Transform z-coordinate from volts in pixels\n",
    "volt_to_pixel = 30\n",
    "NPos[:,2,:] = NPos[:,2,:]*volt_to_pixel\n",
    "\n",
    "### Get sizes\n",
    "num_neuron, dim, num_time = NPos.shape"
   ]
  },
  {
   "cell_type": "code",
   "execution_count": null,
   "metadata": {
    "collapsed": false
   },
   "outputs": [],
   "source": [
    "print(NPos.shape)"
   ]
  },
  {
   "cell_type": "code",
   "execution_count": null,
   "metadata": {
    "collapsed": false
   },
   "outputs": [],
   "source": [
    "if tail:\n",
    "    # find index of tail\n",
    "    if Worm == 'S1':\n",
    "        indx = [i for i,v in enumerate(NPos[:,0,0]) if v > 470]\n",
    "        indy = [i for i,v in enumerate(NPos[:,1,0]) if v > 350]\n",
    "        times = [0,1000,2000,2770]\n",
    "    elif Worm == 'GFP':\n",
    "        indx = [i for i,v in enumerate(NPos[:,0,0]) if v > 310]\n",
    "        indy = [i for i,v in enumerate(NPos[:,1,0]) if v > 380]\n",
    "        times = [0,1000,2000]\n",
    "    tail_ind = list(set(indx).intersection(indy))\n",
    "    tail_bool = np.array([i in tail_ind for i in range(0,len(NPos[:,0,0]))])\n",
    "\n",
    "    # Visualize the neural positions\n",
    "    print(NPos.shape)\n",
    "    f, ax = plt.subplots(len(times),1, figsize=(10,40))\n",
    "    for i,v in enumerate(times):\n",
    "        ax[i].scatter(NPos[:,0,v], NPos[:,1,v])\n",
    "        ax[i].scatter(NPos[tail_ind,0,v], NPos[tail_ind,1,v], c = 'r')\n",
    "    plt.show()"
   ]
  },
  {
   "cell_type": "code",
   "execution_count": null,
   "metadata": {
    "collapsed": false
   },
   "outputs": [],
   "source": [
    "if tail:\n",
    "    NPostail = NPos[~tail_bool,:,:]\n",
    "    NPos = np.transpose(NPostail, (2,0,1)) # time, neuron, dimension\n",
    "    print(\"Removed tail, NPos shape is: \", NPos.shape)\n",
    "else:\n",
    "    NPos = np.transpose(NPos, (2,0,1)) # Reorder: time, neuron, dimension\n",
    "    print(NPostail.shape)\n",
    "dists_far = np.zeros((num_time, (num_neuron-1)*num_neuron/2)) # initialize matrix for pairwise distances\n"
   ]
  },
  {
   "cell_type": "code",
   "execution_count": null,
   "metadata": {
    "collapsed": true
   },
   "outputs": [],
   "source": [
    "### Fill in pairwise distance matrix across time\n",
    "for i in range(num_time):\n",
    "    count = 0\n",
    "    for j in range(len(NPos[i])): # number neurons\n",
    "        for k in np.arange(j):\n",
    "            dists_far[i][count] = np.linalg.norm(NPos[i][j] - NPos[i][k]) # function returns euclidean distance\n",
    "            count = count + 1"
   ]
  },
  {
   "cell_type": "code",
   "execution_count": null,
   "metadata": {
    "collapsed": false
   },
   "outputs": [],
   "source": [
    "# Initialize matrix for pairwise distances e^-lambda*pairwise matrix\n",
    "if close:    \n",
    "    l = 2\n",
    "    dists_close = np.exp(-l*dists_far)\n",
    "    print(\"Created e^(-lambda* pairwise distance) matrix with size (%d, %d)\" % (dists_close.shape[0], dists_close.shape[1]))"
   ]
  },
  {
   "cell_type": "code",
   "execution_count": null,
   "metadata": {
    "collapsed": false
   },
   "outputs": [],
   "source": [
    "### Decompose distance array with SVD\n",
    "if close:\n",
    "    dists = dists_close\n",
    "else:\n",
    "    dists = dists_far\n",
    "d = dists.T # n x t\n",
    "d0 = d - np.mean(d, axis = 1)[:, None]\n",
    "U, s, Vt = np.linalg.svd(d0)"
   ]
  },
  {
   "cell_type": "code",
   "execution_count": null,
   "metadata": {
    "collapsed": false
   },
   "outputs": [],
   "source": [
    "### Choose the top components to be saved and save as npz\n",
    "top_components = 100\n",
    "NP_PCs = np.hstack((np.zeros((top_components,begin)),Vt[:top_components], np.zeros((top_components,original_time-end))))\n",
    "\n",
    "if close:\n",
    "    np.savez_compressed('Worm' + Worm + '_NPosPCA_Close', \n",
    "        NP_PCs = NP_PCs, s = s[:top_components], \n",
    "                    n = top_components, begin = begin, end = end\n",
    "                   )\n",
    "else:\n",
    "    np.savez_compressed('Worm' + Worm + '_NPosPCA', \n",
    "            NP_PCs = NP_PCs, s = s[:top_components], \n",
    "                        n = top_components, begin = begin, end = end\n",
    "                       )"
   ]
  },
  {
   "cell_type": "code",
   "execution_count": null,
   "metadata": {
    "collapsed": false
   },
   "outputs": [],
   "source": [
    "print(NP_PCs.shape, original_time)"
   ]
  },
  {
   "cell_type": "code",
   "execution_count": null,
   "metadata": {
    "collapsed": false
   },
   "outputs": [],
   "source": [
    "### Plot (cummulative) percentage of variance captured by PCs\n",
    "\n",
    "# plt.scatter(range(10),s[:10]**2/np.sum(s**2))\n",
    "plt.scatter(range(10),[np.sum(s[:i]**2)/np.sum(s**2) for i in range(10)])\n",
    "plt.show()"
   ]
  },
  {
   "cell_type": "code",
   "execution_count": null,
   "metadata": {
    "collapsed": false
   },
   "outputs": [],
   "source": [
    "### Visualize projection of data on PCs\n",
    "\n",
    "plt.plot(d0 @ Vt[0], color ='blue')\n",
    "# plt.plot(d0.T @ U[1])\n",
    "# plt.plot(d0.T @ U[1000])\n",
    "plt.show()"
   ]
  },
  {
   "cell_type": "code",
   "execution_count": null,
   "metadata": {
    "collapsed": true
   },
   "outputs": [],
   "source": []
  }
 ],
 "metadata": {
  "kernelspec": {
   "display_name": "Python 3",
   "language": "python",
   "name": "python3"
  },
  "language_info": {
   "codemirror_mode": {
    "name": "ipython",
    "version": 3
   },
   "file_extension": ".py",
   "mimetype": "text/x-python",
   "name": "python",
   "nbconvert_exporter": "python",
   "pygments_lexer": "ipython3",
   "version": "3.5.1"
  }
 },
 "nbformat": 4,
 "nbformat_minor": 0
}
