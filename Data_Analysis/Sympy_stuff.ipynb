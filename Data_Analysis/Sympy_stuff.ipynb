{
 "cells": [
  {
   "cell_type": "code",
   "execution_count": null,
   "metadata": {
    "collapsed": false
   },
   "outputs": [],
   "source": [
    "import numpy as np\n",
    "from matplotlib import animation, pyplot as plt\n",
    "import seaborn as sns\n",
    "import pandas as pd\n",
    "from scipy.linalg import inv\n",
    "import scipy.stats as stats\n",
    "import scipy.interpolate as interp\n",
    "from scipy.optimize import minimize, check_grad, approx_fprime\n",
    "from sympy import *\n",
    "\n",
    "# import warnings\n",
    "# warnings.filterwarnings('ignore')\n",
    "\n",
    "from sympy.interactive import printing\n",
    "printing.init_printing(use_latex=True)"
   ]
  },
  {
   "cell_type": "code",
   "execution_count": null,
   "metadata": {
    "collapsed": false
   },
   "outputs": [],
   "source": [
    "N = 100\n",
    "\n",
    "sigma_y = 1\n",
    "mu_y = 2*np.ones(N) #4 + 2*np.sin(np.arange(N)/5 + 2)\n",
    "y = mu_y + np.random.randn(N)*np.sqrt(sigma_y)\n",
    "\n",
    "alpha = 0.9\n",
    "Da = np.eye((N))\n",
    "for i in range(N-1):\n",
    "    Da[i+1,i] = -alpha\n",
    "\n",
    "Da_inv = np.linalg.inv(Da)\n",
    "a = Da_inv @ y\n",
    "\n",
    "\n",
    "mu_m = 5.0*np.ones((N))\n",
    "lambda_m = 25\n",
    "sigma_m = np.zeros((N,N))\n",
    "\n",
    "for i in np.arange(N):\n",
    "    for j in np.arange(i+1):\n",
    "        sigma_m[i][j] = np.exp(-(i - j)**2/lambda_m)\n",
    "        sigma_m[j][i] = np.exp(-(i - j)**2/lambda_m)\n",
    "\n",
    "        \n",
    "sigma_m = sigma_m + np.diag(np.ones(N) * 0.01)\n",
    "Sm_inv = np.linalg.inv(sigma_m)\n",
    "        \n",
    "m = np.random.multivariate_normal(mu_m, sigma_m)\n",
    "\n",
    "sigma_r = 1\n",
    "sigma_g = 1\n",
    "\n",
    "rfp = m + np.random.randn(N)*np.sqrt(sigma_r)\n",
    "gcamp = m*a + np.random.randn(N)*np.sqrt(sigma_g)\n",
    "\n",
    "y_guess = Da @ (gcamp/rfp)"
   ]
  },
  {
   "cell_type": "code",
   "execution_count": null,
   "metadata": {
    "collapsed": false
   },
   "outputs": [],
   "source": [
    "plt.plot(a)\n",
    "plt.plot(y_guess)\n",
    "plt.show()"
   ]
  },
  {
   "cell_type": "code",
   "execution_count": null,
   "metadata": {
    "collapsed": true
   },
   "outputs": [],
   "source": [
    "def Dalpha_negloglike(y, g, r, sr, sg, sy, Sm_inv, Da_inv, mu_m, mu_y):\n",
    "    N = len(y)\n",
    "    \n",
    "    Da_y = np.diag(Da_inv @ y)\n",
    "    p0 = (1.0/sr)*np.eye(N) + (1.0/sg)*Da_y**2 + Sm_inv\n",
    "    p0_inv = np.linalg.inv(p0)\n",
    "    \n",
    "    p1 = 0.5 * g.T @ Da_y @ p0_inv @ Da_y @ g / (1.0/sg)**2\n",
    "    p2 = (1.0/sg) * g.T @ Da_y @ p0_inv @ (r/sr + Sm_inv @ mu_m)\n",
    "    p3 = -(1.0/(2*sy)) * y.T @ y + (1.0/sy) * y.T @ mu_y\n",
    "    (sign, logdet) = np.linalg.slogdet(p0)\n",
    "    p4 = -0.5 * sign * logdet\n",
    "    \n",
    "    return -(p1 + p2 + p3 + p4)"
   ]
  },
  {
   "cell_type": "code",
   "execution_count": null,
   "metadata": {
    "collapsed": true
   },
   "outputs": [],
   "source": [
    "q = minimize(Dalpha_negloglike, y_guess, args=(gcamp,rfp,sigma_r, sigma_g, sigma_y, Sm_inv, Da_inv, mu_m, mu_y))#, method='CG', options={'maxiter':10000})"
   ]
  },
  {
   "cell_type": "code",
   "execution_count": null,
   "metadata": {
    "collapsed": false
   },
   "outputs": [],
   "source": [
    "plt.plot(y, color = 'blue')\n",
    "plt.plot(y_guess, color = 'red')\n",
    "plt.plot(q.x, color = 'cyan')\n",
    "plt.show()"
   ]
  },
  {
   "cell_type": "code",
   "execution_count": null,
   "metadata": {
    "collapsed": false
   },
   "outputs": [],
   "source": [
    "plt.plot(a, color = 'blue')\n",
    "plt.plot(gcamp/rfp, color = 'red')\n",
    "plt.plot(Da_inv @ q.x, color = 'cyan')\n",
    "plt.show()"
   ]
  },
  {
   "cell_type": "code",
   "execution_count": null,
   "metadata": {
    "collapsed": false
   },
   "outputs": [],
   "source": []
  },
  {
   "cell_type": "code",
   "execution_count": null,
   "metadata": {
    "collapsed": true
   },
   "outputs": [],
   "source": []
  },
  {
   "cell_type": "code",
   "execution_count": null,
   "metadata": {
    "collapsed": true
   },
   "outputs": [],
   "source": []
  },
  {
   "cell_type": "code",
   "execution_count": null,
   "metadata": {
    "collapsed": true
   },
   "outputs": [],
   "source": []
  },
  {
   "cell_type": "code",
   "execution_count": null,
   "metadata": {
    "collapsed": true
   },
   "outputs": [],
   "source": []
  },
  {
   "cell_type": "code",
   "execution_count": null,
   "metadata": {
    "collapsed": true
   },
   "outputs": [],
   "source": []
  },
  {
   "cell_type": "code",
   "execution_count": null,
   "metadata": {
    "collapsed": true
   },
   "outputs": [],
   "source": []
  },
  {
   "cell_type": "code",
   "execution_count": null,
   "metadata": {
    "collapsed": true
   },
   "outputs": [],
   "source": []
  },
  {
   "cell_type": "code",
   "execution_count": null,
   "metadata": {
    "collapsed": true
   },
   "outputs": [],
   "source": []
  },
  {
   "cell_type": "code",
   "execution_count": null,
   "metadata": {
    "collapsed": false
   },
   "outputs": [],
   "source": [
    "qq = np.arange(4)\n",
    "np.dot(qq,qq.T)"
   ]
  },
  {
   "cell_type": "code",
   "execution_count": null,
   "metadata": {
    "collapsed": true
   },
   "outputs": [],
   "source": []
  },
  {
   "cell_type": "code",
   "execution_count": null,
   "metadata": {
    "collapsed": true
   },
   "outputs": [],
   "source": []
  },
  {
   "cell_type": "code",
   "execution_count": null,
   "metadata": {
    "collapsed": true
   },
   "outputs": [],
   "source": []
  },
  {
   "cell_type": "code",
   "execution_count": null,
   "metadata": {
    "collapsed": true
   },
   "outputs": [],
   "source": []
  },
  {
   "cell_type": "code",
   "execution_count": null,
   "metadata": {
    "collapsed": true
   },
   "outputs": [],
   "source": []
  },
  {
   "cell_type": "code",
   "execution_count": null,
   "metadata": {
    "collapsed": false
   },
   "outputs": [],
   "source": [
    "N = 100\n",
    "\n",
    "mu_m = 3.0*np.ones((N))\n",
    "lambda_m = 10\n",
    "sigma_m = np.zeros((N,N))\n",
    "\n",
    "mu_a = 3.0*np.ones((N))\n",
    "lambda_a = 10\n",
    "sigma_a = np.zeros((N,N))\n",
    "\n",
    "for i in np.arange(N):\n",
    "    for j in np.arange(i+1):\n",
    "        sigma_m[i][j] = np.exp(-(i - j)**2/lambda_m)\n",
    "        sigma_m[j][i] = np.exp(-(i - j)**2/lambda_m)\n",
    "        sigma_a[i][j] = np.exp(-(i - j)**2/lambda_a)\n",
    "        sigma_a[j][i] = np.exp(-(i - j)**2/lambda_a)\n",
    "\n",
    "sigma_m = sigma_m + np.diag(np.ones(N) * 0.01)        \n",
    "sigma_a = sigma_a + np.diag(np.ones(N) * 0.01)        \n",
    "        \n",
    "m = np.random.multivariate_normal(mu_m, sigma_m)\n",
    "a = np.random.multivariate_normal(mu_a, sigma_a)\n",
    "\n",
    "sigma_r = 0.2\n",
    "sigma_g = 0.2\n",
    "\n",
    "rfp = m + np.random.randn(N)*np.sqrt(sigma_r)\n",
    "gcamp = m*a + np.random.randn(N)*np.sqrt(sigma_g)"
   ]
  },
  {
   "cell_type": "code",
   "execution_count": null,
   "metadata": {
    "collapsed": false
   },
   "outputs": [],
   "source": [
    "def step1(a, g, r, sr, sg, Sm, Sa, mu_m, mu_a):\n",
    "    N = len(a)\n",
    "    p1 = -0.5 * (a - mu_a).T @ inv(Sa) @ (a - mu_a)\n",
    "    p2_0 = r/sr + np.diag(a) @ g / sg + inv(Sm) @ mu_m\n",
    "    p2_1 = np.eye(N)/sr  + np.diag(a**2 / sg) + inv(Sm)\n",
    "    p2 = 0.5 * p2_0.T @ inv(p2_1) @ p2_0\n",
    "    (sign, logdet) = np.linalg.slogdet(p2_1)\n",
    "    p3 = -0.5 * sign * logdet\n",
    "    return -(p1 + p2 + p3)\n",
    "\n",
    "def step2(sigmas, a, g, r, Sm, Sa, mu_m, mu_a):\n",
    "    N = len(a)\n",
    "    sr, sg = sigmas\n",
    "    \n",
    "    p1 = -0.5 * (N*np.log(sr) + N*np.log(sg) + (r.T @ r)/sr + (g.T @ g)/sg)\n",
    "    p2_0 = r/sr + np.diag(a) @ g / sg + inv(Sm) @ mu_m\n",
    "    p2_1 = np.eye(N)/sr  + np.diag(a**2 / sg) + inv(Sm)\n",
    "    p2 = 0.5 * p2_0.T @ inv(p2_1) @ p2_0\n",
    "    (sign, logdet) = np.linalg.slogdet(p2_1)\n",
    "    p3 = -0.5 * sign * logdet\n",
    "    print(p1, p2, p3, -(p1 + p2 + p3))\n",
    "    return -(p1 + p2 + p3)\n",
    "\n",
    "def step12(sigmas_a, g, r, Sm, Sa, mu_m, mu_a):\n",
    "    N = len(g)\n",
    "    sr, sg = sigmas_a[0], sigmas_a[1]\n",
    "    a = sigmas_a[2:]\n",
    "    \n",
    "    p0 = -0.5 * (a - mu_a).T @ inv(Sa) @ (a - mu_a)\n",
    "    p1 = -0.5 * (0.5*N*np.log(sr**2) + 0.5*N*np.log(sg**2) + (r.T @ r)/sr + (g.T @ g)/sg)\n",
    "    p2_0 = r/sr + np.diag(a) @ g / sg + inv(Sm) @ mu_m\n",
    "    p2_1 = np.eye(N)/sr  + np.diag(a**2 / sg) + inv(Sm)\n",
    "    p2 = 0.5 * p2_0.T @ inv(p2_1) @ p2_0\n",
    "    (sign, logdet) = np.linalg.slogdet(p2_1)\n",
    "    p3 = -0.5 * sign * logdet\n",
    "#     print(p0, p1, p2, p3, -(p1 + p2 + p3))\n",
    "    return -(p0 + p1 + p2 + p3)\n",
    "    "
   ]
  },
  {
   "cell_type": "code",
   "execution_count": null,
   "metadata": {
    "collapsed": false
   },
   "outputs": [],
   "source": [
    "noisy_a = a + np.random.randn(N)*0.5\n",
    "q = minimize(step1, gcamp/rfp, args=(gcamp,rfp,sigma_r, sigma_g, sigma_m, sigma_a, mu_m, mu_a))#, method='CG', options={'maxiter':10000})"
   ]
  },
  {
   "cell_type": "code",
   "execution_count": null,
   "metadata": {
    "collapsed": false
   },
   "outputs": [],
   "source": [
    "sigmas = np.hstack(([np.var(rfp), np.var(gcamp)], gcamp/rfp))\n",
    "q3 = minimize(step12, sigmas, args=(gcamp,rfp,sigma_m, sigma_a, mu_m, mu_a))#, method='CG', options={'maxiter':10000})"
   ]
  },
  {
   "cell_type": "code",
   "execution_count": null,
   "metadata": {
    "collapsed": false
   },
   "outputs": [],
   "source": [
    "q2 = minimize(step2, [0.01,0.01], args=(a,gcamp,rfp, sigma_m, sigma_a, mu_m, mu_a), method='L-BFGS-B', bounds=((.0001,None),(.0001,None)))#, method='CG', options={'maxiter':10000})"
   ]
  },
  {
   "cell_type": "code",
   "execution_count": null,
   "metadata": {
    "collapsed": false
   },
   "outputs": [],
   "source": [
    "plt.plot(a)\n",
    "# plt.plot(noisy_a, color= 'green')\n",
    "plt.plot(q.x, color = 'red')\n",
    "plt.show()"
   ]
  },
  {
   "cell_type": "code",
   "execution_count": null,
   "metadata": {
    "collapsed": false
   },
   "outputs": [],
   "source": [
    "q2"
   ]
  },
  {
   "cell_type": "code",
   "execution_count": null,
   "metadata": {
    "collapsed": false
   },
   "outputs": [],
   "source": [
    "np.var(gcamp)"
   ]
  },
  {
   "cell_type": "code",
   "execution_count": null,
   "metadata": {
    "collapsed": false
   },
   "outputs": [],
   "source": [
    "qq = np.arange(10)\n",
    "qq[2:]"
   ]
  },
  {
   "cell_type": "code",
   "execution_count": null,
   "metadata": {
    "collapsed": false
   },
   "outputs": [],
   "source": [
    "rfp.T @ rfp"
   ]
  },
  {
   "cell_type": "code",
   "execution_count": null,
   "metadata": {
    "collapsed": true
   },
   "outputs": [],
   "source": [
    "plt.plot(m)\n",
    "plt.show()"
   ]
  },
  {
   "cell_type": "code",
   "execution_count": null,
   "metadata": {
    "collapsed": false
   },
   "outputs": [],
   "source": [
    "np.eye(3)*4"
   ]
  },
  {
   "cell_type": "code",
   "execution_count": null,
   "metadata": {
    "collapsed": true
   },
   "outputs": [],
   "source": [
    "a, v_r, v_g, r, g = symbols(\"a v_r v_g r g\")\n",
    "expr = -Rational(1/2)*log(a**2*v_g + v_r) + Rational(1/2)*(v_r*r + v_g*g*a)**2/(a**2*v_g + v_r)\n",
    "deriv = diff(expr,a)\n",
    "numer = fraction(factor(deriv))[0]"
   ]
  },
  {
   "cell_type": "code",
   "execution_count": null,
   "metadata": {
    "collapsed": true
   },
   "outputs": [],
   "source": [
    "roots = solve(Eq(numer,0),a)"
   ]
  },
  {
   "cell_type": "code",
   "execution_count": null,
   "metadata": {
    "collapsed": true
   },
   "outputs": [],
   "source": [
    "f_compl = lambdify((v_r, v_g, r, g), roots[2], \"numpy\")\n",
    "\n",
    "def f(v_r, v_g, r, g):\n",
    "    return f_compl(complex(v_r),complex(v_g),r.astype(complex),g.astype(complex))"
   ]
  },
  {
   "cell_type": "code",
   "execution_count": null,
   "metadata": {
    "collapsed": true
   },
   "outputs": [],
   "source": [
    "def loglike(sigma, r, g, a, hyper):\n",
    "    vr, vg = sigma\n",
    "    ar, ag, br, bg = hyper\n",
    "    T = len(a)\n",
    "    \n",
    "    logL0 = -(br*vr + bg*vg) + (ar - 1.0 + T/2)*np.log(vr) + (ag - 1.0 + T/2)*np.log(vg)\n",
    "    logL1 = np.sum(-0.5*(vg*g**2 + vr*r**2))\n",
    "    logL2 = np.sum(-0.5*np.log(vr + vg*a**2))\n",
    "    logL3 = np.sum(0.5*((vr*r + vg*g*a)**2)/(vr + vg*a**2))\n",
    "    \n",
    "    all_logL = logL0 + logL1 + logL2 + logL3\n",
    "    print(vr , vg, logL0, logL1 + logL2 + logL3)\n",
    "    return -all_logL\n",
    "\n",
    "def loglike_grad(sigma, r, g, a, hyper):\n",
    "    vr, vg = sigma\n",
    "    ar, ag, br, bg = hyper\n",
    "    T = len(a)\n",
    "    \n",
    "    vr_logL0 = -br + (ar - 1.0 + T/2)/vr\n",
    "    vr_logL1 = np.sum(-0.5*r**2)\n",
    "    vr_logL2 = np.sum(-0.5*(1/(vr + vg*a**2)))\n",
    "    vr_logL3 = np.sum(0.5*((vr + vg*a**2)*(2*vr*r**2 + 2*r*vg*g*a) - (vr*r + vg*g*a)**2)/(vr + vg*a**2)**2)\n",
    "    vr_all_logL = vr_logL0 + vr_logL1 + vr_logL2 + vr_logL3\n",
    "    \n",
    "    vg_logL0 = -bg + (ag - 1.0 + T/2)/vg\n",
    "    vg_logL1 = np.sum(-0.5*g**2)\n",
    "    vg_logL2 = np.sum(-0.5*(a**2/(vr + vg*a**2)))\n",
    "    vg_logL3 = np.sum(0.5*((vr + vg*a**2)*(2*vr*r*g*a + 2*vg*(g**2)*(a**2)) - (a**2)*(vr*r + vg*g*a)**2)/(vr + vg*a**2)**2)\n",
    "    vg_all_logL = vg_logL0 + vg_logL1 + vg_logL2 + vg_logL3\n",
    "    \n",
    "    return np.array([-vr_all_logL, -vg_all_logL])"
   ]
  },
  {
   "cell_type": "code",
   "execution_count": null,
   "metadata": {
    "collapsed": true
   },
   "outputs": [],
   "source": [
    "N = 10000\n",
    "\n",
    "activity = np.array([np.sin(i/10.0) for i in range(N)]) + 3\n",
    "motion = 3*np.array([np.sin(i/10.0 + np.pi/4) for i in range(N)]) + 6\n",
    "nu_r = 50.0\n",
    "nu_g = 50.0\n",
    "\n",
    "hyper = [1.0 ,1.0, 1.0, 1.0]\n",
    "\n",
    "rfp = motion + np.random.randn(N)/np.sqrt(nu_r)\n",
    "gcamp = motion*activity + np.random.randn(N)/np.sqrt(nu_g)"
   ]
  },
  {
   "cell_type": "code",
   "execution_count": null,
   "metadata": {
    "collapsed": false
   },
   "outputs": [],
   "source": [
    "vr_guess = [50.0]\n",
    "vg_guess = [50.0]\n",
    "activity_guess = []\n",
    "\n",
    "for i in range(2):\n",
    "    \n",
    "    act = np.real(f(vr_guess[-1], vg_guess[-1], rfp, gcamp))\n",
    "    q = minimize(loglike, [vr_guess[-1], vg_guess[-1]], jac=loglike_grad, args=(rfp,gcamp,act,hyper), \n",
    "                 method='L-BFGS-B', bounds=((.0001,None),(.0001,None)))\n",
    "    \n",
    "    vr_guess.append(q.x[0])\n",
    "    vg_guess.append(q.x[1])\n",
    "    activity_guess.append(act)\n",
    "    break\n"
   ]
  },
  {
   "cell_type": "code",
   "execution_count": null,
   "metadata": {
    "collapsed": false
   },
   "outputs": [],
   "source": [
    "q"
   ]
  },
  {
   "cell_type": "code",
   "execution_count": null,
   "metadata": {
    "collapsed": true
   },
   "outputs": [],
   "source": [
    "plt.plot(act, color='red')\n",
    "plt.plot(activity, color='blue')\n",
    "plt.show()"
   ]
  },
  {
   "cell_type": "code",
   "execution_count": null,
   "metadata": {
    "collapsed": false
   },
   "outputs": [],
   "source": [
    "heat = np.zeros((50,50))\n",
    "\n",
    "minval = -100\n",
    "maxval = 1\n",
    "\n",
    "vr_test = np.linspace(minval,maxval,50)\n",
    "vg_test = np.linspace(minval,maxval,50)\n",
    "\n",
    "for i_ind, i in enumerate(vr_test):\n",
    "    for j_ind, j in enumerate(vg_test):\n",
    "        test_hyper=[i,i,j,j]\n",
    "        heat[i_ind,j_ind] = loglike([50.0,50.0], rfp,gcamp,act,test_hyper)"
   ]
  },
  {
   "cell_type": "code",
   "execution_count": null,
   "metadata": {
    "collapsed": false
   },
   "outputs": [],
   "source": [
    "plt.imshow(heat, cmap='hot', extent=[minval,maxval,maxval,minval], interpolation='none')\n",
    "plt.colorbar()\n",
    "plt.show()"
   ]
  },
  {
   "cell_type": "code",
   "execution_count": null,
   "metadata": {
    "collapsed": true
   },
   "outputs": [],
   "source": [
    "from scipy.stats import gamma\n",
    "\n",
    "xx = np.arange(0,1,.001)"
   ]
  },
  {
   "cell_type": "code",
   "execution_count": null,
   "metadata": {
    "collapsed": false
   },
   "outputs": [],
   "source": [
    "check_grad(loglike, loglike_grad, [ 4.43415611,  4.06254183], rfp,gcamp,act,hyper)"
   ]
  },
  {
   "cell_type": "code",
   "execution_count": null,
   "metadata": {
    "collapsed": false
   },
   "outputs": [],
   "source": [
    "hyper = [5.0 ,5.0, 1.0, 1.0]\n",
    "\n",
    "approx_fprime(np.array([ 4.43415611,  4.06254183]), loglike, .0000001, rfp,gcamp,act, hyper)"
   ]
  },
  {
   "cell_type": "code",
   "execution_count": null,
   "metadata": {
    "collapsed": false
   },
   "outputs": [],
   "source": [
    "loglike_grad([ 4.43415611,  4.06254183], rfp, gcamp, act, hyper)"
   ]
  },
  {
   "cell_type": "code",
   "execution_count": null,
   "metadata": {
    "collapsed": true
   },
   "outputs": [],
   "source": []
  },
  {
   "cell_type": "code",
   "execution_count": null,
   "metadata": {
    "collapsed": true
   },
   "outputs": [],
   "source": []
  },
  {
   "cell_type": "code",
   "execution_count": null,
   "metadata": {
    "collapsed": true
   },
   "outputs": [],
   "source": []
  },
  {
   "cell_type": "code",
   "execution_count": null,
   "metadata": {
    "collapsed": true
   },
   "outputs": [],
   "source": []
  },
  {
   "cell_type": "code",
   "execution_count": null,
   "metadata": {
    "collapsed": true
   },
   "outputs": [],
   "source": []
  },
  {
   "cell_type": "code",
   "execution_count": null,
   "metadata": {
    "collapsed": true
   },
   "outputs": [],
   "source": []
  },
  {
   "cell_type": "code",
   "execution_count": null,
   "metadata": {
    "collapsed": true
   },
   "outputs": [],
   "source": []
  },
  {
   "cell_type": "code",
   "execution_count": null,
   "metadata": {
    "collapsed": true
   },
   "outputs": [],
   "source": [
    "a, v_r, v_g, r, g = symbols(\"a v_r v_g r g\")\n",
    "expr = -Rational(1/2)*log(a**2*v_g + v_r) + Rational(1/2)*(v_r*r + v_g*g*a)**2/(a**2*v_g + v_r)\n",
    "deriv = diff(expr,a)\n",
    "numer = fraction(factor(deriv))[0]"
   ]
  },
  {
   "cell_type": "code",
   "execution_count": null,
   "metadata": {
    "collapsed": true
   },
   "outputs": [],
   "source": [
    "roots = solve(Eq(numer,0),a)"
   ]
  },
  {
   "cell_type": "code",
   "execution_count": null,
   "metadata": {
    "collapsed": false
   },
   "outputs": [],
   "source": [
    "f_compl = lambdify((v_r, v_g, r, g), roots[2], \"numpy\")\n",
    "\n",
    "def f(v_r, v_g, r, g):\n",
    "    return f_compl(complex(v_r),complex(v_g),r.astype(complex),g.astype(complex))"
   ]
  },
  {
   "cell_type": "code",
   "execution_count": null,
   "metadata": {
    "collapsed": true
   },
   "outputs": [],
   "source": [
    "def loglike(sigma, r, g, a):\n",
    "    vr, vg = sigma\n",
    "    logL1 = -(vg*g**2 + vr*r**2)\n",
    "    logL2 = ((vr*r + vg*g*a)**2)/(vr + vg*a**2)\n",
    "    logL3 = np.log((vr*vg)/(vr + vg*a**2))\n",
    "    all_logL = 0.5*np.sum(logL1 + logL2 + logL3)\n",
    "    return -all_logL\n",
    "\n",
    "def loglike_grad(sigma, r, g, a):\n",
    "    vr, vg = sigma\n",
    "    \n",
    "    vr_logL1 = -r**2\n",
    "    vr_logL2 = ((vr + vg*a**2)*(2*vr*r**2 + 2*r*vg*g*a) - (vr*r + vg*g*a)**2)/(vr + vg*a**2)**2\n",
    "    vr_logL3 = (vg*a**2)/(vr*(vr + vg*a**2))\n",
    "    vr_all_logL = 0.5*np.sum(vr_logL1 + vr_logL2 + vr_logL3)\n",
    "    \n",
    "    vg_logL1 = -g**2\n",
    "    vg_logL2 = ((vr + vg*a**2)*(2*vr*r*g*a + 2*vg*(g**2)*(a**2)) - (a**2)*(vr*r + vg*g*a)**2)/(vr + vg*a**2)**2\n",
    "    vg_logL3 = vr/(vg*(vr + vg*a**2))\n",
    "    vg_all_logL = 0.5*np.sum(vg_logL1 + vg_logL2 + vg_logL3)\n",
    "    \n",
    "    return np.array([-vr_all_logL, -vg_all_logL])"
   ]
  },
  {
   "cell_type": "code",
   "execution_count": null,
   "metadata": {
    "collapsed": false
   },
   "outputs": [],
   "source": [
    "check_grad(loglike, loglike_grad, [10.0,10.0], rfp,gcamp,act)"
   ]
  },
  {
   "cell_type": "code",
   "execution_count": null,
   "metadata": {
    "collapsed": false
   },
   "outputs": [],
   "source": [
    "N = 100\n",
    "\n",
    "activity = np.array([np.sin(i/10.0) for i in range(N)]) + 3\n",
    "motion = 3*np.array([np.sin(i/10.0 + np.pi/4) for i in range(N)]) + 6\n",
    "nu_r = 100\n",
    "nu_g = 100\n",
    "\n",
    "rfp = motion + np.random.randn(N)/np.sqrt(nu_r)\n",
    "gcamp = motion*activity + np.random.randn(N)/np.sqrt(nu_g)"
   ]
  },
  {
   "cell_type": "code",
   "execution_count": null,
   "metadata": {
    "collapsed": false
   },
   "outputs": [],
   "source": [
    "vr_guess = [100.0]\n",
    "vg_guess = [100.0]\n",
    "activity_guess = []\n",
    "\n",
    "for i in range(2):\n",
    "    \n",
    "    act = np.real(f(vr_guess[-1], vg_guess[-1], rfp, gcamp))\n",
    "    q = minimize(loglike, [vr_guess[-1], vg_guess[-1]], jac=loglike_grad, args=(rfp,gcamp,activity))\n",
    "    \n",
    "    vr_guess.append(q.x[0])\n",
    "    vg_guess.append(q.x[1])\n",
    "    activity_guess.append(act)\n"
   ]
  },
  {
   "cell_type": "code",
   "execution_count": null,
   "metadata": {
    "collapsed": false
   },
   "outputs": [],
   "source": [
    "q"
   ]
  },
  {
   "cell_type": "code",
   "execution_count": null,
   "metadata": {
    "collapsed": false
   },
   "outputs": [],
   "source": [
    "plt.plot(act, color='green')\n",
    "plt.plot(activity, color = 'blue')\n",
    "#plt.plot(rfp, color='red')\n",
    "\n",
    "plt.tight_layout()\n",
    "plt.show()"
   ]
  },
  {
   "cell_type": "code",
   "execution_count": null,
   "metadata": {
    "collapsed": false
   },
   "outputs": [],
   "source": [
    "heat = np.zeros((50,50))\n",
    "\n",
    "minval = 50\n",
    "maxval = 1250\n",
    "\n",
    "vr_test = np.linspace(minval,maxval,50)\n",
    "vg_test = np.linspace(minval,maxval,50)\n",
    "\n",
    "for i_ind, i in enumerate(vr_test):\n",
    "    for j_ind, j in enumerate(vg_test):\n",
    "        heat[i_ind,j_ind] = loglike([i,j], rfp,gcamp,act)"
   ]
  },
  {
   "cell_type": "code",
   "execution_count": null,
   "metadata": {
    "collapsed": false
   },
   "outputs": [],
   "source": [
    "plt.imshow(heat, cmap='hot', extent=[minval,maxval,maxval,minval], interpolation='none')\n",
    "plt.colorbar()\n",
    "plt.show()"
   ]
  },
  {
   "cell_type": "code",
   "execution_count": null,
   "metadata": {
    "collapsed": true
   },
   "outputs": [],
   "source": []
  },
  {
   "cell_type": "code",
   "execution_count": null,
   "metadata": {
    "collapsed": false
   },
   "outputs": [],
   "source": [
    "a, s_r, s_g, s_m, mu, r, g = symbols(\"a s_r s_g s_m mu r g\")\n",
    "expr = -Rational(1/2)*log(a**2*s_m + s_g) - Rational(1/2)*(g - a*mu)**2/(a**2*s_m + s_g)\n",
    "deriv = diff(expr,a)\n",
    "numer = fraction(factor(deriv))[0]\n",
    "roots = solve(Eq(numer,0),a)"
   ]
  },
  {
   "cell_type": "code",
   "execution_count": null,
   "metadata": {
    "collapsed": true
   },
   "outputs": [],
   "source": []
  },
  {
   "cell_type": "code",
   "execution_count": null,
   "metadata": {
    "collapsed": true
   },
   "outputs": [],
   "source": [
    "f_compl = lambdify((s_g, s_m, mu, r, g), roots[2], \"numpy\")\n",
    "\n",
    "def f(s_g, s_m, mu, r, g):\n",
    "    return f_compl(complex(s_g),complex(s_m),complex(mu),r.astype(complex),g.astype(complex))"
   ]
  },
  {
   "cell_type": "code",
   "execution_count": null,
   "metadata": {
    "collapsed": true
   },
   "outputs": [],
   "source": [
    "def loglike(sigma, rfp, gcamp, act):\n",
    "    \n",
    "    logL1 = len(act)*np.log(sigma[0] + sigma[2])\n",
    "    logL2 = np.sum(((rfp - sigma[3])**2)/(sigma[0] + sigma[2]))\n",
    "    logL3 = np.sum(np.log(act**2 * sigma[2] + sigma[1]))\n",
    "    logL4 = np.sum(((gcamp - act*sigma[3])**2)/(act**2 * sigma[2] + sigma[1]))\n",
    "    all_logL = -0.5*(logL1 + logL2 + logL3 + logL4)\n",
    "    return -np.real(all_logL)"
   ]
  },
  {
   "cell_type": "code",
   "execution_count": null,
   "metadata": {
    "collapsed": true
   },
   "outputs": [],
   "source": [
    "N = 500\n",
    "\n",
    "sigma_r2 = 1.8\n",
    "sigma_g2 = 1.5\n",
    "sigma_m2 = 2.3\n",
    "mu = 10\n",
    "\n",
    "activity = np.array([np.sin(i/10.0) for i in range(N)]) + 3\n",
    "motion = np.sqrt(sigma_m2)*np.random.randn(N) + 10\n",
    "\n",
    "\n",
    "rfp = motion + np.sqrt(sigma_r2)*np.random.randn(N)\n",
    "gcamp = motion*activity + np.sqrt(sigma_g2)*np.random.randn(N)"
   ]
  },
  {
   "cell_type": "code",
   "execution_count": null,
   "metadata": {
    "collapsed": true
   },
   "outputs": [],
   "source": [
    "sr_guess = [1.8]\n",
    "sg_guess = [1.5]\n",
    "sm_guess = [2.3]\n",
    "mu_guess = [10]\n",
    "activity_guess = []\n",
    "\n",
    "for i in range(5):\n",
    "    \n",
    "    act = np.real(f(sg_guess[-1], sm_guess[-1], mu_guess[-1], rfp, gcamp))\n",
    "    q = minimize(loglike, [sr_guess[-1], sg_guess[-1], sm_guess[-1], mu_guess[-1]],\n",
    "                 args=(rfp,gcamp,activity))\n",
    "    \n",
    "    sr_guess.append(q.x[0])\n",
    "    sg_guess.append(q.x[1])\n",
    "    sm_guess.append(q.x[2])\n",
    "    mu_guess.append(q.x[3])\n",
    "    activity_guess.append(act)\n",
    "    break\n"
   ]
  },
  {
   "cell_type": "code",
   "execution_count": null,
   "metadata": {
    "collapsed": true
   },
   "outputs": [],
   "source": []
  },
  {
   "cell_type": "code",
   "execution_count": null,
   "metadata": {
    "collapsed": true
   },
   "outputs": [],
   "source": []
  },
  {
   "cell_type": "code",
   "execution_count": null,
   "metadata": {
    "collapsed": true
   },
   "outputs": [],
   "source": []
  },
  {
   "cell_type": "code",
   "execution_count": null,
   "metadata": {
    "collapsed": true
   },
   "outputs": [],
   "source": []
  },
  {
   "cell_type": "code",
   "execution_count": null,
   "metadata": {
    "collapsed": true
   },
   "outputs": [],
   "source": []
  },
  {
   "cell_type": "code",
   "execution_count": null,
   "metadata": {
    "collapsed": true
   },
   "outputs": [],
   "source": []
  },
  {
   "cell_type": "code",
   "execution_count": null,
   "metadata": {
    "collapsed": true
   },
   "outputs": [],
   "source": []
  },
  {
   "cell_type": "code",
   "execution_count": null,
   "metadata": {
    "collapsed": true
   },
   "outputs": [],
   "source": []
  },
  {
   "cell_type": "code",
   "execution_count": null,
   "metadata": {
    "collapsed": true
   },
   "outputs": [],
   "source": []
  },
  {
   "cell_type": "code",
   "execution_count": null,
   "metadata": {
    "collapsed": false
   },
   "outputs": [],
   "source": [
    "a, s_r, s_g, r, g = symbols(\"a s_r s_g r g\")\n",
    "expr = -Rational(1/2)*log(a**2*s_r**2 + s_g**2) - Rational(1/2)*(g - a*r)**2/(a**2*s_r**2 + s_g**2)\n",
    "deriv = diff(expr,a)\n",
    "numer = fraction(factor(deriv))[0]"
   ]
  },
  {
   "cell_type": "code",
   "execution_count": null,
   "metadata": {
    "collapsed": true
   },
   "outputs": [],
   "source": [
    "roots = solve(Eq(numer,0),a)"
   ]
  },
  {
   "cell_type": "code",
   "execution_count": null,
   "metadata": {
    "collapsed": false
   },
   "outputs": [],
   "source": [
    "roots[2]"
   ]
  },
  {
   "cell_type": "code",
   "execution_count": null,
   "metadata": {
    "collapsed": false
   },
   "outputs": [],
   "source": [
    "f_compl = lambdify((s_r, s_g, r, g), roots[2], \"numpy\")\n",
    "\n",
    "def f(s_r, s_g, r, g):\n",
    "    return f_compl(complex(s_r),complex(s_g),r.astype(complex),g.astype(complex))"
   ]
  },
  {
   "cell_type": "code",
   "execution_count": null,
   "metadata": {
    "collapsed": false
   },
   "outputs": [],
   "source": [
    "def loglike(sigma, rfp,gcamp,act):\n",
    "    all_loglike1 = np.log(act**2 / sigma[0] + 1/sigma[1])\n",
    "    all_loglike2 = ((gcamp - act*rfp)**2)/(act**2 / sigma[0] + 1/sigma[1])\n",
    "    all_loglike = -0.5*(all_loglike1 + all_loglike2)\n",
    "    return -np.real(np.sum(all_loglike))"
   ]
  },
  {
   "cell_type": "code",
   "execution_count": null,
   "metadata": {
    "collapsed": true
   },
   "outputs": [],
   "source": [
    "N = 100\n",
    "\n",
    "activity = np.array([np.sin(i/10.0) for i in range(N)]) + 3\n",
    "motion = 3*np.array([np.sin(i/10.0 + np.pi/4) for i in range(N)]) + 6\n",
    "sigma_r = 0.8\n",
    "sigma_g = 0.5\n",
    "\n",
    "rfp = motion + sigma_r*np.random.randn(N)\n",
    "gcamp = motion*activity + sigma_g*np.random.randn(N)"
   ]
  },
  {
   "cell_type": "code",
   "execution_count": null,
   "metadata": {
    "collapsed": true
   },
   "outputs": [],
   "source": [
    "act = np.real(f(1,1, rfp, gcamp))"
   ]
  },
  {
   "cell_type": "code",
   "execution_count": null,
   "metadata": {
    "collapsed": false
   },
   "outputs": [],
   "source": [
    "sr_guess = [0.8]\n",
    "sg_guess = [0.5]\n",
    "activity_guess = []\n",
    "\n",
    "for i in range(5):\n",
    "    \n",
    "    act = np.real(f(sr_guess[-1], sg_guess[-1], rfp, gcamp))\n",
    "    q = minimize(loglike, [sr_guess[-1], sg_guess[-1]], args=(rfp,gcamp,act))\n",
    "    \n",
    "    sr_guess.append(q.x[0])\n",
    "    sg_guess.append(q.x[1])\n",
    "    activity_guess.append(act)\n",
    "    break\n"
   ]
  },
  {
   "cell_type": "code",
   "execution_count": null,
   "metadata": {
    "collapsed": false
   },
   "outputs": [],
   "source": [
    "q"
   ]
  },
  {
   "cell_type": "code",
   "execution_count": null,
   "metadata": {
    "collapsed": false
   },
   "outputs": [],
   "source": [
    "plt.plot((gcamp - activity*rfp)**2, color = 'green')\n",
    "plt.plot((gcamp - act*rfp)**2, color = 'blue')\n",
    "plt.show()"
   ]
  },
  {
   "cell_type": "code",
   "execution_count": null,
   "metadata": {
    "collapsed": false
   },
   "outputs": [],
   "source": [
    "((gcamp - act*rfp)**2).shape"
   ]
  },
  {
   "cell_type": "code",
   "execution_count": null,
   "metadata": {
    "collapsed": false
   },
   "outputs": [],
   "source": [
    "solve(Eq(sr_diff,0),s_g)"
   ]
  },
  {
   "cell_type": "code",
   "execution_count": null,
   "metadata": {
    "collapsed": false
   },
   "outputs": [],
   "source": [
    "plt.plot(act, color='green')\n",
    "plt.plot(activity, color = 'blue')\n",
    "# plt.plot(act2, color = 'red')\n",
    "plt.show()"
   ]
  },
  {
   "cell_type": "code",
   "execution_count": null,
   "metadata": {
    "collapsed": false
   },
   "outputs": [],
   "source": [
    "plt.plot(rfp)\n",
    "plt.plot(gcamp)\n",
    "plt.show()"
   ]
  },
  {
   "cell_type": "code",
   "execution_count": null,
   "metadata": {
    "collapsed": true
   },
   "outputs": [],
   "source": [
    "def root2(s_r, s_g, r, g):\n",
    "    s_r, s_g, r, g = complex(s_r),complex(s_g),r.astype(complex),g.astype(complex)\n",
    "    alpha = g*r/(3*s_r**2)\n",
    "    beta = (-1 + np.sqrt(3)*1j)/2.0\n",
    "    gamma = (1/(3*s_r**4))*(-g**2 * s_r**2 + r**2 * s_g**2 + s_g**2 * s_r**2)\n",
    "    delta = -alpha**2 + gamma\n",
    "    eta = alpha*(alpha**2 - (3*s_g**2)/(2*s_r**2) - (3*gamma)/2)\n",
    "    \n",
    "#     sub_mu = eta + (delta**3 + eta**2)**(1/2)\n",
    "#     new_mu = np.zeros((sub_mu.shape))\n",
    "    \n",
    "#     for j,k in enumerate(sub_mu):\n",
    "#         if k < 0:\n",
    "#             new_mu_val = [i for i in np.roots([1,0,0,-k]) if np.imag(i) < 0][0]\n",
    "#             sub_mu[j] = new_mu_val\n",
    "#             print('Positive')\n",
    "        \n",
    "#     mu = beta*sub_mu**(1/3)\n",
    "\n",
    "    mu = beta * (eta + (delta**3 + eta**2)**(1/2))**(1/3)\n",
    "#     print(\"a\",alpha,\"b\",beta,\"g\",gamma,\"d\",delta,\"e\",eta,\"m\",mu)\n",
    "    \n",
    "#     return alpha, beta, gamma, delta, eta, mu, -alpha + delta/mu - mu\n",
    "    return -alpha + delta/mu - mu"
   ]
  },
  {
   "cell_type": "code",
   "execution_count": null,
   "metadata": {
    "collapsed": false
   },
   "outputs": [],
   "source": [
    "heat = np.zeros((50,50))\n",
    "\n",
    "sr_test = np.linspace(0.1,1.0,50)\n",
    "sg_test = np.linspace(0.1,1.0,50)\n",
    "\n",
    "for i_ind, i in enumerate(sr_test):\n",
    "    for j_ind, j in enumerate(sg_test):\n",
    "        heat[i_ind,j_ind] = loglike([i,j], rfp,gcamp,act)\n",
    "        break\n",
    "    break"
   ]
  },
  {
   "cell_type": "code",
   "execution_count": null,
   "metadata": {
    "collapsed": false
   },
   "outputs": [],
   "source": [
    "plt.imshow(heat, cmap='hot')\n",
    "plt.colorbar()\n",
    "plt.show()"
   ]
  },
  {
   "cell_type": "code",
   "execution_count": null,
   "metadata": {
    "collapsed": false
   },
   "outputs": [],
   "source": [
    "sr_guess"
   ]
  },
  {
   "cell_type": "code",
   "execution_count": null,
   "metadata": {
    "collapsed": false
   },
   "outputs": [],
   "source": [
    "deriv"
   ]
  },
  {
   "cell_type": "code",
   "execution_count": null,
   "metadata": {
    "collapsed": false
   },
   "outputs": [],
   "source": [
    "diff(expr,s_r)"
   ]
  },
  {
   "cell_type": "code",
   "execution_count": null,
   "metadata": {
    "collapsed": false
   },
   "outputs": [],
   "source": [
    "rfp[38:42]"
   ]
  },
  {
   "cell_type": "code",
   "execution_count": null,
   "metadata": {
    "collapsed": false
   },
   "outputs": [],
   "source": [
    "gcamp.shape"
   ]
  },
  {
   "cell_type": "code",
   "execution_count": null,
   "metadata": {
    "collapsed": false
   },
   "outputs": [],
   "source": [
    "alpha, beta, gamma, delta, eta, mu, ans = root2(0.2,1.8,rfp[40],gcamp[40])"
   ]
  },
  {
   "cell_type": "code",
   "execution_count": null,
   "metadata": {
    "collapsed": false
   },
   "outputs": [],
   "source": [
    "alpha2, beta2, gamma2, delta2, eta2, mu2, ans2 = root2(0.2,1.8,rfp[41],gcamp[41])"
   ]
  },
  {
   "cell_type": "code",
   "execution_count": null,
   "metadata": {
    "collapsed": false
   },
   "outputs": [],
   "source": [
    "alpha3, beta3, gamma3, delta3, eta3, mu3, ans3 = root2(0.2,1.8,rfp[39],gcamp[39])"
   ]
  },
  {
   "cell_type": "code",
   "execution_count": null,
   "metadata": {
    "collapsed": false
   },
   "outputs": [],
   "source": [
    "((delta**3 + eta**2)**(1/2) + eta)"
   ]
  },
  {
   "cell_type": "code",
   "execution_count": null,
   "metadata": {
    "collapsed": false
   },
   "outputs": [],
   "source": [
    "mu22 = (-(-((delta2**3 + eta2**2)**(1/2) + eta2))**(1./3))*beta2"
   ]
  },
  {
   "cell_type": "code",
   "execution_count": null,
   "metadata": {
    "collapsed": false
   },
   "outputs": [],
   "source": [
    "mu33 = (-(-((delta3**3 + eta3**2)**(1/2) + eta3))**(1./3))*beta3"
   ]
  },
  {
   "cell_type": "code",
   "execution_count": null,
   "metadata": {
    "collapsed": false
   },
   "outputs": [],
   "source": [
    "-alpha + delta/mu11 - mu11"
   ]
  },
  {
   "cell_type": "code",
   "execution_count": null,
   "metadata": {
    "collapsed": false
   },
   "outputs": [],
   "source": [
    "np.roots([1,0,0,-2306.5378570205648])"
   ]
  },
  {
   "cell_type": "code",
   "execution_count": null,
   "metadata": {
    "collapsed": false
   },
   "outputs": [],
   "source": [
    "mu11 = (13.21255665 +0.j)*beta"
   ]
  },
  {
   "cell_type": "code",
   "execution_count": null,
   "metadata": {
    "collapsed": false
   },
   "outputs": [],
   "source": [
    "mu11"
   ]
  },
  {
   "cell_type": "code",
   "execution_count": null,
   "metadata": {
    "collapsed": false
   },
   "outputs": [],
   "source": [
    "ww = np.array([1,2,3 + 4j, 4 - 5j, 6])\n",
    "[i for i in ww if np.imag(i) < 0][0][0]"
   ]
  },
  {
   "cell_type": "code",
   "execution_count": null,
   "metadata": {
    "collapsed": false
   },
   "outputs": [],
   "source": [
    "roots[2]"
   ]
  },
  {
   "cell_type": "code",
   "execution_count": null,
   "metadata": {
    "collapsed": true
   },
   "outputs": [],
   "source": []
  }
 ],
 "metadata": {
  "kernelspec": {
   "display_name": "Python 3",
   "language": "python",
   "name": "python3"
  },
  "language_info": {
   "codemirror_mode": {
    "name": "ipython",
    "version": 3
   },
   "file_extension": ".py",
   "mimetype": "text/x-python",
   "name": "python",
   "nbconvert_exporter": "python",
   "pygments_lexer": "ipython3",
   "version": "3.5.1"
  }
 },
 "nbformat": 4,
 "nbformat_minor": 0
}
