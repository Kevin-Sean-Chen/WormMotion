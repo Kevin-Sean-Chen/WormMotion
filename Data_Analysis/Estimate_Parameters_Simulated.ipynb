{
 "cells": [
  {
   "cell_type": "code",
   "execution_count": null,
   "metadata": {
    "collapsed": false
   },
   "outputs": [],
   "source": [
    "import numpy as np\n",
    "from matplotlib import pyplot as plt\n",
    "import seaborn as sns\n",
    "import pandas as pd\n",
    "import scipy.linalg as linalg\n",
    "from scipy.optimize import minimize \n",
    "\n",
    "import warnings\n",
    "from scipy.linalg import toeplitz\n",
    "warnings.filterwarnings('ignore')\n",
    "%pylab inline "
   ]
  },
  {
   "cell_type": "code",
   "execution_count": null,
   "metadata": {
    "collapsed": false
   },
   "outputs": [],
   "source": [
    "font = {'family' : 'normal',\n",
    "        'weight' : 'normal',\n",
    "        'size'   : 22}\n",
    "\n",
    "axes = {'titlesize'  : 22,\n",
    "        'labelsize'  : 22}\n",
    "\n",
    "legend = {'fontsize'  : 22}\n",
    "\n",
    "figure = {'figsize'  : (10,5)}\n",
    "\n",
    "matplotlib.rc('font', **font)\n",
    "matplotlib.rc('axes', **axes)\n",
    "matplotlib.rc('legend', **legend)\n",
    "matplotlib.rc('figure', **figure)"
   ]
  },
  {
   "cell_type": "markdown",
   "metadata": {},
   "source": [
    "# Steps\n",
    "1. Obtain sample estimates of $\\mu_r, \\mu_g, R_g(\\tau), R_r(\\tau), R_{r,g}(\\tau)$\n",
    "2. Set $\\hat{\\mu}_m = \\hat{\\mu}_r$ and fit the aparametric form for $R_m(\\tau)$ and $\\sigma_r^2$ to equation $R_r(0)-\\rho = \\sigma_r^2$\n",
    "3. Plug in $\\hat{R}_m(\\tau), \\hat{\\mu}_m$ into $R_r(\\tau) = R_m(\\tau) + \\sigma_r^2\\delta(\\tau)$, and $R_{r,g}(\\tau) = \\mu_mR_{a,m}(\\tau) + \\mu_aR_m(\\tau)$ and use these equations to obtain $\\hat{R}_{a,m}(0), \\mu_m$ by:\n",
    "  $$\\left(\\begin{matrix}R_{a,m}(0)\\\\\\mu_a\\\\\\end{matrix}\\right) = \\left(\\begin{matrix} 1&\\mu_m\\\\\\mu_m&R_m(0)\\\\\\end{matrix}\\right)^{-1}\\left(\\begin{matrix}\\mu_g\\\\R_{r,g}(0)\\\\\\end{matrix}\\right)$$\n",
    "4. Set $\\hat{R}_{a,m}(\\tau) = \\mu_m^{-1}\\left(R_{r,g}(\\tau) - \\mu_aR_m\\left(\\tau\\right)\\right)$\n",
    "5. Fit parameteric form of $R_a\\left(\\tau\\right)$ and $\\sigma_g^2$ by equation 29\n",
    "\n",
    "Convention is for parameters we set to be in caps, estimated in lowercase"
   ]
  },
  {
   "cell_type": "markdown",
   "metadata": {},
   "source": [
    "# Simulate Data\n",
    "\n",
    "1. Obtain sample estimates of $\\mu_r, \\mu_g, R_g(\\tau), R_r(\\tau), R_{r,g}(\\tau)$"
   ]
  },
  {
   "cell_type": "code",
   "execution_count": null,
   "metadata": {
    "collapsed": false
   },
   "outputs": [],
   "source": [
    "from simulate_activity import *\n",
    "from est_param import *"
   ]
  },
  {
   "cell_type": "code",
   "execution_count": null,
   "metadata": {
    "collapsed": true
   },
   "outputs": [],
   "source": [
    "\"\"\"\n",
    "Simulate activity (y and a where a is the timelagged version of y) and motion artifact, and thus RFP and GCaMP\n",
    "\n",
    "example:\n",
    "    Rho, L, P, T, Lag, Mu_m, Sig_r,alpha = 1,15,1.2,1000,10,10,.25,.9\n",
    "    s = SimulateWorm(Rho = Rho,L = L, P = P, T = T, Lag = Lag, Mu_m= Mu_m, Sig_r=Sig_r,alpha = alpha)\n",
    "    My_y,Sig_y2, L_y = 1,.1,2\n",
    "    A = s.gen_A_t(My_y, Sig_y2, L_y)\n",
    "\"\"\"\n",
    "import numpy as np\n",
    "from cmath import sqrt\n",
    "from scipy.linalg import toeplitz\n",
    "from scipy.sparse import csr_matrix\n",
    "from scipy.sparse.linalg import spsolve\n",
    "from matplotlib import pyplot as plt\n",
    "import seaborn as sns\n",
    "\n",
    "def rotate_left(l,n):\n",
    "    return l[n:] + l[:n]\n",
    "\n",
    "def triangle(lags, l):\n",
    "    a = np.arange(l-lags, l)\n",
    "    b = np.arange(l, l-lags-1, -1)\n",
    "    c = np.hstack((a,b))\n",
    "    return c\n",
    "\n",
    "# Helper functions\n",
    "def create_sigma (rho, l, p, length,debug = False):\n",
    "    x = np.arange(0, length, 1)\n",
    "    autocovar = cov(x,rho,l,p)\n",
    "    toe = toeplitz(autocovar)\n",
    "    if debug:\n",
    "        f,ax = plt.subplots(1,2,figsize=(10,5))\n",
    "        ax[0].plot(autocovar)\n",
    "        ax[0].set_title(\"Autocovaraince M_t\")\n",
    "        ax[1].imshow(toe)\n",
    "        ax[1].set_title(\"Autocovaraince Toeplitz M_t\")\n",
    "\n",
    "    return toe\n",
    "\n",
    "def cov(xx,r,l,p):\n",
    "    \"\"\" Calculates covariance. Used for Fourier implementation\"\"\"\n",
    "    to_ret = [(r*np.exp(-np.abs(x/l)**p)) for x in xx]\n",
    "    return(to_ret)\n",
    "\n",
    "def calc_corr(a,b,nlags):\n",
    "    \"\"\"Finds covariance between a and b assuming they have the same length.\n",
    "    \n",
    "    Takes lags up to nlags.\n",
    "    \n",
    "    Returns xx for plotting purposes and corr for correlation purposes\n",
    "    \"\"\"\n",
    "    a = a-np.mean(a)\n",
    "    b = b-np.mean(b)\n",
    "    T = len(a)\n",
    "    #nlags = int(np.ceil(L*6*.1)*10);# number of lags for plotting purposes\n",
    "    xx = list(range(-nlags,nlags+1))\n",
    "    \n",
    "    xcsamp = np.correlate(a,b,'full')[T-1-nlags:T+nlags]\n",
    "    corr = np.divide(xcsamp,triangle(nlags,T))\n",
    "    return (xx, corr)\n",
    "\n",
    "class SimulateWorm:\n",
    "    \"\"\"generating the full matrix covariance. Not recommend to use more than ___ data points.\"\"\"\n",
    "\n",
    "    def __init__(self, Rho, L, P, T, Lag, Mu_m, Sig_r, alpha):\n",
    "        self.Rho = Rho\n",
    "        # length-scale\n",
    "        self.L = L\n",
    "        self.P = P\n",
    "        self.T = T\n",
    "        self.Lag = Lag\n",
    "        self.alpha = alpha\n",
    "        \n",
    "        # m(t) ∼ N (mu_m, sig_m) \n",
    "        self.M_t = None\n",
    "        self.Mu_m = Mu_m\n",
    "        self.Sigma_m = None\n",
    "        \n",
    "        # R_t = M_t + e where e ~ N(0,sig_r^2)\n",
    "        self.R_t = None\n",
    "        self.R_m = Mu_m\n",
    "        self.Sig_r = Sig_r\n",
    "        \n",
    "        # Activity\n",
    "        self.Y_t = None\n",
    "        self.A_t = None\n",
    "\n",
    "        # helper functions\n",
    "        self.nlags = int(np.ceil(L*6*.1)*10);# number of lags for plotting purposes\n",
    "        self.xx = list(range(-self.nlags,self.nlags+1))\n",
    "        self.tvec = None\n",
    "        self.xcsamp = None\n",
    "\n",
    "\n",
    "    def gen_M_t(self,method='fourier',debug=False):\n",
    "        \"\"\"Generate motion artifact from $\\Sigma_m = \\rho e^{-|\\tau/a|^p}$\"\"\"\n",
    "        if method == 'matrix':\n",
    "            if self.T > 1000:\n",
    "                raise Exception('Time too long for Matrix implementation! Please use Fourier')\n",
    "            mu = np.repeat(self.Mu_m,self.T)\n",
    "            self.Sigma_m = create_sigma(self.Rho, self.L, self.P, self.T,debug = debug)\n",
    "            self.M_t = np.random.multivariate_normal(mu, self.Sigma_m) # motion rv\n",
    "        else:\n",
    "            kfunplot = cov(self.xx,self.Rho,self.L,self.P)\n",
    "            # Evaluate covariance function and take FFT\n",
    "            # vector of time bins of length T\n",
    "            self.tvec = np.concatenate((range(int(np.floor((self.T-1)/2))+1),range(int(-np.ceil((self.T-1)/2)),0))) \n",
    "            kf = cov(self.tvec,self.Rho,self.L,self.P) # covariance function of appropriate length\n",
    "            kfh = [sqrt(x) for x in (np.fft.fft(kf))] # take fourier transform\n",
    "\n",
    "            # Generate sample\n",
    "            self.M_t = np.real(np.fft.ifft(kfh*np.fft.fft(np.random.normal(0,1,self.T))))+self.Mu_m\n",
    "        return(self.M_t)\n",
    "\n",
    "    def gen_R_t(self,method='fourier',recal=False):\n",
    "        if recal or self.M_t is None:\n",
    "            self.gen_M_t(method)\n",
    "            \n",
    "        self.R_t = self.M_t + self.Sig_r*np.random.normal(0,1,size=self.T)\n",
    "        return (self.R_t)\n",
    "    \n",
    "    def gen_Y_t(self, mu_y, sig_y2, l_y):\n",
    "        \"\"\" Generates neural activity, y, from GP\"\"\"\n",
    "        tau_g = -1/np.log(self.alpha) # time constant of gcamp decay (in time bins)\n",
    "        \n",
    "        Mu_y = np.repeat(mu_y,self.T) # mean of neural activity y\n",
    "        cov_kernel = cov(list(range(1,self.T+1)),sig_y2, l_y, 1) # true covaraiance kernel\n",
    "        sqrtSy = [sqrt(x) for x in (np.fft.fft(cov_kernel))]\n",
    "        \n",
    "        self.Y_t = np.real(np.fft.ifft(sqrtSy*np.fft.fft(np.random.normal(0,1,self.T))))+Mu_y\n",
    "        return (self.Y_t)\n",
    "    def set_Y_T(self,Y_t):\n",
    "        self.Y_t = Y_t\n",
    "    def gen_A_t(self,mu_y,sig_y2,l_y, recal=False):\n",
    "        if recal or self.Y_t is None:\n",
    "            self.gen_Y_t(mu_y, sig_y2, l_y)\n",
    "        \n",
    "        # Build D\n",
    "        \n",
    "        row_ind = np.concatenate((np.array(range(self.T)),np.array(range(1,self.T))))\n",
    "        col_ind = np.concatenate((np.array(range(self.T)),np.array(range(self.T-1))))\n",
    "        data = np.concatenate((np.repeat(1,self.T),np.repeat(-self.alpha,self.T-1)))\n",
    "        D = csr_matrix((data, (row_ind, col_ind)),shape=(self.T,self.T)).toarray()\n",
    "\n",
    "        # Find A\n",
    "        self.A_t = spsolve(D,self.Y_t)\n",
    "        return(self.A_t)\n",
    "\n",
    "    def gen_G_t(self, mu_y,sig_y2,l_y,sig_g,recal = True):\n",
    "        if recal or self.A_t is None:\n",
    "            self.gen_A_t(mu_y,sig_y2,l_y)\n",
    "        if recal or self.M_t is None:\n",
    "            self.gen_M_t('fourier')\n",
    "        self.Sig_g = sig_g\n",
    "        \n",
    "        \n",
    "        self.G_t = (self.M_t*self.A_t) + self.Sig_g*np.random.normal(0,1,size=self.T)\n",
    "        return(self.G_t)\n"
   ]
  },
  {
   "cell_type": "code",
   "execution_count": null,
   "metadata": {
    "collapsed": false
   },
   "outputs": [],
   "source": [
    "RHO, L, P = 5,8,1.1\n",
    "T, LAG = 200,5\n",
    "MU_M, ALPHA = 1,.9\n",
    "SIG_R, SIG_G = .25,.25\n",
    "MU_Y,SIG_Y2, L_Y = 1,.1,2\n",
    "\n",
    "s = SimulateWorm(Rho = RHO,L = L, P = P, T = T, Lag = LAG, Mu_m= MU_M, Sig_r=SIG_R,alpha = ALPHA)"
   ]
  },
  {
   "cell_type": "code",
   "execution_count": null,
   "metadata": {
    "collapsed": false
   },
   "outputs": [],
   "source": [
    "M_t = s.gen_M_t('matrix')\n",
    "A_t = s.gen_A_t(MU_Y,SIG_Y2, L_Y)\n",
    "G_t = s.gen_G_t(MU_Y,SIG_Y2, L_Y,SIG_G,recal=False)\n",
    "R_t = s.gen_R_t('matrix',recal=False)"
   ]
  },
  {
   "cell_type": "code",
   "execution_count": null,
   "metadata": {
    "collapsed": false
   },
   "outputs": [],
   "source": [
    "print(mean(M_t),mean(A_t))"
   ]
  },
  {
   "cell_type": "code",
   "execution_count": null,
   "metadata": {
    "collapsed": false
   },
   "outputs": [],
   "source": [
    "f,ax = plt.subplots(1,2,figsize=(20,5))\n",
    "ax[0].plot(A_t,label='A_t')\n",
    "ax[0].set_title('A_t')\n",
    "ax[1].plot(M_t,label='M_t')\n",
    "ax[1].set_title('M_t')"
   ]
  },
  {
   "cell_type": "code",
   "execution_count": null,
   "metadata": {
    "collapsed": false
   },
   "outputs": [],
   "source": [
    "f,ax = plt.subplots(1,2,figsize=(20,5))\n",
    "ax[0].plot(G_t,label='G_t')\n",
    "ax[0].set_title('G_t')\n",
    "ax[0].plot(A_t,label='A')\n",
    "ax[0].plot(M_t,label='M')\n",
    "ax[0].legend()\n",
    "\n",
    "ax[1].plot(R_t,label='R')\n",
    "ax[1].set_title('R_t')\n",
    "ax[1].plot(M_t,label='M')\n",
    "ax[1].legend()"
   ]
  },
  {
   "cell_type": "markdown",
   "metadata": {},
   "source": [
    "## 1. \n",
    "Obtain sample estimates of $\\mu_r, \\mu_g, R_g(\\tau), R_r(\\tau), R_{r,g}(\\tau)$"
   ]
  },
  {
   "cell_type": "code",
   "execution_count": null,
   "metadata": {
    "collapsed": false
   },
   "outputs": [],
   "source": [
    "mu_r = np.mean(R_t)\n",
    "mu_g = np.mean(G_t)\n",
    "(xx,r_g) = calc_corr(G_t, G_t,LAG)\n",
    "(xx,r_r) = calc_corr(R_t, R_t,LAG)\n",
    "(xx,r_rg) = calc_corr(R_t, G_t,LAG)\n",
    "print(\"mu_r: %1.3f\\tmu_g: %1.3f\" %(mu_r,mu_g))\n",
    "f,ax = plt.subplots(1,3,figsize=(20,5))\n",
    "ax[0].plot(xx,r_g)\n",
    "ax[0].set_title('Generated R_g')\n",
    "ax[1].plot(xx,r_r)\n",
    "ax[1].set_title('Generated R_r')\n",
    "ax[2].plot(xx,r_rg)\n",
    "ax[2].set_title('Generated R_rg')"
   ]
  },
  {
   "cell_type": "markdown",
   "metadata": {},
   "source": [
    "## 2. \n",
    "Set $\\hat{\\mu}_m = \\hat{\\mu}_r$ and fit the aparametric form for $R_m(\\tau)$ and $\\sigma_r^2$ to equation $R_r(0)-\\rho = \\sigma_r^2$"
   ]
  },
  {
   "cell_type": "code",
   "execution_count": null,
   "metadata": {
    "collapsed": false
   },
   "outputs": [],
   "source": [
    "# Fourier\n",
    "f,ax = plt.subplots(1,2,figsize=(20,10))\n",
    "\n",
    "x = np.arange(-T, T+1, 1)\n",
    "R_t = R_t - np.mean(R_t)\n",
    "ax[0].plot(x[0:100],R_t[0:100])\n",
    "\n",
    "\n",
    "(_,R_t_corr) = calc_corr(R_t,R_t,LAG)\n",
    "ax[1].plot(xx,R_t_corr,label='Simulated')\n",
    "R_t_corr_true = create_fitted(xx,[RHO, L, P, SIG_R])\n",
    "ax[1].plot(xx,R_t_corr_true,label='True')\n",
    "ax[1].legend()"
   ]
  },
  {
   "cell_type": "markdown",
   "metadata": {},
   "source": [
    "## MSE approach\n",
    "\n",
    "Gets an MSE approximation of the parameters and then uses it as initial values for the MLE"
   ]
  },
  {
   "cell_type": "code",
   "execution_count": null,
   "metadata": {
    "collapsed": false
   },
   "outputs": [],
   "source": [
    "print(\"Estimated\")\n",
    "inf_params = est_MSE_R(xx,R_t_corr)\n",
    "print(inf_params)\n",
    "print(\"True\")\n",
    "print(RHO, L, P, SIG_R)"
   ]
  },
  {
   "cell_type": "code",
   "execution_count": null,
   "metadata": {
    "collapsed": false
   },
   "outputs": [],
   "source": [
    "# Evaluate how well this did:\n",
    "fitted_R = create_fitted(xx,inf_params)\n",
    "plt.plot(xx,R_t_corr,label='Simulated')\n",
    "plt.plot(xx,fitted_R,label='Fitted')\n",
    "plt.plot(xx,R_t_corr_true,label='True')\n",
    "plt.legend()"
   ]
  },
  {
   "cell_type": "markdown",
   "metadata": {},
   "source": [
    "## Maximum Likelihood approach\n",
    "\n",
    "$min \\ln|\\Sigma_m+\\sigma_r^2I| + \\left(r-\\mu_m\\right)^T\\left(\\Sigma_m+\\sigma_r^2\\right)^{-1}\\left(r-\\mu_m\\right)$\n",
    "\n",
    "\n",
    "$\\Sigma_m = \\rho e^{-|\\tau/a|^p}$"
   ]
  },
  {
   "cell_type": "code",
   "execution_count": null,
   "metadata": {
    "collapsed": false,
    "scrolled": true
   },
   "outputs": [],
   "source": [
    "R_t_meancent = R_t - np.mean(R_t)\n",
    "#jiggled_params = np.array([RHO, L, P, SIG_R]) + np.random.normal(4)*.25\n",
    "mle_res = est_MLE_R(R_t_meancent, inf_params,)"
   ]
  },
  {
   "cell_type": "code",
   "execution_count": null,
   "metadata": {
    "collapsed": false
   },
   "outputs": [],
   "source": [
    "# Evaluate how well this did:\n",
    "print('Estimated')\n",
    "print(mle_res)\n",
    "print('Real')\n",
    "print(RHO, L, P, SIG_R)\n",
    "\n",
    "plt.plot(xx,R_t_corr,label='Simulated')\n",
    "fitted_R_t = cov(xx,mle_res[0],mle_res[1],mle_res[2])\n",
    "fitted_R_t[int(len(fitted_R_t)/2)] = fitted_R_t[int(len(fitted_R_t)/2)] + mle_res[3]**2\n",
    "plt.plot(xx,fitted_R_t,label='Fitted')\n",
    "plt.plot(xx,R_t_corr_true,label='True')\n",
    "plt.legend()\n"
   ]
  },
  {
   "cell_type": "code",
   "execution_count": null,
   "metadata": {
    "collapsed": false
   },
   "outputs": [],
   "source": [
    "# Find difference in autocovariance zero timelag bin between simulated and fitted\n",
    "print(R_t_corr[int(len(R_t_corr)/2)] - fitted_R_t[int(len(R_t_corr)/2)])"
   ]
  },
  {
   "cell_type": "markdown",
   "metadata": {},
   "source": [
    "Let's see how this "
   ]
  },
  {
   "cell_type": "markdown",
   "metadata": {},
   "source": [
    " ## 3. \n",
    " Plug in $\\hat{R}_m(\\tau), \\hat{\\mu}_m$ into $R_r(\\tau) = R_m(\\tau) + \\sigma_r^2\\delta(\\tau)$, and $R_{r,g}(\\tau) = \\mu_mR_{a,m}(\\tau) + \\mu_aR_m(\\tau)$ and use these equations to obtain $\\hat{R}_{a,m}(0), \\mu_m$ by:\n",
    "  $$\\left(\\begin{matrix}R_{a,m}(0)\\\\\\mu_a\\\\\\end{matrix}\\right) = \\left(\\begin{matrix} 1&\\mu_m\\\\\\mu_m&R_m(0)\\\\\\end{matrix}\\right)^{-1}\\left(\\begin{matrix}\\mu_g\\\\R_{r,g}(0)\\\\\\end{matrix}\\right)$$"
   ]
  },
  {
   "cell_type": "code",
   "execution_count": null,
   "metadata": {
    "collapsed": false
   },
   "outputs": [],
   "source": [
    "# Let's take that equation to be C = matrixA*matrixB\n",
    "mu_m = mu_r\n",
    "r_m0 = mle_res[0]\n",
    "matrixA = np.linalg.inv(np.reshape([1,mu_m,mu_m,r_m0],(2,2)))\n",
    "r_rg0 = r_rg[int(len(r_rg)/2)]\n",
    "matrixB = np.reshape([mu_g,r_rg0],(2,1))\n",
    "matrixC = matrixA.dot(matrixB)\n",
    "r_am0 = matrixC[0,0]\n",
    "mu_a = matrixC[1,0]\n",
    "print(r_am0,mu_a)\n"
   ]
  },
  {
   "cell_type": "markdown",
   "metadata": {},
   "source": [
    "## 4. \n",
    "Set $\\hat{R}_{a,m}(\\tau) = \\mu_m^{-1}\\left(R_{r,g}(\\tau) - \\mu_aR_m\\left(\\tau\\right)\\right)$"
   ]
  },
  {
   "cell_type": "code",
   "execution_count": null,
   "metadata": {
    "collapsed": false
   },
   "outputs": [],
   "source": [
    "R_M = MU_M\n",
    "r_am = (r_rg - mu_a*R_M)/mu_m \n",
    "plt.plot(xx,r_am)\n",
    "plt.title(\"R_am\")"
   ]
  },
  {
   "cell_type": "markdown",
   "metadata": {},
   "source": [
    "## 5. \n",
    "Fit parameteric form of $R_a\\left(\\tau\\right)$ and $\\sigma_g^2$ by equation 29\n",
    "\n",
    "$$R_g = R_aR_m+R_{am}R_{ma}+\\mu_a^2R_m + \\mu_m^2R_a + \\sigma_g^2\\delta$$"
   ]
  },
  {
   "cell_type": "code",
   "execution_count": null,
   "metadata": {
    "collapsed": true
   },
   "outputs": [],
   "source": [
    "from scipy import sparse"
   ]
  },
  {
   "cell_type": "code",
   "execution_count": null,
   "metadata": {
    "collapsed": false
   },
   "outputs": [],
   "source": [
    "# Find low-rank approximation to Sig_m using SVD\n",
    "\n",
    "# ASSUMING SIGMA_M IS POS SEMIDEFINITE\n",
    "[Um,smdiag,_] = np.linalg.svd(s.Sigma_m)#np.linalg.svd(matcont['Km'])#\n",
    "thresh = 1e12;  # threshold on condition number\n",
    "ii = [i for i,x in enumerate(max(smdiag)/smdiag) if x < thresh] # indicies\n",
    "krank = len(ii) # rank\n",
    "Ubasis = Um[:,ii]\n",
    "Ssqrt = sparse.spdiags([real(sqrt(x)) for x in smdiag[ii]],0,krank,krank)\n",
    "Ksqrt = Ubasis.dot(Ssqrt) #low-rank linear operator for generating from iid samples"
   ]
  },
  {
   "cell_type": "code",
   "execution_count": null,
   "metadata": {
    "collapsed": false
   },
   "outputs": [],
   "source": [
    "Sminv = sparse.spdiags(1/smdiag[ii],0,krank,krank) # diagonal matrix sqrt of eigenvalues"
   ]
  },
  {
   "cell_type": "code",
   "execution_count": null,
   "metadata": {
    "collapsed": false
   },
   "outputs": [],
   "source": [
    "row_ind = np.concatenate((np.array(range(T)),np.array(range(1,T))))\n",
    "col_ind = np.concatenate((np.array(range(T)),np.array(range(T-1))))\n",
    "data = np.concatenate((np.repeat(1,T),np.repeat(-ALPHA,T-1)))\n",
    "D = csr_matrix((data, (row_ind, col_ind)),shape=(T,T)).toarray()"
   ]
  },
  {
   "cell_type": "code",
   "execution_count": null,
   "metadata": {
    "collapsed": false
   },
   "outputs": [],
   "source": [
    "def MotionCorrection_smooth_yy(R,G,a0,rho_r,rho_g,mu_y,rho_y,mu_m,Um,Sminv,D):    \n",
    "    \"\"\"MotionCoRection_smooth_yy - estimate activity y(t) under GP prior on m(t)\n",
    "       Computes MAP estimate of yy under the following model:\n",
    "        mm ~ N(mu_m, Sigma_m)  # motion artifact\n",
    "        yy ~ N(mu_y, rho_y*I)  # neural activity-relatd fluorescence\n",
    "        aa = D\\yy             # aa comes from yy via AR1 process \n",
    "        R = mm + noise        # measured rfp\n",
    "        G = aa.*mm + noise    # measured gcamp\n",
    "        Sigma_m = Ubasis*(sdqrt^2)*Ubasis' -- low-rank approximation to covariance\n",
    "\n",
    "     Inputs:\n",
    "        R      [Tx1]  - rfp measurements\n",
    "        G      [Tx1]  - gcamp measurements\n",
    "        a0     [Tx1]  - initial value for a(t)\n",
    "        rho_r  [1]   - variance of rfp noise\n",
    "        rho_g  [1]   - variance of gfp noise\n",
    "        mu_y   [1]   - prior mean of y(t)\n",
    "        rho_y  [1]   - prior variance of y(t)\n",
    "        mu_m   [1]   - mean of motion artifact\n",
    "        Ubasis [Txk]  - basis for rank-k approx to variance of motion artifact\n",
    "        Sinv   [kxk]  - Sparse diagonal matrix with truncated inverse singular values of Cm\n",
    "        D      [TxT]  - mapping from neural activity yy to activity-related fluorescence aa\n",
    "\n",
    "     Output: \n",
    "         yy [Tx1] - estimate of neural activity\"\"\"\n",
    "    \n",
    "    lfunc = lambda y : Loss_MotionCoRection(y,R,G,rho_r,rho_g,mu_y,rho_y,mu_m,Um,Sminv,D)\n",
    "    aa = minimize(lfunc,a0)\n",
    "    return(aa.x)\n",
    "\n",
    "def bsxfunmult (a,b):\n",
    "    temp = np.zeros_like(a)\n",
    "    for i in range(len(b)):\n",
    "        temp[i,:] = a[i,:]*b[i]\n",
    "    return(temp)\n",
    "\n",
    "# ============ Loss function =====================================\n",
    "def Loss_MotionCoRection(yy,R,G,rho_r,rho_g,mu_y,rho_y,mu_m,Um,Sminv,D):\n",
    "    #try:\n",
    "    #    yy = np.reshape(yy,(len(yy),1))\n",
    "    #except ValueError:\n",
    "    #    print(yy.shape)\n",
    "    aa = np.linalg.solve(D,yy)\n",
    "    \n",
    "    \n",
    "    # Log-determinant term\n",
    "    dvec = (1/rho_r + 1./rho_g*(aa**2))\n",
    "\n",
    "    M = Sminv + Um.T.dot(bsxfunmult(Um, dvec))\n",
    "    (_,Mlogdet) = np.linalg.slogdet(M)\n",
    "    trm_logdet = .5*(Mlogdet)\n",
    "\n",
    "\n",
    "    # Diag term\n",
    "    trm_diag = .5*(sum((R-mu_m)**2)/rho_r + sum((G-mu_m*aa)**2)/rho_g)\n",
    "\n",
    "    # Quad term\n",
    "    xt = Um.T.dot((R-mu_m)/rho_r + aa*(G-mu_m*aa)/rho_g)\n",
    "    trm_quad = -.5*(xt.T.dot(np.linalg.solve(M,xt)))\n",
    "\n",
    "    # Prior term\n",
    "    trm_prior = .5/rho_y*(sum((yy-mu_y)**2))\n",
    "\n",
    "    # Sum them up\n",
    "    obj = trm_logdet + trm_diag + trm_quad + trm_prior\n",
    "    print(obj)\n",
    "    return (obj)"
   ]
  },
  {
   "cell_type": "code",
   "execution_count": null,
   "metadata": {
    "collapsed": false
   },
   "outputs": [],
   "source": [
    "yy3b = MotionCorrection_smooth_yy(R_t,G_t,G_t/R_t,SIG_R**2,SIG_G**2,MU_Y,SIG_Y2,MU_M,Ubasis,Sminv,D)"
   ]
  },
  {
   "cell_type": "code",
   "execution_count": null,
   "metadata": {
    "collapsed": false
   },
   "outputs": [],
   "source": [
    "f, ax = plt.subplots(1,2,figsize=(20,5))\n",
    "aa3b = np.linalg.solve(D,yy3b)\n",
    "ax[0].plot(A_t,label='A_t')\n",
    "ax[0].plot(aa3b,label='solved')\n",
    "ax[0].legend()\n",
    "ax[0].plot(G_t/R_t,label='ratio')\n",
    "ax[1].plot(A_t,label='A_t')\n",
    "ax[1].plot(aa3b,label='solved')\n",
    "ax[1].legend()\n"
   ]
  },
  {
   "cell_type": "markdown",
   "metadata": {},
   "source": [
    "## Compare against matlab file\n",
    "\n",
    "Matlab gave calling just the loss function as:\n",
    "4.0697e+05"
   ]
  },
  {
   "cell_type": "code",
   "execution_count": null,
   "metadata": {
    "collapsed": true
   },
   "outputs": [],
   "source": [
    "import scipy.io as sio"
   ]
  },
  {
   "cell_type": "code",
   "execution_count": null,
   "metadata": {
    "collapsed": false
   },
   "outputs": [],
   "source": [
    "matcont = sio.loadmat('data_script2_simulated_faster.mat')\n",
    "print(matcont.keys())"
   ]
  },
  {
   "cell_type": "code",
   "execution_count": null,
   "metadata": {
    "collapsed": false
   },
   "outputs": [],
   "source": [
    "print(Loss_MotionCoRection(matcont['aa0'],matcont['rr'],matcont['gg'],matcont['sig_r']**2,\n",
    "                           matcont['sig_g']**2,matcont['mu_y'],matcont['rho_y'],matcont['mu_m'],\n",
    "                           matcont['Ubasis'],matcont['Sminv'],matcont['D'].toarray()))"
   ]
  },
  {
   "cell_type": "code",
   "execution_count": null,
   "metadata": {
    "collapsed": false
   },
   "outputs": [],
   "source": [
    "rec_y_mat = MotionCorrection_smooth_yy(np.reshape(matcont['rr'],(T,)),np.reshape(matcont['gg'],(T,)),\n",
    "                                       np.reshape(matcont['aa0'],(T,)),matcont['sig_r'][0,0]**2,\n",
    "                                       matcont['sig_g'][0,0]**2, mean(matcont['mu_y']),matcont['rho_y'][0,0],\n",
    "                                       matcont['mu_m'][0,0], matcont['Ubasis'],matcont['Sminv'],matcont['D'].toarray())\n",
    "rec_a_mat = np.linalg.solve(D,rec_y_mat)"
   ]
  },
  {
   "cell_type": "code",
   "execution_count": null,
   "metadata": {
    "collapsed": false
   },
   "outputs": [],
   "source": [
    "plt.plot(rec_a_mat,label='python')\n",
    "plt.plot(matcont['aa'],label='true')\n",
    "plt.plot(matcont['aa3b'],label='matlab')\n",
    "plt.legend()"
   ]
  },
  {
   "cell_type": "markdown",
   "metadata": {},
   "source": [
    "Generate new values with new parameters and show how different"
   ]
  }
 ],
 "metadata": {
  "kernelspec": {
   "display_name": "Python 3",
   "language": "python",
   "name": "python3"
  },
  "language_info": {
   "codemirror_mode": {
    "name": "ipython",
    "version": 3
   },
   "file_extension": ".py",
   "mimetype": "text/x-python",
   "name": "python",
   "nbconvert_exporter": "python",
   "pygments_lexer": "ipython3",
   "version": "3.5.1"
  }
 },
 "nbformat": 4,
 "nbformat_minor": 0
}
