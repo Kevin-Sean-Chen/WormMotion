{
 "cells": [
  {
   "cell_type": "markdown",
   "metadata": {},
   "source": [
    "# Eigenworms\n",
    "\n",
    "Compute PCA on the new set of centerline data"
   ]
  },
  {
   "cell_type": "code",
   "execution_count": null,
   "metadata": {},
   "outputs": [],
   "source": [
    "import numpy as np\n",
    "from matplotlib import pyplot as plt\n",
    "import seaborn as sns\n",
    "import scipy.io as sio\n",
    "%pylab inline"
   ]
  },
  {
   "cell_type": "code",
   "execution_count": null,
   "metadata": {},
   "outputs": [],
   "source": [
    "# Read in worm data from SharedData .npz file\n",
    "Worm = 5\n",
    "worm_data = np.load('../SharedData/Worm_Angles/WormAngle'+str(Worm)+'.npz')\n",
    "\n",
    "thetas = worm_data['thetas']\n",
    "proj_thetas = worm_data['proj_thetas']"
   ]
  },
  {
   "cell_type": "markdown",
   "metadata": {},
   "source": [
    "# PCA on new centerlines\n",
    "Data matrix $X$ of size $n \\times p$ where $n$ is number of samples and $p$ is variables. We reduce dimensionality of $p$. $k = \\min(p, n)$\n",
    "\n",
    "theta: 102 x 15005<br>\n",
    "U: $n \\times k$, 102 x 102<br>\n",
    "V: $k \\times p$, 102 x 15005<br>\n",
    "S: $k \\times k$, 102 x 102\n",
    "\n",
    "$T = X*V = U*S$ is our principal components"
   ]
  },
  {
   "cell_type": "code",
   "execution_count": null,
   "metadata": {},
   "outputs": [],
   "source": [
    "# SVD on new centerlines\n",
    "import scipy.linalg as linalg\n",
    "U, s, V = linalg.svd(thetas, full_matrices=False)"
   ]
  },
  {
   "cell_type": "code",
   "execution_count": null,
   "metadata": {},
   "outputs": [],
   "source": [
    "f = plt.figure(figsize=(20,10))\n",
    "ax = plt.axes()\n",
    "ax.plot(s)\n",
    "print(shape(thetas), shape(U), shape(V), shape(s))\n",
    "# theta = 102 x 15005, Uk= 102 x 102, V = 102 x 15005"
   ]
  },
  {
   "cell_type": "markdown",
   "metadata": {},
   "source": [
    "## Compute how many eigenworms capture 75% of variance."
   ]
  },
  {
   "cell_type": "code",
   "execution_count": null,
   "metadata": {},
   "outputs": [],
   "source": [
    "# compute fractional variance\n",
    "captured_var = np.cumsum(s)/np.sum(s)\n",
    "index_var = next(x[0] for x in enumerate(captured_var) if x[1] > 0.90)\n",
    "print(index_var)"
   ]
  },
  {
   "cell_type": "code",
   "execution_count": null,
   "metadata": {},
   "outputs": [],
   "source": [
    "T = np.dot(U, np.diag(s))\n",
    "print(shape(T))\n",
    "f = plt.figure(figsize=(20,10))\n",
    "ax = plt.axes()\n",
    "ax.plot(T[:,0:index_var])\n",
    "ax.set_title(\"First \"+str(index_var)+\" eigenworms\",fontsize='30')"
   ]
  },
  {
   "cell_type": "code",
   "execution_count": null,
   "metadata": {
    "collapsed": true
   },
   "outputs": [],
   "source": []
  }
 ],
 "metadata": {
  "kernelspec": {
   "display_name": "Python 3",
   "language": "python",
   "name": "python3"
  },
  "language_info": {
   "codemirror_mode": {
    "name": "ipython",
    "version": 3
   },
   "file_extension": ".py",
   "mimetype": "text/x-python",
   "name": "python",
   "nbconvert_exporter": "python",
   "pygments_lexer": "ipython3",
   "version": "3.7.3"
  }
 },
 "nbformat": 4,
 "nbformat_minor": 1
}
