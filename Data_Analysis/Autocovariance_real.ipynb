{
 "cells": [
  {
   "cell_type": "code",
   "execution_count": null,
   "metadata": {
    "collapsed": false
   },
   "outputs": [],
   "source": [
    "import numpy as np\n",
    "from matplotlib import pyplot as plt\n",
    "import seaborn as sns\n",
    "import pandas as pd\n",
    "import scipy.linalg as linalg\n",
    "import scipy.stats as stats\n",
    "import scipy.interpolate as interp\n",
    "import scipy.signal as signal\n",
    "from scipy.optimize import curve_fit\n",
    "from scipy.optimize import minimize \n",
    "\n",
    "import warnings\n",
    "from scipy.linalg import toeplitz\n",
    "warnings.filterwarnings('ignore')\n",
    "%pylab inline "
   ]
  },
  {
   "cell_type": "code",
   "execution_count": null,
   "metadata": {
    "collapsed": true
   },
   "outputs": [],
   "source": [
    "font = {'family' : 'normal',\n",
    "        'weight' : 'normal',\n",
    "        'size'   : 22}\n",
    "\n",
    "axes = {'titlesize'  : 22,\n",
    "        'labelsize'  : 22}\n",
    "\n",
    "legend = {'fontsize'  : 22}\n",
    "\n",
    "figure = {'figsize'  : (10,5)}\n",
    "\n",
    "matplotlib.rc('font', **font)\n",
    "matplotlib.rc('axes', **axes)\n",
    "matplotlib.rc('legend', **legend)\n",
    "matplotlib.rc('figure', **figure)"
   ]
  },
  {
   "cell_type": "markdown",
   "metadata": {},
   "source": [
    "# Read in worm GFP"
   ]
  },
  {
   "cell_type": "code",
   "execution_count": null,
   "metadata": {
    "collapsed": false
   },
   "outputs": [],
   "source": [
    "### Read in worm data from SharedData .npz file\n",
    "Worm = 'GFP'\n",
    "Centerline = True\n",
    "Neuron_Position = False\n",
    "Close = False\n",
    "\n",
    "worm_data = np.load('../SharedData/Worm'+Worm+'.npz')\n",
    "print('The loaded Primary npz contains the variables:\\n', np.sort([i for i in worm_data]))\n",
    "\n",
    "if Worm == 'GFP':\n",
    "    G_sig = 'GFP' \n",
    "else:\n",
    "    G_sig = 'GCaMP'\n",
    "    from scipy.interpolate import interp1d \n",
    "\n",
    "\n",
    "### Import desired variables\n",
    "G_Raw = worm_data['G_Raw']\n",
    "R_Raw = worm_data['R_Raw']\n",
    "Time = worm_data['Time']\n",
    "\n",
    "\n",
    "### Import Centerline Data?\n",
    "if Centerline:\n",
    "    CLdata = np.load('../SharedData/Worm_Angles/WormAngle'+Worm+'.npz')\n",
    "    print('The loaded Centerline npz contains the variables:\\n', np.sort([i for i in CLdata]))\n",
    "    \n",
    "    CL_PCs = CLdata['proj_neural_thetas'].T\n",
    "\n",
    "\n",
    "### Import Neuron Position Data?\n",
    "if Neuron_Position:\n",
    "    if Close:\n",
    "        NPdata = np.load('../SharedData/NPos_PCA/Worm'+Worm+'_NPosPCA_Close.npz')\n",
    "        print(\"Close neurons with no tail was loaded\")\n",
    "    else:\n",
    "        NPdata = np.load('../SharedData/NPos_PCA/Worm'+Worm+'_NPosPCA.npz')\n",
    "    print('The loaded Neuron Position npz contains the variables:\\n', np.sort([i for i in NPdata]))\n",
    "    \n",
    "    NP_PCs = NPdata['NP_PCs']"
   ]
  },
  {
   "cell_type": "markdown",
   "metadata": {},
   "source": [
    "## Process worm data"
   ]
  },
  {
   "cell_type": "code",
   "execution_count": null,
   "metadata": {
    "collapsed": false
   },
   "outputs": [],
   "source": [
    "### Determine which time columns have NaNs pick first and last w/o any NaNs\n",
    "badcols = np.array([x|y for (x,y) in zip(np.isnan(G_Raw).any(axis=0), np.isnan(R_Raw).any(axis=0))])\n",
    "begin_col = np.arange(0,len(Time))[~badcols][0]\n",
    "end_col = np.arange(0,len(Time))[~badcols][-1] + 1\n",
    "\n",
    "### Shave off times from before first and last full column\n",
    "G_Raw = G_Raw[:,begin_col:end_col]\n",
    "R_Raw = R_Raw[:,begin_col:end_col]\n",
    "Time = Time[begin_col:end_col, 0]\n",
    "\n",
    "if Centerline: CL_PCs = CL_PCs[:,begin_col:end_col]\n",
    "if Neuron_Position: NP_PCs = NP_PCs[:,begin_col:end_col]\n",
    "    \n",
    "    \n",
    "[neuron_length, neuron_time] = np.shape(G_Raw)\n",
    "print('Neurons:', neuron_length, '\\nTime Points:', neuron_time, '\\nFrom', Time[0], 's to', Time[-1], 's')\n",
    "\n",
    "### Fill in NaNs with interpolation\n",
    "for i in np.arange(len(G_Raw)):\n",
    "    \n",
    "    g_bad = np.isnan(G_Raw[i])\n",
    "    if g_bad.any():\n",
    "        if Worm == 'GFP':\n",
    "            g_interp = interp.interp1d(Time[~g_bad], G_Raw[i,~g_bad], kind='cubic', assume_sorted=True)\n",
    "        else:\n",
    "            g_interp = interp1d(Time[~g_bad], G_Raw[i,~g_bad], kind='cubic', assume_sorted=True)\n",
    "        G_Raw[i][g_bad] = g_interp(Time[g_bad])\n",
    "    \n",
    "    r_bad = np.isnan(R_Raw[i])\n",
    "    if r_bad.any():\n",
    "        if Worm == 'GFP':\n",
    "            r_interp = interp.interp1d(Time[~r_bad], R_Raw[i,~r_bad], kind='cubic', assume_sorted=True)\n",
    "        else:\n",
    "            r_interp = interp1d(Time[~r_bad], R_Raw[i,~r_bad], kind='cubic', assume_sorted=True)\n",
    "        R_Raw[i][r_bad] = r_interp(Time[r_bad])\n",
    "    \n",
    "    #print(i)\n",
    "    \n",
    "    ### Visualize interpolated points\n",
    "#     plt.scatter(Time[~r_bad], R_Raw[i,~r_bad], color='blue')\n",
    "#     plt.plot(Time, R_Raw[i], color='blue', alpha=0.2)\n",
    "#     plt.scatter(Time[r_bad], R_Raw[i,r_bad], color='red')\n",
    "#     plt.show()\n",
    "#     break"
   ]
  },
  {
   "cell_type": "markdown",
   "metadata": {},
   "source": [
    "Autocovariance\n",
    "$\\hat{\\gamma}_x(h) = \\frac{1}{n}\\sum_{i=1}^{n-|h|}\\left(x_i-\\bar{x}\\right)\\left(x_{i+|h|} - \\bar{x}\\right)$"
   ]
  },
  {
   "cell_type": "markdown",
   "metadata": {},
   "source": [
    "$C(\\tau) = E[\\tilde r(t) * \\tilde r(t+\\tau)]$\n",
    "\n",
    "where $\\tilde r$ is the zero-centered r(t), i.e., \n",
    "$\\tilde r(t) = r(t) - E[r(t)]$."
   ]
  },
  {
   "cell_type": "markdown",
   "metadata": {},
   "source": [
    "# Fit the distribution to neurons"
   ]
  },
  {
   "cell_type": "markdown",
   "metadata": {},
   "source": [
    "## Trying on many neurons"
   ]
  },
  {
   "cell_type": "code",
   "execution_count": null,
   "metadata": {
    "collapsed": true
   },
   "outputs": [],
   "source": [
    "import scipy.io as sio\n",
    "n9 = R_Raw[9,:]\n",
    "n12 = R_Raw[12,:]\n",
    "sio.savemat('neurons9_12.mat',{'n9':n9,'n12':n12})"
   ]
  },
  {
   "cell_type": "code",
   "execution_count": null,
   "metadata": {
    "collapsed": true
   },
   "outputs": [],
   "source": [
    "from simulate_activity import calc_corr\n",
    "from est_param import *"
   ]
  },
  {
   "cell_type": "code",
   "execution_count": null,
   "metadata": {
    "collapsed": true
   },
   "outputs": [],
   "source": [
    "def fit_neurons(neurons, LAGS = 300, mse_res_all = [], mle_res_all = []):\n",
    "    f, ax = plt.subplots(len(neurons),4,figsize=(20,5*len(neurons)))\n",
    "\n",
    "    for i,v in enumerate(neurons):\n",
    "        print(v)\n",
    "        # Make R corr\n",
    "        R = np.copy(R_Raw[v,:])\n",
    "        # unit standard deviation\n",
    "        std0 = std(R)\n",
    "        R = np.divide(R,std0)\n",
    "        # mean centered\n",
    "        R = R - np.mean(R)\n",
    "        (xx, R_t_corr) = calc_corr(R, R, LAGS)\n",
    "\n",
    "        # MSE\n",
    "        inf_params = est_MSE_R(xx,R_t_corr)\n",
    "        mse_res_all.append(inf_params)\n",
    "\n",
    "        fitted_MSE_R = create_fitted(xx,inf_params)\n",
    "        \n",
    "        if len(neurons)>1:\n",
    "            ax[i,0].plot(xx,R_t_corr,label='Real')\n",
    "            ax[i,0].plot(xx,fitted_MSE_R,label='MSE Fit')\n",
    "            ax[i,0].set_title(\"N %d: Rho: %1.2f L: %1.2f P: %1.2f sig_r: %1.2f\" \n",
    "                  % (v, inf_params[0],inf_params[1],inf_params[2],inf_params[3]))\n",
    "            ax[i,0].legend()\n",
    "        else:\n",
    "            ax[0].plot(xx,R_t_corr,label='Real')\n",
    "            ax[0].plot(xx,fitted_MSE_R,label='MSE Fit')\n",
    "            ax[0].set_title(\"N %d: Rho: %1.2f L: %1.2f P: %1.2f sig_r: %1.2f\" \n",
    "                  % (v, inf_params[0],inf_params[1],inf_params[2],inf_params[3]))\n",
    "            ax[0].legend()\n",
    "\n",
    "        # MLE\n",
    "        mle_res = est_MLE_R(R, inf_params,toPrint = False,method='SLSQP')\n",
    "        print(mle_res)\n",
    "        mle_res_all.append(mle_res)\n",
    "\n",
    "        fitted_MLE_R = create_fitted(xx,mle_res)\n",
    "        if len(neurons)>1:\n",
    "            ax[i,1].plot(xx,R_t_corr,label='Real')\n",
    "            ax[i,1].plot(xx,fitted_MLE_R,label='MLE Fit')\n",
    "            ax[i,1].set_title(\"N %d: Rho: %1.2f L: %1.2f\\nP: %1.2f sig_r: %1.2f\" \n",
    "                  % (v, mle_res[0],mle_res[1],mle_res[2],mle_res[3]))\n",
    "            ax[i,1].legend()\n",
    "\n",
    "            ax[i,2].plot(xx,R_t_corr,label='Real')\n",
    "            ax[i,2].plot(xx,fitted_MSE_R,label='MSE Fit')\n",
    "            ax[i,2].plot(xx,fitted_MLE_R,label='MLE Fit')\n",
    "            ax[i,2].legend()\n",
    "\n",
    "            ax[i,3].plot(xx,fitted_MSE_R,label='MSE Fit')\n",
    "            ax[i,3].plot(xx,fitted_MLE_R,label='MLE Fit')\n",
    "            ax[i,3].legend()\n",
    "        else:\n",
    "            ax[1].plot(xx,R_t_corr,label='Real')\n",
    "            ax[1].plot(xx,fitted_MLE_R,label='MLE Fit')\n",
    "            ax[1].set_title(\"N %d: Rho: %1.2f L: %1.2f\\nP: %1.2f sig_r: %1.2f\" \n",
    "                  % (v, mle_res[0],mle_res[1],mle_res[2],mle_res[3]))\n",
    "            ax[1].legend()\n",
    "\n",
    "            ax[2].plot(xx,R_t_corr,label='Real')\n",
    "            ax[2].plot(xx,fitted_MSE_R,label='MSE Fit')\n",
    "            ax[2].plot(xx,fitted_MLE_R,label='MLE Fit')\n",
    "            ax[2].legend()\n",
    "\n",
    "            ax[3].plot(xx,fitted_MSE_R,label='MSE Fit')\n",
    "            ax[3].plot(xx,fitted_MLE_R,label='MLE Fit')\n",
    "            ax[3].legend()"
   ]
  },
  {
   "cell_type": "code",
   "execution_count": null,
   "metadata": {
    "collapsed": true
   },
   "outputs": [],
   "source": [
    "mse_res_all = []\n",
    "mle_res_all = []"
   ]
  },
  {
   "cell_type": "markdown",
   "metadata": {},
   "source": [
    "### Order of neurons for MLE ascending GFP\n",
    "\n",
    "array([39,  3, 24, 12, 29, 21, 50,  9,  6, 13, 30, 42, 44, 18, 62, 45, 33,\n",
    "        4, 19, 49, 31, 55, 14, 15, 28, 48, 47, 10, 46, 60, 11, 58, 27, 20,\n",
    "       34, 57, 22,  5, 26, 40, 25, 36,  0, 61, 52, 38, 59, 43, 37,  2, 17,\n",
    "       16, 56, 35, 54, 23,  8, 41, 51, 32,  1, 53,  7])"
   ]
  },
  {
   "cell_type": "code",
   "execution_count": null,
   "metadata": {
    "collapsed": false
   },
   "outputs": [],
   "source": [
    "range(neuron_length)"
   ]
  },
  {
   "cell_type": "code",
   "execution_count": null,
   "metadata": {
    "collapsed": false
   },
   "outputs": [],
   "source": [
    "import timeit\n",
    "neurons =np.array(range(neuron_length))\n",
    "small_mse_neurons = [39,3,24]\n",
    "large_mse_neurons = [1,53,7]"
   ]
  },
  {
   "cell_type": "code",
   "execution_count": null,
   "metadata": {
    "collapsed": false
   },
   "outputs": [],
   "source": [
    "#neurons = np.concatenate((small_mse_neurons, large_mse_neurons))\n",
    "def test():\n",
    "    fit_neurons(neurons, 300, mse_res_all, mle_res_all)\n",
    "print(timeit.timeit(test,number=1)/(1*len(neurons)))"
   ]
  },
  {
   "cell_type": "markdown",
   "metadata": {},
   "source": [
    "# 3. \n",
    "Plug in $\\hat{R}_m(\\tau), \\hat{\\mu}_m$ into $R_r(\\tau) = R_m(\\tau) + \\sigma_r^2\\delta(\\tau)$, and $R_{r,g}(\\tau) = \n",
    "\\mu_mR_{a,m}(\\tau) + \\mu_aR_m(\\tau)$ and use these equations to obtain $\\hat{R}_{a,m}(0), \\mu_m$ by:\n",
    "  $$\\left(\\begin{matrix}R_{a,m}(0)\\\\\\mu_a\\\\\\end{matrix}\\right) = \\left(\\begin{matrix} 1&\\mu_m\\\\\\mu_m&R_m(0)\\\\\\end{matrix}\\right)^{-1}\\left(\\begin{matrix}\\mu_g\\\\R_{r,g}(0)\\\\\\end{matrix}\\right)$$\n",
    "  \n",
    "# 4. \n",
    "  Set $\\hat{R}_{a,m}(\\tau) = \\mu_m^{-1}\\left(R_{r,g}(\\tau) - \\mu_aR_m\\left(\\tau\\right)\\right)$"
   ]
  },
  {
   "cell_type": "code",
   "execution_count": null,
   "metadata": {
    "collapsed": true
   },
   "outputs": [],
   "source": [
    "LAG = 50"
   ]
  },
  {
   "cell_type": "code",
   "execution_count": null,
   "metadata": {
    "collapsed": false
   },
   "outputs": [],
   "source": [
    "r_am0_all = np.empty((len(neurons),1))\n",
    "mu_a_all = np.empty_like((r_am0_all))\n",
    "for i,n in enumerate(neurons):\n",
    "    # set up variables\n",
    "    mle_res = mle_res_all[0]\n",
    "    R = np.copy(R_Raw[n,:])\n",
    "    G = np.copy(G_Raw[n,:])\n",
    "    (xx,r_rg) = calc_corr(R,G,LAG)\n",
    "    mu_r = mean(R)\n",
    "    mu_g = mean(G)\n",
    "\n",
    "    # Let's take that equation to be C = matrixA*matrixB\n",
    "    mu_m = mu_r\n",
    "    r_m0 = mle_res[0]\n",
    "    matrixA = np.linalg.inv(np.reshape([1,mu_m,mu_m,r_m0],(2,2)))\n",
    "    r_rg0 = r_rg[int(len(r_rg)/2)]\n",
    "    matrixB = np.reshape([mu_g,r_rg0],(2,1))\n",
    "    matrixC = matrixA.dot(matrixB)\n",
    "    r_am0_all[i] = matrixC[0,0]\n",
    "    mu_a_all[i] = matrixC[1,0]\n",
    "    \n",
    "    R_m = mu_m\n",
    "    r_am = (r_rg - mu_a*R_m)/mu_m \n",
    "    plt.plot(xx,r_am,label=str(n))\n",
    "    \n",
    "print('r_am0: mean: %1.3f, var: %1.3f' % (mean(r_am0_all), var(r_am0_all)))\n",
    "print('mu_a: mean: %1.3f, var: %1.3f' % (mean(mu_a_all), var(mu_a_all)))\n",
    "plt.title(\"R_am\")\n",
    "plt.legend()"
   ]
  },
  {
   "cell_type": "markdown",
   "metadata": {
    "collapsed": true
   },
   "source": [
    "5. Fit parameteric form of $R_a\\left(\\tau\\right)$ and $\\sigma_g^2$ by equation 29\n",
    "\n",
    "$$R_g = R_aR_m+R_{am}R_{ma}+\\mu_a^2R_m + \\mu_m^2R_a + \\sigma_g^2\\delta$$"
   ]
  },
  {
   "cell_type": "code",
   "execution_count": null,
   "metadata": {
    "collapsed": true
   },
   "outputs": [],
   "source": []
  }
 ],
 "metadata": {
  "kernelspec": {
   "display_name": "Python 3",
   "language": "python",
   "name": "python3"
  },
  "language_info": {
   "codemirror_mode": {
    "name": "ipython",
    "version": 3
   },
   "file_extension": ".py",
   "mimetype": "text/x-python",
   "name": "python",
   "nbconvert_exporter": "python",
   "pygments_lexer": "ipython3",
   "version": "3.5.1"
  }
 },
 "nbformat": 4,
 "nbformat_minor": 0
}
