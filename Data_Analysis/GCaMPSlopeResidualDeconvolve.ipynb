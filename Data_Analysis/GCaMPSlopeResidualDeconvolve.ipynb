{
 "cells": [
  {
   "cell_type": "markdown",
   "metadata": {},
   "source": [
    "Read in data, discard NaN values, then calculate slopes of different neurons, residuals, and deconvolve to get neural activity"
   ]
  },
  {
   "cell_type": "code",
   "execution_count": null,
   "metadata": {
    "collapsed": false
   },
   "outputs": [],
   "source": [
    "import numpy as np\n",
    "from scipy.interpolate import interp1d\n",
    "from scipy.interpolate import interpn\n",
    "from matplotlib import pyplot as plt\n",
    "import seaborn as sns\n",
    "import scipy.io as sio\n",
    "%pylab inline\n",
    "\n",
    "# load data\n",
    "Directory = 'Data/' # for Katherine's computer\n",
    "#Directory = 'Data/' # for Nick's computer\n",
    "Ldfile = 'heatData_worm5'\n",
    "fileread = sio.loadmat(Directory+Ldfile)\n",
    "afileread"
   ]
  },
  {
   "cell_type": "code",
   "execution_count": null,
   "metadata": {
    "collapsed": false
   },
   "outputs": [],
   "source": [
    "G2 = np.array(fileread['G2'])\n",
    "R2 = np.array(fileread['R2'])\n",
    "ratio = np.array(fileread['R2'])\n",
    "cgIdx = (np.ravel(np.array(fileread['cgIdx'])) - 1)#[:80]\n",
    "print(G2.shape)\n",
    "\n",
    "badcols = np.array([x|y for (x,y) in zip(np.isnan(G2).any(axis=0), np.isnan(R2).any(axis=0))])\n",
    "intG2 = G2[:,~badcols]\n",
    "intG2 = intG2[cgIdx]\n",
    "intR2 = R2[:,~badcols]\n",
    "intR2 = intR2[cgIdx]\n",
    "\n",
    "(neurons, time) = intG2.shape\n",
    "timePoints = np.array(range(1,time))\n",
    "print(intG2.shape)\n",
    "\n",
    "f ,ax = plt.subplots(1,2, figsize=(20,5*2))\n",
    "ax[0].imshow(intG2, aspect=10,cmap=\"Paired\")\n",
    "ax[1].imshow(intR2, aspect=10,cmap=\"Paired\")\n",
    "for axis, title in zip(ax, [r'GCAMP', r'RFP']):\n",
    "    axis.set_title(title)"
   ]
  },
  {
   "cell_type": "markdown",
   "metadata": {},
   "source": [
    "# Slopes\n",
    "Now that we have the data read in, let's look at some basic regressions."
   ]
  },
  {
   "cell_type": "code",
   "execution_count": null,
   "metadata": {
    "collapsed": false
   },
   "outputs": [],
   "source": [
    "from scipy import stats\n",
    "import string\n",
    "X = np.ones((time,1))\n",
    "Y = np.zeros((time,1))\n",
    "\n",
    "vals = np.random.randint(0, len(intG2), 10)\n",
    "f ,ax = plt.subplots(len(vals),1, figsize=(20,len(vals)*10))\n",
    "for i, v in enumerate(vals):\n",
    "    Y = intG2[v,:].T\n",
    "    X = intR2[v,:].T\n",
    "    slope, intercept, r_value, p_value, std_err = stats.linregress(X,Y)\n",
    "    ax[i].plot(X,Y, lw=0.2)\n",
    "    ax[i].scatter(X,Y, c= np.arange(len(X)), cmap='RdBu') # other possible colormaps are: YlOrBr, YlGnBu, \n",
    "    ax[i].plot(X, intercept + slope*X)\n",
    "    ax[i].set_title('Neuron: ' + str(v)+', Slope: '+ \"%.3f\" % slope + ', R_val: ' + \"%.3f\" % r_value)"
   ]
  },
  {
   "cell_type": "code",
   "execution_count": null,
   "metadata": {
    "collapsed": false
   },
   "outputs": [],
   "source": [
    "slopes = np.zeros(neurons)\n",
    "r_values = np.zeros(neurons)\n",
    "resids = np.zeros((neurons,time))\n",
    "\n",
    "\n",
    "for i in range(0,neurons):\n",
    "    Y = intG2[i,:].T\n",
    "    X = intR2[i,:].T\n",
    "    slope, intercept, r_value, p_value, std_err = stats.linregress(X,Y)\n",
    "    slopes[i] = slope\n",
    "    r_values[i] = r_value\n",
    "    \n",
    "    resids[i,:] = Y-intercept-slope*X\n",
    "\n",
    "plt.figure(figsize=(20,10))\n",
    "plt.scatter(range(0,neurons), slopes)\n",
    "plt.title('Slopes of G2 regressed on R2 for each neuron')\n",
    "\n",
    "# find that odd negative slope\n",
    "# import operator\n",
    "# min_index, min_value = min(enumerate(slopes), key=operator.itemgetter(1))\n",
    "# print(min_index)"
   ]
  },
  {
   "cell_type": "code",
   "execution_count": null,
   "metadata": {
    "collapsed": false
   },
   "outputs": [],
   "source": [
    "# rvalues\n",
    "plt.figure(figsize=(12,8))\n",
    "\n",
    "plt.scatter(slopes, r_values**2)\n",
    "plt.title('R^2 values of G2 regressed on R2 for each neuron')\n",
    "plt.xlabel('Slope')\n",
    "plt.ylabel('r_Value')\n",
    "plt.ylim([0,1])\n"
   ]
  },
  {
   "cell_type": "markdown",
   "metadata": {},
   "source": [
    "# Residuals\n",
    "View the residuals"
   ]
  },
  {
   "cell_type": "code",
   "execution_count": null,
   "metadata": {
    "collapsed": false
   },
   "outputs": [],
   "source": [
    "vals = [65,1,0]\n",
    "f ,ax = plt.subplots(len(vals),1, figsize=(15,len(vals)*5))\n",
    "\n",
    "for i, v in enumerate(vals):\n",
    "    ax[i].plot(np.arange(0,time/6,1/6), resids[i,:])\n",
    "    ax[i].set_title('Residuals: Neuron: ' + str(v)+', Slope: %.3f' % slope)\n",
    "    "
   ]
  },
  {
   "cell_type": "markdown",
   "metadata": {},
   "source": [
    "# Deconvolve\n",
    "Let's now deconvolve the flouresence to get back our neural activity"
   ]
  },
  {
   "cell_type": "code",
   "execution_count": null,
   "metadata": {
    "collapsed": false
   },
   "outputs": [],
   "source": [
    "from scipy import signal\n",
    "import math\n",
    "\n",
    "alpha = 1.0 # decay rate\n",
    "decay_time = 50\n",
    "filt = [math.exp(-alpha*t/6.0) for t in range(0,decay_time)] # divide by time resolution (~6Hz)\n",
    "\n",
    "print(time - decay_time + 1)\n",
    "\n",
    "values = [1,3,40,64]\n",
    "f ,ax = plt.subplots(len(values),1, figsize=(15,4*len(values)))\n",
    "for i, v in enumerate(values):\n",
    "    [neural_sig, remainder] = signal.deconvolve(resids[v,:],filt)\n",
    "    ax[i].plot(np.arange(0,230,1/6), neural_sig[:230*6])\n",
    "    ax[i].set_title('Neural Signals: Neuron: ' + str(v))\n",
    "    ax[i].set_xlim([0,230])"
   ]
  },
  {
   "cell_type": "code",
   "execution_count": null,
   "metadata": {
    "collapsed": true
   },
   "outputs": [],
   "source": []
  }
 ],
 "metadata": {
  "kernelspec": {
   "display_name": "Python 2",
   "language": "python",
   "name": "python2"
  },
  "language_info": {
   "codemirror_mode": {
    "name": "ipython",
    "version": 2
   },
   "file_extension": ".py",
   "mimetype": "text/x-python",
   "name": "python",
   "nbconvert_exporter": "python",
   "pygments_lexer": "ipython2",
   "version": "2.7.11"
  }
 },
 "nbformat": 4,
 "nbformat_minor": 0
}
