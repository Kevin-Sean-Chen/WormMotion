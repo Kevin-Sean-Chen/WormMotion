{
 "cells": [
  {
   "cell_type": "markdown",
   "metadata": {},
   "source": [
    "Code to check the mean and variance of the recovered estimates of the autocovariance of $R$ from a simulated $R(t)$."
   ]
  },
  {
   "cell_type": "code",
   "execution_count": null,
   "metadata": {
    "collapsed": false
   },
   "outputs": [],
   "source": [
    "import numpy as np\n",
    "from matplotlib import animation, pyplot as plt\n",
    "import seaborn as sns\n",
    "import pandas as pd`\n",
    "import scipy.linalg as linalg\n",
    "from scipy.optimize import minimize \n",
    "\n",
    "import warnings\n",
    "from scipy.linalg import toeplitz\n",
    "warnings.filterwarnings('ignore')\n",
    "%pylab inline "
   ]
  },
  {
   "cell_type": "code",
   "execution_count": null,
   "metadata": {
    "collapsed": true
   },
   "outputs": [],
   "source": [
    "font = {'family' : 'normal',\n",
    "        'weight' : 'normal',\n",
    "        'size'   : 22}\n",
    "\n",
    "axes = {'titlesize'  : 22,\n",
    "        'labelsize'  : 22}\n",
    "\n",
    "legend = {'fontsize'  : 22}\n",
    "\n",
    "figure = {'figsize'  : (10,5)}\n",
    "\n",
    "matplotlib.rc('font', **font)\n",
    "matplotlib.rc('axes', **axes)\n",
    "matplotlib.rc('legend', **legend)\n",
    "matplotlib.rc('figure', **figure)"
   ]
  },
  {
   "cell_type": "code",
   "execution_count": null,
   "metadata": {
    "collapsed": true
   },
   "outputs": [],
   "source": [
    "from simulate_activity import *\n",
    "from est_param import *"
   ]
  },
  {
   "cell_type": "code",
   "execution_count": null,
   "metadata": {
    "collapsed": false
   },
   "outputs": [],
   "source": [
    "trials = 100\n",
    "est_rho = np.empty((trials,))\n",
    "est_l = np.empty((trials,))\n",
    "est_p = np.empty((trials,))\n",
    "est_sig_r = np.empty((trials,))\n",
    "\n",
    "est_rho_MSE = np.empty((trials,))\n",
    "est_l_MSE = np.empty((trials,))\n",
    "est_p_MSE = np.empty((trials,))\n",
    "est_sig_r_MSE = np.empty((trials,))\n",
    "\n",
    "RHO, L, P = 5,8,1.1\n",
    "T, LAG = 500,50\n",
    "MU_M, ALPHA = 10,.9\n",
    "SIG_R, SIG_G = 2,.25\n",
    "MY_Y,SIG_Y2, L_Y = 1,.1,2\n",
    "\n",
    "s = SimulateWorm(Rho = RHO,L = L, P = P, T = T, Lag = LAG, Mu_m= MU_M, Sig_r=SIG_R,alpha = ALPHA)\n",
    "\n",
    "for i in range(trials):\n",
    "    if i%10 == 0:\n",
    "        print(i)\n",
    "    \n",
    "    R_t = s.gen_R_t('matrix')\n",
    "    R_t = R_t - np.mean(R_t)\n",
    "    (xx,R_t_corr) = calc_corr(R_t, R_t,LAG)\n",
    "    inf_params = est_MSE_R(xx,R_t_corr)\n",
    "    \n",
    "    # save params\n",
    "    est_rho_MSE[i] = inf_params[0]\n",
    "    est_l_MSE[i] = inf_params[1]\n",
    "    est_p_MSE[i] = inf_params[2]\n",
    "    est_sig_r_MSE[i] = inf_params[3]\n",
    "    \n",
    "    #jiggled_params = np.array([RHO, L, P, SIG_R]) + np.random.normal(4)*.25\n",
    "    mle_res = est_MLE_R(R_t, inf_params,toPrint=False)\n",
    "    # save params\n",
    "    est_rho[i] = mle_res[0]\n",
    "    est_l[i] = mle_res[1]\n",
    "    est_p[i] = mle_res[2]\n",
    "    est_sig_r[i] = mle_res[3]"
   ]
  },
  {
   "cell_type": "code",
   "execution_count": null,
   "metadata": {
    "collapsed": false
   },
   "outputs": [],
   "source": [
    "std(est_rho)"
   ]
  },
  {
   "cell_type": "code",
   "execution_count": null,
   "metadata": {
    "collapsed": false
   },
   "outputs": [],
   "source": [
    "print(\"--- MLE ---\")\n",
    "print(\"STD:\")\n",
    "print(\"Rho %1.3f\\tL: %1.3f\\tP: %1.3f\\tSigma_r: %1.3f\\t\"\n",
    "      % (std(est_rho), std(est_l), std(est_p), std(est_sig_r)))\n",
    "print(\"Medians:\")\n",
    "print(\"Rho %1.3f\\tL: %1.3f\\tP: %1.3f\\tSigma_r: %1.3f\\t\"\n",
    "      % (median(est_rho), median(est_l), median(est_p), median(est_sig_r)))\n",
    "print(\"--- MSE ---\")\n",
    "print(\"STD:\")\n",
    "print(\"Rho %1.3f\\tL: %1.3f\\tP: %1.3f\\tSigma_r: %1.3f\\t\"\n",
    "      % (std(est_rho_MSE), std(est_l_MSE), std(est_p_MSE), std(est_sig_r_MSE)))\n",
    "print(\"Medians:\")\n",
    "print(\"Rho %1.3f\\tL: %1.3f\\tP: %1.3f\\tSigma_r: %1.3f\\t\"\n",
    "      % (median(est_rho_MSE), median(est_l_MSE), median(est_p_MSE), median(est_sig_r_MSE)))"
   ]
  },
  {
   "cell_type": "code",
   "execution_count": null,
   "metadata": {
    "collapsed": false
   },
   "outputs": [],
   "source": [
    "# Evaluate how well this did:\n",
    "true_r = create_fitted(xx,[RHO, L, P, SIG_R])\n",
    "fitted_r = create_fitted(xx,[median(est_rho), median(est_l), median(est_p), median(est_sig_r)])\n",
    "plt.plot(xx,true_r,label='True')\n",
    "plt.plot(xx,fitted_r,label='Fitted')\n",
    "\n",
    "plt.legend()\n"
   ]
  },
  {
   "cell_type": "code",
   "execution_count": null,
   "metadata": {
    "collapsed": false
   },
   "outputs": [],
   "source": [
    "f,ax = plt.subplots(1,4,figsize=(20,5))\n",
    "ax[0].hist(est_rho);\n",
    "ax[0].set_title('Values of Rho')\n",
    "ax[1].hist(est_l);\n",
    "ax[1].set_title('Values of L')\n",
    "ax[2].hist(est_p);\n",
    "ax[2].set_title('Values of p')\n",
    "ax[3].hist(est_sig_r);\n",
    "ax[3].set_title('Values of sig_r')"
   ]
  },
  {
   "cell_type": "code",
   "execution_count": null,
   "metadata": {
    "collapsed": true
   },
   "outputs": [],
   "source": []
  }
 ],
 "metadata": {
  "kernelspec": {
   "display_name": "Python 3",
   "language": "python",
   "name": "python3"
  },
  "language_info": {
   "codemirror_mode": {
    "name": "ipython",
    "version": 3
   },
   "file_extension": ".py",
   "mimetype": "text/x-python",
   "name": "python",
   "nbconvert_exporter": "python",
   "pygments_lexer": "ipython3",
   "version": "3.5.1"
  }
 },
 "nbformat": 4,
 "nbformat_minor": 0
}
