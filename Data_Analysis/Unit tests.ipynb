{
 "cells": [
  {
   "cell_type": "code",
   "execution_count": null,
   "metadata": {},
   "outputs": [],
   "source": [
    "import numpy as np\n",
    "from matplotlib import pyplot as plt\n",
    "import seaborn as sns\n",
    "import pandas as pd\n",
    "import scipy.linalg as linalg\n",
    "from scipy.optimize import minimize \n",
    "\n",
    "import warnings\n",
    "from scipy.linalg import toeplitz\n",
    "warnings.filterwarnings('ignore')\n",
    "%pylab inline \n",
    "\n",
    "import scipy.io as sio"
   ]
  },
  {
   "cell_type": "code",
   "execution_count": null,
   "metadata": {
    "collapsed": true
   },
   "outputs": [],
   "source": [
    "font = {'family' : 'normal',\n",
    "        'weight' : 'normal',\n",
    "        'size'   : 22}\n",
    "\n",
    "axes = {'titlesize'  : 22,\n",
    "        'labelsize'  : 22}\n",
    "\n",
    "legend = {'fontsize'  : 22}\n",
    "\n",
    "figure = {'figsize'  : (10,5)}\n",
    "\n",
    "matplotlib.rc('font', **font)\n",
    "matplotlib.rc('axes', **axes)\n",
    "matplotlib.rc('legend', **legend)\n",
    "matplotlib.rc('figure', **figure)"
   ]
  },
  {
   "cell_type": "code",
   "execution_count": null,
   "metadata": {
    "collapsed": true
   },
   "outputs": [],
   "source": [
    "from simulate_activity import *\n",
    "from est_param import *"
   ]
  },
  {
   "cell_type": "markdown",
   "metadata": {},
   "source": [
    "# Check calculating autocovariance\n",
    "\n",
    "Expect: -2.2500   -0.7500    0.4167    1.2500    0.4167   -0.7500   -2.2500\n",
    "\n",
    "Matlab code:\n",
    "\n",
    "a = [1,2,3,4]\n",
    "\n",
    "xcorr(a-mean(a),3,'unbiased')"
   ]
  },
  {
   "cell_type": "code",
   "execution_count": null,
   "metadata": {},
   "outputs": [],
   "source": [
    "a = [1,2,3,4]\n",
    "(_,b) = calc_corr(a,a,3)\n",
    "print(b)"
   ]
  },
  {
   "cell_type": "code",
   "execution_count": null,
   "metadata": {
    "collapsed": true
   },
   "outputs": [],
   "source": []
  },
  {
   "cell_type": "code",
   "execution_count": null,
   "metadata": {
    "collapsed": true
   },
   "outputs": [],
   "source": []
  }
 ],
 "metadata": {
  "kernelspec": {
   "display_name": "Python 3",
   "language": "python",
   "name": "python3"
  },
  "language_info": {
   "codemirror_mode": {
    "name": "ipython",
    "version": 3
   },
   "file_extension": ".py",
   "mimetype": "text/x-python",
   "name": "python",
   "nbconvert_exporter": "python",
   "pygments_lexer": "ipython3",
   "version": "3.7.3"
  }
 },
 "nbformat": 4,
 "nbformat_minor": 1
}
