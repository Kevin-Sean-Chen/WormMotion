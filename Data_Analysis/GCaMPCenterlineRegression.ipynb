{
 "cells": [
  {
   "cell_type": "markdown",
   "metadata": {},
   "source": [
    "# GCaMP Centerline Regression\n",
    "* Performs a regression with RFP and Centerline angle projections onto eig_basis"
   ]
  },
  {
   "cell_type": "code",
   "execution_count": null,
   "metadata": {},
   "outputs": [],
   "source": [
    "import numpy as np\n",
    "from matplotlib import pyplot as plt\n",
    "import seaborn as sns\n",
    "import scipy.io as sio\n",
    "%pylab inline"
   ]
  },
  {
   "cell_type": "code",
   "execution_count": null,
   "metadata": {},
   "outputs": [],
   "source": [
    "# Read in worm data from SharedData .npz file\n",
    "Worm = 5\n",
    "worm_data = np.load('../SharedData/Worm_Angles/WormAngle'+str(Worm)+'.npz')\n",
    "\n",
    "thetas = worm_data['proj_neural_thetas']\n",
    "G = worm_data['G']\n",
    "R = worm_data['R']\n",
    "(neurons, time) = shape(G)\n",
    "(time, eigen) = shape(thetas)"
   ]
  },
  {
   "cell_type": "code",
   "execution_count": null,
   "metadata": {},
   "outputs": [],
   "source": [
    "for neuron in range(neurons):\n",
    "    plt.plot(R[neuron,:])"
   ]
  },
  {
   "cell_type": "code",
   "execution_count": null,
   "metadata": {},
   "outputs": [],
   "source": [
    "m = mean(R, axis=1)\n",
    "v = np.var(R, axis=1)\n",
    "print(\"mean: %1.5f, variance: %1.5f\" % (np.mean(m), np.mean(v)))"
   ]
  },
  {
   "cell_type": "code",
   "execution_count": null,
   "metadata": {},
   "outputs": [],
   "source": [
    "f ,ax = plt.subplots(1,2, figsize=(20,5*2))\n",
    "ax[0].imshow(G, aspect=10,cmap=\"Paired\")\n",
    "ax[1].imshow(R, aspect=10,cmap=\"Paired\")\n",
    "for axis, title in zip(ax, [r'GCAMP', r'RFP']):\n",
    "    axis.set_title(title)"
   ]
  },
  {
   "cell_type": "code",
   "execution_count": null,
   "metadata": {},
   "outputs": [],
   "source": [
    "from sklearn import linear_model\n",
    "#from scipy import stats\n",
    "index_shuffle = np.arange(time)\n",
    "np.random.shuffle(index_shuffle)\n",
    "\n",
    "# take all but 100 for training\n",
    "trainG = G#G[:,~index_shuffle[0:100]]\n",
    "trainR = R#R[:,~index_shuffle[0:100]]\n",
    "trainT = thetas #thetas[~index_shuffle[0:100],:]\n",
    "\n",
    "print(shape(trainG))\n",
    "# test\n",
    "#testG = G[:,index_shuffle[0:100]]\n",
    "#testR = R[:,index_shuffle[0:100]]\n",
    "#testT = thetas[index_shuffle[0:100],:]\n",
    "print(time)\n",
    "\n",
    "vals = np.random.randint(0, len(G), 10)\n",
    "f ,ax = plt.subplots(len(vals),1, figsize=(20,len(vals)*10))\n",
    "for i, v in enumerate(vals):\n",
    "    Y = trainG[v,:].reshape(time,1)\n",
    "    X = np.concatenate((trainR[v,:].reshape(time,1),trainT),axis=1)\n",
    "\n",
    "    regr = linear_model.LinearRegression()\n",
    "    regr.fit(X,Y)\n",
    "    #print('Coefficients: \\n', regr.coef_)\n",
    "    ax[i].scatter(trainR[v,:], Y, c= np.arange(len(X[:,1])), cmap='RdBu') # other possible colormaps are: YlOrBr, YlGnBu, \n",
    "    ax[i].plot(trainR[v,:],Y, lw=0.2)\n",
    "    ax[i].plot(trainR[v,:], regr.predict(X))\n",
    "    ax[i].set_title('Neuron: ' + str(v) + ', R_val: ' + \"%.3f\" % regr.score(X,Y))\n"
   ]
  },
  {
   "cell_type": "code",
   "execution_count": null,
   "metadata": {},
   "outputs": [],
   "source": []
  },
  {
   "cell_type": "code",
   "execution_count": null,
   "metadata": {
    "collapsed": true
   },
   "outputs": [],
   "source": []
  }
 ],
 "metadata": {
  "kernelspec": {
   "display_name": "Python 3",
   "language": "python",
   "name": "python3"
  },
  "language_info": {
   "codemirror_mode": {
    "name": "ipython",
    "version": 3
   },
   "file_extension": ".py",
   "mimetype": "text/x-python",
   "name": "python",
   "nbconvert_exporter": "python",
   "pygments_lexer": "ipython3",
   "version": "3.7.3"
  }
 },
 "nbformat": 4,
 "nbformat_minor": 1
}
