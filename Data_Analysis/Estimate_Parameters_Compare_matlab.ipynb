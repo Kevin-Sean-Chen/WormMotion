{
 "cells": [
  {
   "cell_type": "markdown",
   "metadata": {},
   "source": [
    "Comparing implementations of python and matlab code for estimating the mean and variance of autocorrelation of $R$. The do a timing test."
   ]
  },
  {
   "cell_type": "code",
   "execution_count": null,
   "metadata": {
    "collapsed": false
   },
   "outputs": [],
   "source": [
    "import numpy as np\n",
    "from matplotlib import pyplot as plt\n",
    "import seaborn as sns\n",
    "import pandas as pd\n",
    "import scipy.linalg as linalg\n",
    "from scipy.optimize import minimize \n",
    "\n",
    "import warnings\n",
    "from scipy.linalg import toeplitz\n",
    "warnings.filterwarnings('ignore')\n",
    "%pylab inline \n",
    "\n",
    "import scipy.io as sio"
   ]
  },
  {
   "cell_type": "code",
   "execution_count": null,
   "metadata": {
    "collapsed": false
   },
   "outputs": [],
   "source": [
    "font = {'family' : 'normal',\n",
    "        'weight' : 'normal',\n",
    "        'size'   : 22}\n",
    "\n",
    "axes = {'titlesize'  : 22,\n",
    "        'labelsize'  : 22}\n",
    "\n",
    "legend = {'fontsize'  : 22}\n",
    "\n",
    "figure = {'figsize'  : (10,5)}\n",
    "\n",
    "matplotlib.rc('font', **font)\n",
    "matplotlib.rc('axes', **axes)\n",
    "matplotlib.rc('legend', **legend)\n",
    "matplotlib.rc('figure', **figure)"
   ]
  },
  {
   "cell_type": "code",
   "execution_count": null,
   "metadata": {
    "collapsed": true
   },
   "outputs": [],
   "source": [
    "from simulate_activity import *\n",
    "from est_param import *"
   ]
  },
  {
   "cell_type": "markdown",
   "metadata": {},
   "source": [
    "# Compares matlab file to python implementation"
   ]
  },
  {
   "cell_type": "code",
   "execution_count": null,
   "metadata": {
    "collapsed": false
   },
   "outputs": [],
   "source": [
    "# Import matlab file\n",
    "\n",
    "matcont = sio.loadmat('rt_test_fit.mat')\n",
    "R = matcont['mt']\n",
    "T = len(R)\n",
    "R = np.reshape(R,(T,))\n",
    "R = R-mean(R)\n",
    "\n",
    "mat_R_cor = matcont['xcsamp']\n",
    "LAGS = (len(mat_R_cor)-1)/2\n",
    "mat_R_cor = np.reshape(mat_R_cor,(LAGS*2+1,))\n",
    "\n",
    "initial = matcont['prs0']"
   ]
  },
  {
   "cell_type": "code",
   "execution_count": null,
   "metadata": {
    "collapsed": false
   },
   "outputs": [],
   "source": [
    "plt.plot(R)"
   ]
  },
  {
   "cell_type": "markdown",
   "metadata": {},
   "source": [
    "## Plot autocovariance"
   ]
  },
  {
   "cell_type": "code",
   "execution_count": null,
   "metadata": {
    "collapsed": true
   },
   "outputs": [],
   "source": [
    "T = len(R)\n",
    "LAGS = 50\n",
    "RHO, L, P, SIG_R = 5,8,1.1,2\n",
    "TRUE_PARAMS = [RHO, L, P, SIG_R]"
   ]
  },
  {
   "cell_type": "code",
   "execution_count": null,
   "metadata": {
    "collapsed": false
   },
   "outputs": [],
   "source": [
    "(xx,R_cor) = calc_corr(R,R,LAGS)\n",
    "plt.plot(xx,R_cor,label='Simulated')\n",
    "plt.plot(xx,create_fitted(xx,TRUE_PARAMS),label='True')\n",
    "plt.plot(xx,mat_R_cor,label='Matlab')\n",
    "plt.legend()"
   ]
  },
  {
   "cell_type": "markdown",
   "metadata": {},
   "source": [
    "## Test initial value against matlab. \n",
    "\n",
    "This should be: 703.6273"
   ]
  },
  {
   "cell_type": "code",
   "execution_count": null,
   "metadata": {
    "collapsed": false
   },
   "outputs": [],
   "source": [
    "R = np.reshape(R, (len(R),1))\n",
    "neg_log_likelihood_short(initial,R)"
   ]
  },
  {
   "cell_type": "markdown",
   "metadata": {},
   "source": [
    "## Timing tests to see how long one iteration of minimization takes\n",
    "\n",
    "One iteration of matlab takes: 0.0124 sec"
   ]
  },
  {
   "cell_type": "code",
   "execution_count": null,
   "metadata": {
    "collapsed": true
   },
   "outputs": [],
   "source": [
    "import timeit"
   ]
  },
  {
   "cell_type": "code",
   "execution_count": null,
   "metadata": {
    "collapsed": false
   },
   "outputs": [],
   "source": [
    "def test():\n",
    "    neg_log_likelihood_short(initial,R)\n",
    "print(timeit.timeit(test,number=100)/100)"
   ]
  },
  {
   "cell_type": "markdown",
   "metadata": {},
   "source": [
    "## Do the whole minimization\n",
    "\n",
    "Expect:\n",
    "6.1588, 6.6645, 1.0030, 1.8407"
   ]
  },
  {
   "cell_type": "code",
   "execution_count": null,
   "metadata": {
    "collapsed": false
   },
   "outputs": [],
   "source": [
    "mle_param = est_MLE_R(R,initial,method='SLSQP')\n",
    "print(mle_param)"
   ]
  },
  {
   "cell_type": "code",
   "execution_count": null,
   "metadata": {
    "collapsed": false
   },
   "outputs": [],
   "source": [
    "def test():\n",
    "    est_MLE_R(R,initial,method='SLSQP')\n",
    "print(timeit.timeit(test,number=10)/10)"
   ]
  },
  {
   "cell_type": "code",
   "execution_count": null,
   "metadata": {
    "collapsed": true
   },
   "outputs": [],
   "source": []
  }
 ],
 "metadata": {
  "kernelspec": {
   "display_name": "Python 3",
   "language": "python",
   "name": "python3"
  },
  "language_info": {
   "codemirror_mode": {
    "name": "ipython",
    "version": 3
   },
   "file_extension": ".py",
   "mimetype": "text/x-python",
   "name": "python",
   "nbconvert_exporter": "python",
   "pygments_lexer": "ipython3",
   "version": "3.5.1"
  }
 },
 "nbformat": 4,
 "nbformat_minor": 0
}
