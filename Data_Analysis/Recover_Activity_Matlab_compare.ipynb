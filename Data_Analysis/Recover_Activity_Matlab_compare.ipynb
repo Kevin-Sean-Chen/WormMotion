{
 "cells": [
  {
   "cell_type": "code",
   "execution_count": null,
   "metadata": {
    "collapsed": false
   },
   "outputs": [],
   "source": [
    "import numpy as np\n",
    "from matplotlib import pyplot as plt\n",
    "import seaborn as sns\n",
    "import pandas as pd\n",
    "import scipy.linalg as linalg\n",
    "from scipy.optimize import minimize \n",
    "\n",
    "import warnings\n",
    "from scipy.linalg import toeplitz\n",
    "warnings.filterwarnings('ignore')\n",
    "%pylab inline "
   ]
  },
  {
   "cell_type": "markdown",
   "metadata": {},
   "source": [
    "Looks like this does match the matlab code exactly!"
   ]
  },
  {
   "cell_type": "code",
   "execution_count": null,
   "metadata": {
    "collapsed": true
   },
   "outputs": [],
   "source": [
    "font = {'family' : 'normal',\n",
    "        'weight' : 'normal',\n",
    "        'size'   : 22}\n",
    "\n",
    "axes = {'titlesize'  : 22,\n",
    "        'labelsize'  : 22}\n",
    "\n",
    "legend = {'fontsize'  : 22}\n",
    "\n",
    "figure = {'figsize'  : (10,5)}\n",
    "\n",
    "matplotlib.rc('font', **font)\n",
    "matplotlib.rc('axes', **axes)\n",
    "matplotlib.rc('legend', **legend)\n",
    "matplotlib.rc('figure', **figure)"
   ]
  },
  {
   "cell_type": "code",
   "execution_count": null,
   "metadata": {
    "collapsed": true
   },
   "outputs": [],
   "source": [
    "from simulate_activity import *\n",
    "from est_param import *"
   ]
  },
  {
   "cell_type": "code",
   "execution_count": null,
   "metadata": {
    "collapsed": true
   },
   "outputs": [],
   "source": [
    "\"\"\"\n",
    "Simulate activity (y and a where a is the timelagged version of y) and motion artifact, and thus RFP and GCaMP\n",
    "\n",
    "example:\n",
    "    Rho, L, P, T, Lag, Mu_m, Sig_r,alpha = 1,15,1.2,1000,10,10,.25,.9\n",
    "    s = SimulateWorm(Rho = Rho,L = L, P = P, T = T, Lag = Lag, Mu_m= Mu_m, Sig_r=Sig_r,alpha = alpha)\n",
    "    My_y,Sig_y2, L_y = 1,.1,2\n",
    "    A = s.gen_A_t(My_y, Sig_y2, L_y)\n",
    "\"\"\"\n",
    "import numpy as np\n",
    "from cmath import sqrt\n",
    "from scipy.linalg import toeplitz\n",
    "from scipy.sparse import csr_matrix\n",
    "from scipy.sparse.linalg import spsolve\n",
    "from matplotlib import pyplot as plt\n",
    "import seaborn as sns\n",
    "\n",
    "def rotate_left(l,n):\n",
    "    return l[n:] + l[:n]\n",
    "\n",
    "def triangle(lags, l):\n",
    "    a = np.arange(l-lags, l)\n",
    "    b = np.arange(l, l-lags-1, -1)\n",
    "    c = np.hstack((a,b))\n",
    "    return c\n",
    "\n",
    "# Helper functions\n",
    "def create_sigma (rho, l, p, length,debug = False):\n",
    "    x = np.arange(0, length, 1)\n",
    "    autocovar = cov(x,rho,l,p)\n",
    "    toe = toeplitz(autocovar)\n",
    "    if debug:\n",
    "        f,ax = plt.subplots(1,2,figsize=(10,5))\n",
    "        ax[0].plot(autocovar)\n",
    "        ax[0].set_title(\"Autocovaraince M_t\")\n",
    "        ax[1].imshow(toe)\n",
    "        ax[1].set_title(\"Autocovaraince Toeplitz M_t\")\n",
    "\n",
    "    return toe\n",
    "\n",
    "def cov(xx,r,l,p):\n",
    "    \"\"\" Calculates covariance. Used for Fourier implementation\"\"\"\n",
    "    to_ret = [(r*np.exp(-np.abs(x/l)**p)) for x in xx]\n",
    "    return(to_ret)\n",
    "\n",
    "def calc_corr(a,b,nlags):\n",
    "    \"\"\"Finds covariance between a and b assuming they have the same length.\n",
    "    \n",
    "    Takes lags up to nlags.\n",
    "    \n",
    "    Returns xx for plotting purposes and corr for correlation purposes\n",
    "    \"\"\"\n",
    "    a = a-np.mean(a)\n",
    "    b = b-np.mean(b)\n",
    "    T = len(a)\n",
    "    #nlags = int(np.ceil(L*6*.1)*10);# number of lags for plotting purposes\n",
    "    xx = list(range(-nlags,nlags+1))\n",
    "    \n",
    "    xcsamp = np.correlate(a,b,'full')[T-1-nlags:T+nlags]\n",
    "    corr = np.divide(xcsamp,triangle(nlags,T))\n",
    "    return (xx, corr)\n",
    "\n",
    "class SimulateWorm:\n",
    "    \"\"\"generating the full matrix covariance. Not recommend to use more than ___ data points.\"\"\"\n",
    "\n",
    "    def __init__(self, Rho, L, P, T, Lag, Mu_m, Sig_r, alpha):\n",
    "        self.Rho = Rho\n",
    "        # length-scale\n",
    "        self.L = L\n",
    "        self.P = P\n",
    "        self.T = T\n",
    "        self.Lag = Lag\n",
    "        self.alpha = alpha\n",
    "        \n",
    "        # m(t) ∼ N (mu_m, sig_m) \n",
    "        self.M_t = None\n",
    "        self.Mu_m = Mu_m\n",
    "        self.Sigma_m = None\n",
    "        \n",
    "        # R_t = M_t + e where e ~ N(0,sig_r^2)\n",
    "        self.R_t = None\n",
    "        self.R_m = Mu_m\n",
    "        self.Sig_r = Sig_r\n",
    "        \n",
    "        # Activity\n",
    "        self.Y_t = None\n",
    "        self.A_t = None\n",
    "\n",
    "        # helper functions\n",
    "        self.nlags = int(np.ceil(L*6*.1)*10);# number of lags for plotting purposes\n",
    "        self.xx = list(range(-self.nlags,self.nlags+1))\n",
    "        self.tvec = None\n",
    "        self.xcsamp = None\n",
    "\n",
    "\n",
    "    def gen_M_t(self,method='fourier',debug=False):\n",
    "        \"\"\"Generate motion artifact from $\\Sigma_m = \\rho e^{-|\\tau/a|^p}$\"\"\"\n",
    "        if method == 'matrix':\n",
    "            if self.T > 1000:\n",
    "                raise Exception('Time too long for Matrix implementation! Please use Fourier')\n",
    "            mu = np.repeat(self.Mu_m,self.T)\n",
    "            self.Sigma_m = create_sigma(self.Rho, self.L, self.P, self.T,debug = debug)\n",
    "            self.M_t = np.random.multivariate_normal(mu, self.Sigma_m) # motion rv\n",
    "        else:\n",
    "            kfunplot = cov(self.xx,self.Rho,self.L,self.P)\n",
    "            # Evaluate covariance function and take FFT\n",
    "            # vector of time bins of length T\n",
    "            self.tvec = np.concatenate((range(int(np.floor((self.T-1)/2))+1),range(int(-np.ceil((self.T-1)/2)),0))) \n",
    "            kf = cov(self.tvec,self.Rho,self.L,self.P) # covariance function of appropriate length\n",
    "            kfh = [sqrt(x) for x in (np.fft.fft(kf))] # take fourier transform\n",
    "\n",
    "            # Generate sample\n",
    "            self.M_t = np.real(np.fft.ifft(kfh*np.fft.fft(np.random.normal(0,1,self.T))))+self.Mu_m\n",
    "        return(self.M_t)\n",
    "\n",
    "    def gen_R_t(self,method='fourier',recal=False):\n",
    "        if recal or self.M_t is None:\n",
    "            self.gen_M_t(method)\n",
    "            \n",
    "        self.R_t = self.M_t + self.Sig_r*np.random.normal(0,1,size=self.T)\n",
    "        return (self.R_t)\n",
    "    \n",
    "    def gen_Y_t(self, mu_y, sig_y2, l_y):\n",
    "        \"\"\" Generates neural activity, y, from GP\"\"\"\n",
    "        tau_g = -1/np.log(self.alpha) # time constant of gcamp decay (in time bins)\n",
    "        \n",
    "        Mu_y = np.repeat(mu_y,self.T) # mean of neural activity y\n",
    "        cov_kernel = cov(list(range(1,self.T+1)),sig_y2, l_y, 1) # true covaraiance kernel\n",
    "        sqrtSy = [sqrt(x) for x in (np.fft.fft(cov_kernel))]\n",
    "        \n",
    "        self.Y_t = np.real(np.fft.ifft(sqrtSy*np.fft.fft(np.random.normal(0,1,self.T))))+Mu_y\n",
    "        return (self.Y_t)\n",
    "    def set_Y_T(self,Y_t):\n",
    "        self.Y_t = Y_t\n",
    "    def gen_A_t(self,mu_y,sig_y2,l_y, recal=False):\n",
    "        if recal or self.Y_t is None:\n",
    "            self.gen_Y_t(mu_y, sig_y2, l_y)\n",
    "        \n",
    "        # Build D\n",
    "        \n",
    "        row_ind = np.concatenate((np.array(range(self.T)),np.array(range(1,self.T))))\n",
    "        col_ind = np.concatenate((np.array(range(self.T)),np.array(range(self.T-1))))\n",
    "        data = np.concatenate((np.repeat(1,self.T),np.repeat(-self.alpha,self.T-1)))\n",
    "        D = csr_matrix((data, (row_ind, col_ind)),shape=(self.T,self.T)).toarray()\n",
    "\n",
    "        # Find A\n",
    "        self.A_t = spsolve(D,self.Y_t)\n",
    "        return(self.A_t)\n",
    "\n",
    "    def gen_G_t(self, mu_y,sig_y2,l_y,sig_g,recal = True):\n",
    "        if recal or self.A_t is None:\n",
    "            self.gen_A_t(mu_y,sig_y2,l_y)\n",
    "        if recal or self.M_t is None:\n",
    "            self.gen_M_t('fourier')\n",
    "        self.Sig_g = sig_g\n",
    "        \n",
    "        \n",
    "        self.G_t = (self.M_t*self.A_t) + self.Sig_g*np.random.normal(0,1,size=self.T)\n",
    "        return(self.G_t)\n"
   ]
  },
  {
   "cell_type": "code",
   "execution_count": null,
   "metadata": {
    "collapsed": true
   },
   "outputs": [],
   "source": [
    "RHO, L, P = 5,8,1.1\n",
    "T, LAG = 200,5\n",
    "MU_M, ALPHA = 1,.9\n",
    "SIG_R, SIG_G = .25,.25\n",
    "MU_Y,SIG_Y2, L_Y = 1,.1,2\n",
    "\n",
    "s = SimulateWorm(Rho = RHO,L = L, P = P, T = T, Lag = LAG, Mu_m= MU_M, Sig_r=SIG_R,alpha = ALPHA)"
   ]
  },
  {
   "cell_type": "code",
   "execution_count": null,
   "metadata": {
    "collapsed": true
   },
   "outputs": [],
   "source": [
    "def MotionCorrection_smooth_yy(R,G,a0,rho_r,rho_g,mu_y,rho_y,mu_m,Um,Sminv,D):    \n",
    "    \"\"\"MotionCoRection_smooth_yy - estimate activity y(t) under GP prior on m(t)\n",
    "       Computes MAP estimate of yy under the following model:\n",
    "        mm ~ N(mu_m, Sigma_m)  # motion artifact\n",
    "        yy ~ N(mu_y, rho_y*I)  # neural activity-relatd fluorescence\n",
    "        aa = D\\yy             # aa comes from yy via AR1 process \n",
    "        R = mm + noise        # measured rfp\n",
    "        G = aa.*mm + noise    # measured gcamp\n",
    "        Sigma_m = Ubasis*(sdqrt^2)*Ubasis' -- low-rank approximation to covariance\n",
    "\n",
    "     Inputs:\n",
    "        R      [Tx1]  - rfp measurements\n",
    "        G      [Tx1]  - gcamp measurements\n",
    "        a0     [Tx1]  - initial value for a(t)\n",
    "        rho_r  [1]   - variance of rfp noise\n",
    "        rho_g  [1]   - variance of gfp noise\n",
    "        mu_y   [1]   - prior mean of y(t)\n",
    "        rho_y  [1]   - prior variance of y(t)\n",
    "        mu_m   [1]   - mean of motion artifact\n",
    "        Ubasis [Txk]  - basis for rank-k approx to variance of motion artifact\n",
    "        Sinv   [kxk]  - Sparse diagonal matrix with truncated inverse singular values of Cm\n",
    "        D      [TxT]  - mapping from neural activity yy to activity-related fluorescence aa\n",
    "\n",
    "     Output: \n",
    "         yy [Tx1] - estimate of neural activity\"\"\"\n",
    "    \n",
    "    lfunc = lambda y : Loss_MotionCoRection(y,R,G,rho_r,rho_g,mu_y,rho_y,mu_m,Um,Sminv,D)\n",
    "    aa = minimize(lfunc,a0)\n",
    "    return(aa.x)\n",
    "\n",
    "def bsxfunmult (a,b):\n",
    "    temp = np.zeros_like(a)\n",
    "    for i in range(len(b)):\n",
    "        temp[i,:] = a[i,:]*b[i]\n",
    "    return(temp)\n",
    "\n",
    "# ============ Loss function =====================================\n",
    "def Loss_MotionCoRection(yy,R,G,rho_r,rho_g,mu_y,rho_y,mu_m,Um,Sminv,D):\n",
    "    #try:\n",
    "    #    yy = np.reshape(yy,(len(yy),1))\n",
    "    #except ValueError:\n",
    "    #    print(yy.shape)\n",
    "    aa = np.linalg.solve(D,yy)\n",
    "    \n",
    "    \n",
    "    # Log-determinant term\n",
    "    dvec = (1/rho_r + 1./rho_g*(aa**2))\n",
    "\n",
    "    M = Sminv + Um.T.dot(bsxfunmult(Um, dvec))\n",
    "    (_,Mlogdet) = np.linalg.slogdet(M)\n",
    "    trm_logdet = .5*(Mlogdet)\n",
    "\n",
    "\n",
    "    # Diag term\n",
    "    trm_diag = .5*(sum((R-mu_m)**2)/rho_r + sum((G-mu_m*aa)**2)/rho_g)\n",
    "\n",
    "    # Quad term\n",
    "    xt = Um.T.dot((R-mu_m)/rho_r + aa*(G-mu_m*aa)/rho_g)\n",
    "    trm_quad = -.5*(xt.T.dot(np.linalg.solve(M,xt)))\n",
    "\n",
    "    # Prior term\n",
    "    trm_prior = .5/rho_y*(sum((yy-mu_y)**2))\n",
    "\n",
    "    # Sum them up\n",
    "    obj = trm_logdet + trm_diag + trm_quad + trm_prior\n",
    "    return (obj)"
   ]
  },
  {
   "cell_type": "markdown",
   "metadata": {},
   "source": [
    "# Read in matlab files"
   ]
  },
  {
   "cell_type": "code",
   "execution_count": null,
   "metadata": {
    "collapsed": true
   },
   "outputs": [],
   "source": [
    "from scipy import sparse\n",
    "import scipy.io as sio"
   ]
  },
  {
   "cell_type": "code",
   "execution_count": null,
   "metadata": {
    "collapsed": false
   },
   "outputs": [],
   "source": [
    "matcont = sio.loadmat('data_script2_simulated_faster.mat')\n",
    "print(matcont.keys())"
   ]
  },
  {
   "cell_type": "code",
   "execution_count": null,
   "metadata": {
    "collapsed": false
   },
   "outputs": [],
   "source": [
    "Loss_MotionCoRection(matcont['aa0'],matcont['rr'],matcont['gg'],matcont['sig_r']**2,\n",
    "                     matcont['sig_g']**2,matcont['mu_y'],matcont['rho_y'],matcont['mu_m'],\n",
    "                     matcont['Ubasis'],matcont['Sminv'],matcont['D'].toarray())"
   ]
  },
  {
   "cell_type": "markdown",
   "metadata": {},
   "source": [
    "Check line by line with matlab code\n"
   ]
  },
  {
   "cell_type": "code",
   "execution_count": null,
   "metadata": {
    "collapsed": false
   },
   "outputs": [],
   "source": [
    "(yy,R,G,rho_r,rho_g,mu_y,rho_y,mu_m,Um,Sminv,D) = (matcont['aa0'],matcont['rr'],matcont['gg'],matcont['sig_r']**2, \n",
    "                                                   matcont['sig_g']**2,matcont['mu_y'],matcont['rho_y'],matcont['mu_m'],\n",
    "                                                   matcont['Ubasis'],matcont['Sminv'].toarray(),matcont['D'].toarray())"
   ]
  },
  {
   "cell_type": "code",
   "execution_count": null,
   "metadata": {
    "collapsed": true
   },
   "outputs": [],
   "source": [
    "def diff(a,b):\n",
    "    c = np.sum(np.abs(a-b))\n",
    "    print(c)\n",
    "    return(c)"
   ]
  },
  {
   "cell_type": "code",
   "execution_count": null,
   "metadata": {
    "collapsed": false
   },
   "outputs": [],
   "source": [
    "aa = np.linalg.solve(D,yy)\n",
    "print(diff(aa,matcont['aa']))\n",
    "\n",
    "# Log-determinant term\n",
    "dvec = (1/rho_r + 1./rho_g*(aa**2))\n",
    "print(diff(dvec,matcont['dvec']))\n",
    "\n",
    "M = Sminv + Um.T.dot(bsxfunmult(Um, dvec))\n",
    "(_,Mlogdet) = np.linalg.slogdet(M)\n",
    "trm_logdet = .5*(Mlogdet)\n",
    "print(diff(trm_logdet,matcont['trm_logdet']))\n",
    "\n",
    "# Diag term\n",
    "trm_diag = .5*(sum((R-mu_m)**2)/rho_r + sum((G-mu_m*aa)**2)/rho_g)\n",
    "\n",
    "# Quad term\n",
    "xt = Um.T.dot((R-mu_m)/rho_r + aa*(G-mu_m*aa)/rho_g)\n",
    "trm_quad = -.5*(xt.T.dot(np.linalg.solve(M,xt)))\n",
    "\n",
    "# Prior term\n",
    "trm_prior = .5/rho_y*(sum((yy-mu_y)**2))\n",
    "\n",
    "# Sum them up\n",
    "obj = trm_logdet + trm_diag + trm_quad + trm_prior\n",
    "print(diff(obj,matcont['obj']))\n",
    "print(obj, matcont['obj'])"
   ]
  },
  {
   "cell_type": "code",
   "execution_count": null,
   "metadata": {
    "collapsed": true
   },
   "outputs": [],
   "source": []
  }
 ],
 "metadata": {
  "kernelspec": {
   "display_name": "Python 3",
   "language": "python",
   "name": "python3"
  },
  "language_info": {
   "codemirror_mode": {
    "name": "ipython",
    "version": 3
   },
   "file_extension": ".py",
   "mimetype": "text/x-python",
   "name": "python",
   "nbconvert_exporter": "python",
   "pygments_lexer": "ipython3",
   "version": "3.5.1"
  }
 },
 "nbformat": 4,
 "nbformat_minor": 0
}
